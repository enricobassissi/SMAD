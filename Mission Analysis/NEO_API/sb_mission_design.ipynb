{
 "cells": [
  {
   "cell_type": "code",
   "execution_count": 3,
   "id": "level-cherry",
   "metadata": {},
   "outputs": [],
   "source": [
    "import requests\n",
    "import math\n",
    "import numpy as np\n",
    "from astropy.time import Time\n",
    "from astropy.table import QTable\n",
    "import pandas as pd\n",
    "import matplotlib.pyplot as plt\n",
    "import matplotlib.dates as mdates\n",
    "#plt.rc('font', family='DejaVu Sans', serif='Times')\n",
    "#plt.rc('text', usetex=True)\n",
    "from pprint import pprint\n",
    "from datetime import datetime"
   ]
  },
  {
   "cell_type": "markdown",
   "id": "floating-cathedral",
   "metadata": {},
   "source": [
    "This API provides access to the JPL/SSD small-body mission design suite. The following operation modes are available:\n",
    "\n",
    "* Mode A (accessible) - retrieves the list of accessible small bodies based on user-defined constraint.\n",
    "* Mode Q (query) - retrieves pre-computed mission options to a specific object. Both impulsive and low-thrust gravity-assist mission options are available.\n",
    "* Mode M (map) - an extension of mode Q for the impulsive case, returns the data required to render a porkchop plot with multiple parameters.\n",
    "* Mode T (mission extension) - retrieves the list of small bodies that come closest (or within a prescribed distance) to a user-defined orbit during a certain period of time. This is a crude filter for finding potential candidates for mission extensions.\n",
    "\n",
    "This script emphazise the development of the following mode\n",
    "\n",
    "* Mode M - In addition to querying the database like in mode Q (ballistic), compute all ballistic mission options to the specified target within certain ranges of launch dates and times of flight.\n",
    "    * In addition, the values of the x-_y_ axes of the maps are also provided:\n",
    "        * dep_date - departure dates from Earth (Modified Julian Date), corresponding to the x-axis.\n",
    "        * tof - times of flight to the target (days), corresponding to the y-axis.\n",
    "        * If dep_date has m elements and tof has n, then the 2D arrays are of dimension n x m.\n",
    "        * vinf_dep\n",
    "        * vinf_arr\n",
    "\n",
    "[Reference of the API construction, data input and output](https://ssd-api.jpl.nasa.gov/doc/mdesign.html)"
   ]
  },
  {
   "cell_type": "markdown",
   "id": "domestic-windows",
   "metadata": {},
   "source": [
    "# Single example Query "
   ]
  },
  {
   "cell_type": "code",
   "execution_count": 4,
   "id": "eleven-amplifier",
   "metadata": {
    "tags": [
     "outputPrepend"
    ]
   },
   "outputs": [
    {
     "output_type": "stream",
     "name": "stdout",
     "text": [
      "637, 63.039, 67.263, 71.999, 77.023, 82.387, 89.073, 129.31, 91.661, 90.608], [128.35, 128.78, 129.23, 129.69, 130.17, 130.67, 131.18, 131.7, 132.23, 132.78, 133.34, 133.91, 134.49, 135.07, 135.67, 136.27, 136.87, 137.48, 138.09, 138.7, 139.32, 139.93, 140.53, 140.64, 138.01, 135.43, 132.91, 130.48, 128.14, 125.9, 123.76, 121.7, 119.74, 117.85, 116.04, 114.28, 112.58, 110.92, 109.29, 107.68, 106.08, 104.47, 102.86, 101.21, 99.52, 97.775, 95.955, 94.041, 92.007, 89.832, 87.491, 84.964, 82.227, 79.262, 76.065, 72.662, 69.124, 65.573, 62.177, 59.154, 56.775, 55.33, 55.08, 56.165, 58.554, 62.055, 66.357, 71.107, 76.022, 81.019, 86.514, 96.446, 95.541, 91.096], [127.68, 128.1, 128.55, 129.0, 129.48, 129.97, 130.47, 130.98, 131.51, 132.06, 132.61, 133.18, 133.75, 134.33, 134.92, 135.52, 136.12, 136.73, 137.33, 137.94, 138.55, 139.16, 139.76, 140.87, 138.22, 135.61, 133.05, 130.58, 128.2, 125.91, 123.73, 121.63, 119.62, 117.7, 115.85, 114.07, 112.34, 110.65, 109.0, 107.37, 105.75, 104.13, 102.5, 100.85, 99.151, 97.398, 95.572, 93.651, 91.61, 89.423, 87.067, 84.518, 81.751, 78.743, 75.487, 72.008, 68.375, 64.714, 61.2, 58.063, 55.592, 54.094, 53.842, 54.979, 57.463, 61.078, 65.477, 70.274, 75.142, 79.918, 84.758, 90.875, 118.63, 92.376], [127.0, 127.42, 127.85, 128.31, 128.77, 129.26, 129.75, 130.26, 130.79, 131.33, 131.88, 132.44, 133.01, 133.59, 134.17, 134.77, 135.36, 135.96, 136.57, 137.17, 137.78, 138.38, 138.98, 141.09, 138.42, 135.78, 133.2, 130.69, 128.26, 125.94, 123.7, 121.56, 119.52, 117.55, 115.67, 113.86, 112.1, 110.39, 108.71, 107.06, 105.43, 103.8, 102.16, 100.5, 98.794, 97.035, 95.204, 93.277, 91.228, 89.032, 86.662, 84.092, 81.294, 78.243, 74.928, 71.369, 67.637, 63.86, 60.22, 56.962, 54.391, 52.835, 52.581, 53.775, 56.364, 60.104, 64.619, 69.489, 74.356, 79.008, 83.468, 88.248, 97.753, 96.095], [126.31, 126.72, 127.15, 127.6, 128.06, 128.54, 129.03, 129.53, 130.05, 130.59, 131.13, 131.69, 132.26, 132.83, 133.41, 134.0, 134.6, 135.2, 135.8, 136.4, 137.0, 137.6, 138.2, 138.79, 138.62, 135.96, 133.35, 130.8, 128.34, 125.96, 123.69, 121.51, 119.42, 117.42, 115.5, 113.66, 111.87, 110.13, 108.44, 106.77, 105.13, 103.48, 101.83, 100.16, 98.45, 96.686, 94.85, 92.918, 90.864, 88.659, 86.275, 83.685, 80.858, 77.763, 74.387, 70.747, 66.911, 63.011, 59.237, 55.849, 53.171, 51.552, 51.295, 52.551, 55.252, 59.131, 63.779, 68.746, 73.646, 78.239, 82.479, 86.604, 91.807, 124.08], [125.62, 126.02, 126.44, 126.88, 127.34, 127.81, 128.29, 128.8, 129.31, 129.84, 130.38, 130.94, 131.5, 132.07, 132.65, 133.24, 133.83, 134.42, 135.02, 135.62, 136.22, 136.82, 137.41, 138.0, 138.82, 136.14, 133.5, 130.91, 128.41, 126.0, 123.68, 121.46, 119.34, 117.3, 115.35, 113.47, 111.65, 109.89, 108.18, 106.49, 104.83, 103.18, 101.52, 99.837, 98.121, 96.353, 94.513, 92.577, 90.517, 88.304, 85.909, 83.299, 80.442, 77.304, 73.866, 70.141, 66.197, 62.166, 58.25, 54.722, 51.927, 50.24, 49.98, 51.302, 54.126, 58.157, 62.955, 68.038, 72.999, 77.579, 81.696, 85.468, 89.384, 96.771], [124.91, 125.31, 125.72, 126.15, 126.6, 127.07, 127.55, 128.05, 128.56, 129.09, 129.63, 130.18, 130.74, 131.31, 131.88, 132.47, 133.05, 133.65, 134.24, 134.84, 135.43, 136.03, 136.62, 137.21, 139.0, 136.31, 133.65, 131.04, 128.5, 126.05, 123.69, 121.43, 119.26, 117.19, 115.2, 113.29, 111.45, 109.67, 107.93, 106.23, 104.55, 102.88, 101.22, 99.528, 97.807, 96.034, 94.191, 92.252, 90.188, 87.969, 85.562, 82.934, 80.049, 76.867, 73.366, 69.554, 65.495, 61.327, 57.257, 53.578, 50.658, 48.896, 48.632, 50.026, 52.983, 57.181, 62.144, 67.362, 72.407, 77.005, 81.062, 84.639, 87.987, 91.991], [124.19, 124.58, 124.99, 125.42, 125.86, 126.33, 126.8, 127.3, 127.81, 128.33, 128.86, 129.41, 129.97, 130.53, 131.11, 131.69, 132.28, 132.87, 133.46, 134.05, 134.65, 135.24, 135.83, 136.41, 137.0, 136.48, 133.8, 131.16, 128.59, 126.1, 123.71, 121.41, 119.2, 117.09, 115.07, 113.13, 111.26, 109.45, 107.69, 105.98, 104.28, 102.61, 100.93, 99.234, 97.508, 95.732, 93.887, 91.945, 89.878, 87.653, 85.237, 82.591, 79.677, 76.452, 72.887, 68.984, 64.806, 60.491, 56.257, 52.415, 49.358, 47.515, 47.247, 48.718, 51.819, 56.199, 61.345, 66.715, 71.861, 76.502, 80.538, 84.01, 87.074, 90.097], [123.47, 123.85, 124.25, 124.68, 125.12, 125.57, 126.05, 126.54, 127.04, 127.56, 128.09, 128.64, 129.19, 129.76, 130.33, 130.91, 131.49, 132.08, 132.67, 133.26, 133.85, 134.45, 135.03, 135.62, 136.2, 136.66, 133.96, 131.3, 128.69, 126.17, 123.74, 121.4, 119.16, 117.01, 114.96, 112.98, 111.09, 109.25, 107.47, 105.74, 104.03, 102.34, 100.66, 98.955, 97.225, 95.447, 93.6, 91.657, 89.588, 87.358, 84.932, 82.271, 79.33, 76.061, 72.43, 68.434, 64.13, 59.659, 55.25, 51.23, 48.026, 46.094, 45.821, 47.376, 50.633, 55.209, 60.555, 66.093, 71.357, 76.059, 80.1, 83.519, 86.436, 89.055], [122.73, 123.11, 123.51, 123.92, 124.36, 124.81, 125.28, 125.77, 126.27, 126.79, 127.32, 127.86, 128.41, 128.97, 129.54, 130.12, 130.7, 131.29, 131.88, 132.47, 133.06, 133.65, 134.24, 134.82, 135.4, 136.83, 134.12, 131.44, 128.81, 126.25, 123.78, 121.41, 119.13, 116.94, 114.86, 112.85, 110.93, 109.07, 107.27, 105.51, 103.79, 102.09, 100.4, 98.692, 96.958, 95.178, 93.33, 91.387, 89.317, 87.084, 84.651, 81.974, 79.006, 75.694, 71.996, 67.903, 63.468, 58.831, 54.232, 50.021, 46.655, 44.627, 44.348, 45.993, 49.42, 54.209, 59.773, 65.496, 70.891, 75.668, 79.733, 83.128, 85.966, 88.398], [121.99, 122.36, 122.75, 123.16, 123.6, 124.05, 124.51, 124.99, 125.49, 126.01, 126.54, 127.08, 127.63, 128.19, 128.76, 129.33, 129.91, 130.5, 131.09, 131.68, 132.27, 132.86, 133.44, 134.02, 134.6, 137.01, 134.28, 131.58, 128.93, 126.34, 123.84, 121.43, 119.11, 116.89, 114.77, 112.74, 110.79, 108.9, 107.08, 105.31, 103.57, 101.86, 100.16, 98.446, 96.709, 94.927, 93.08, 91.137, 89.067, 86.832, 84.391, 81.701, 78.708, 75.353, 71.587, 67.393, 62.819, 58.005, 53.202, 48.783, 45.241, 43.108, 42.823, 44.567, 48.175, 53.197, 58.996, 64.921, 70.461, 75.324, 79.424, 82.814, 85.611, 87.947], [121.24, 121.6, 121.99, 122.4, 122.82, 123.27, 123.73, 124.21, 124.71, 125.22, 125.75, 126.29, 126.84, 127.4, 127.96, 128.54, 129.12, 129.7, 130.29, 130.88, 131.47, 132.06, 132.65, 133.23, 133.81, 134.38, 134.46, 131.74, 129.06, 126.45, 123.91, 121.47, 119.11, 116.86, 114.71, 112.64, 110.66, 108.75, 106.91, 105.12, 103.37, 101.65, 99.935, 98.218, 96.477, 94.695, 92.848, 90.907, 88.837, 86.601, 84.156, 81.453, 78.435, 75.037, 71.203, 66.905, 62.184, 57.182, 52.157, 47.512, 43.778, 41.531, 41.24, 43.09, 46.896, 52.168, 58.224, 64.368, 70.065, 75.023, 79.166, 82.562, 85.336, 87.621], [120.47, 120.84, 121.22, 121.62, 122.05, 122.49, 122.95, 123.43, 123.92, 124.43, 124.96, 125.49, 126.04, 126.6, 127.17, 127.74, 128.32, 128.91, 129.5, 130.08, 130.67, 131.26, 131.85, 132.43, 133.01, 133.58, 134.63, 131.91, 129.21, 126.57, 124.0, 121.52, 119.14, 116.85, 114.66, 112.56, 110.55, 108.62, 106.76, 104.95, 103.18, 101.45, 99.73, 98.007, 96.264, 94.481, 92.635, 90.696, 88.629, 86.393, 83.944, 81.23, 78.189, 74.749, 70.845, 66.439, 61.564, 56.36, 51.096, 46.204, 42.26, 39.888, 39.591, 41.556, 45.577, 51.12, 57.454, 63.834, 69.702, 74.761, 78.952, 82.361, 85.123, 87.376], [119.7, 120.06, 120.44, 120.84, 121.26, 121.7, 122.16, 122.63, 123.13, 123.64, 124.16, 124.7, 125.25, 125.8, 126.37, 126.95, 127.53, 128.11, 128.7, 129.29, 129.88, 130.47, 131.05, 131.64, 165.74, 170.57, 134.82, 132.08, 129.37, 126.71, 124.11, 121.6, 119.18, 116.85, 114.63, 112.5, 110.47, 108.51, 106.62, 104.79, 103.02, 101.27, 99.543, 97.815, 96.07, 94.287, 92.443, 90.507, 88.442, 86.208, 83.756, 81.033, 77.97, 74.489, 70.514, 65.997, 60.96, 55.538, 50.016, 44.854, 40.68, 38.172, 37.869, 39.961, 44.213, 50.049, 56.684, 63.32, 69.37, 74.537, 78.78, 82.204, 84.958, 87.19], [118.93, 119.28, 119.65, 120.05, 120.47, 120.9, 121.36, 121.84, 122.33, 122.84, 123.36, 123.9, 124.44, 125.0, 125.57, 126.15, 126.73, 127.31, 127.9, 128.49, 129.08, 129.67, 130.26, 130.84, 156.24, 174.2, 175.75, 132.27, 129.54, 126.86, 124.24, 121.69, 119.24, 116.88, 114.62, 112.47, 110.4, 108.42, 106.51, 104.66, 102.87, 101.11, 99.375, 97.642, 95.894, 94.112, 92.271, 90.338, 88.278, 86.046, 83.594, 80.862, 77.779, 74.257, 70.211, 65.579, 60.37, 54.717, 48.913, 43.455, 39.029, 36.374, 36.068, 38.297, 42.798, 48.952, 55.913, 62.825, 69.068, 74.349, 78.646, 82.085, 84.834, 87.049], [118.14, 118.49, 118.86, 119.25, 119.67, 120.1, 120.56, 121.03, 121.52, 122.03, 122.56, 123.09, 123.64, 124.2, 124.77, 125.34, 125.93, 126.51, 127.1, 127.69, 128.29, 128.88, 129.47, 156.21, 153.33, 176.91, 178.42, 132.46, 129.73, 127.03, 124.38, 121.81, 119.32, 116.93, 114.64, 112.45, 110.36, 108.35, 106.41, 104.55, 102.74, 100.97, 99.227, 97.489, 95.739, 93.958, 92.119, 90.191, 88.136, 85.908, 83.457, 80.719, 77.617, 74.056, 69.938, 65.187, 59.797, 53.894, 47.783, 42.001, 37.298, 34.485, 34.178, 36.559, 41.329, 47.825, 55.138, 62.348, 68.798, 74.197, 78.549, 82.003, 84.746, 86.944], [117.35, 117.69, 118.06, 118.45, 118.86, 119.3, 119.75, 120.22, 120.72, 121.22, 121.75, 122.29, 122.84, 123.4, 123.97, 124.54, 125.13, 125.71, 126.31, 126.9, 127.49, 128.09, 128.68, 152.95, 151.03, 179.22, 179.21, 132.67, 129.93, 127.21, 124.55, 121.95, 119.43, 117.0, 114.68, 112.46, 110.33, 108.3, 106.34, 104.46, 102.63, 100.85, 99.099, 97.356, 95.604, 93.824, 91.989, 90.066, 88.017, 85.795, 83.346, 80.604, 77.485, 73.886, 69.696, 64.822, 59.241, 53.069, 46.622, 40.483, 35.477, 32.494, 32.193, 34.74, 39.798, 46.662, 54.358, 61.889, 68.557, 74.08, 78.485, 81.953, 84.689, 86.871], [116.54, 116.88, 117.25, 117.64, 118.05, 118.48, 118.94, 119.41, 119.9, 120.41, 120.94, 121.48, 122.03, 122.59, 123.16, 123.74, 124.33, 124.92, 125.51, 126.11, 126.7, 127.3, 156.13, 150.47, 149.07, 149.16, 177.15, 176.17, 130.15, 127.42, 124.73, 122.11, 119.56, 117.1, 114.75, 112.49, 110.34, 108.27, 106.29, 104.39, 102.55, 100.75, 98.992, 97.244, 95.49, 93.711, 91.88, 89.963, 87.921, 85.706, 83.261, 80.517, 77.384, 73.748, 69.486, 64.486, 58.703, 52.24, 45.426, 38.893, 33.554, 30.393, 30.108, 32.837, 38.202, 45.461, 53.57, 61.447, 68.348, 73.997, 78.456, 81.935, 84.661, 86.825], [115.73, 116.07, 116.44, 116.82, 117.23, 117.67, 118.12, 118.6, 119.09, 119.6, 120.13, 120.67, 121.22, 121.78, 122.36, 122.94, 123.53, 124.12, 124.72, 125.31, 125.91, 126.51, 152.34, 148.37, 147.32, 147.55, 175.21, 174.19, 130.38, 127.64, 124.94, 122.29, 119.72, 117.23, 114.84, 112.55, 110.37, 108.28, 106.27, 104.35, 102.49, 100.68, 98.907, 97.153, 95.398, 93.62, 91.793, 89.883, 87.849, 85.643, 83.204, 80.459, 77.314, 73.644, 69.31, 64.179, 58.182, 51.405, 44.188, 37.219, 31.517, 28.172, 27.921, 30.851, 36.537, 44.215, 52.772, 61.022, 68.17, 73.948, 78.458, 81.946, 84.66, 86.804], [114.92, 115.25, 115.62, 116.0, 116.41, 116.85, 117.3, 117.78, 118.27, 118.78, 119.31, 119.86, 120.41, 120.98, 121.55, 122.14, 122.73, 123.33, 123.93, 124.53, 125.13, 125.73, 149.6, 146.51, 145.72, 146.08, 173.38, 172.33, 130.63, 127.89, 125.17, 122.5, 119.9, 117.38, 114.96, 112.64, 110.43, 108.3, 106.27, 104.33, 102.45, 100.63, 98.845, 97.085, 95.328, 93.551, 91.729, 89.826, 87.802, 85.605, 83.174, 80.431, 77.276, 73.574, 69.169, 63.904, 57.681, 50.564, 42.901, 35.45, 29.353, 25.826, 25.636, 28.786, 34.803, 42.922, 51.961, 60.615, 68.023, 73.934, 78.493, 81.986, 84.685, 86.806], [114.1, 114.43, 114.79, 115.18, 115.59, 116.02, 116.48, 116.96, 117.45, 117.97, 118.5, 119.04, 119.6, 120.17, 120.75, 121.34, 121.94, 122.54, 123.14, 123.74, 124.35, 158.44, 147.31, 144.82, 144.25, 144.71, 171.64, 170.57, 130.89, 128.15, 125.43, 122.74, 120.11, 117.56, 115.11, 112.76, 110.51, 108.36, 106.3, 104.33, 102.44, 100.6, 98.807, 97.04, 95.28, 93.505, 91.688, 89.793, 87.778, 85.592, 83.171, 80.434, 77.271, 73.54, 69.065, 63.662, 57.199, 49.713, 41.559, 33.573, 27.048, 23.356, 23.272, 26.659, 33.002, 41.577, 51.134, 60.224, 67.909, 73.955, 78.56, 82.053, 123.26, 123.53], [113.27, 113.6, 113.96, 114.35, 114.76, 115.19, 115.65, 116.13, 116.63, 117.15, 117.68, 118.23, 118.8, 119.37, 119.95, 120.55, 121.14, 121.75, 122.35, 122.96, 123.57, 152.06, 145.3, 143.26, 142.87, 143.42, 144.58, 168.87, 168.09, 169.74, 170.41, 169.73, 120.35, 117.78, 115.29, 112.91, 110.63, 108.45, 106.36, 104.37, 102.45, 100.6, 98.794, 97.02, 95.256, 93.482, 91.67, 89.783, 87.78, 85.607, 83.197, 80.467, 77.301, 73.543, 69.0, 63.456, 56.739, 48.85, 40.152, 31.572, 24.59, 20.774, 20.87, 24.507, 31.148, 40.178, 50.289, 59.851, 67.829, 74.011, 78.658, 124.15, 124.3, 124.57], [112.43, 112.76, 113.12, 113.51, 113.93, 114.36, 114.82, 115.31, 115.81, 116.33, 116.87, 117.42, 117.99, 118.57, 119.15, 119.75, 120.36, 120.96, 121.57, 122.19, 122.8, 148.68, 143.48, 141.8, 141.58, 142.21, 143.41, 167.24, 166.43, 175.95, 176.29, 175.81, 174.55, 118.02, 115.51, 113.09, 110.78, 108.57, 106.45, 104.43, 102.49, 100.62, 98.806, 97.023, 95.257, 93.483, 91.676, 89.798, 87.807, 85.647, 83.252, 80.532, 77.365, 73.585, 68.975, 63.287, 56.301, 47.973, 38.669, 29.429, 21.973, 18.12, 18.515, 22.396, 29.265, 38.726, 49.423, 59.496, 67.783, 74.103, 124.91, 125.01, 125.22, 125.57], [111.59, 111.92, 112.28, 112.67, 113.09, 113.53, 113.99, 114.48, 114.98, 115.51, 116.05, 116.61, 117.18, 117.77, 118.36, 118.96, 119.57, 120.18, 120.8, 121.42, 122.04, 146.0, 141.81, 140.44, 140.35, 141.05, 142.29, 165.65, 164.82, 179.69, 179.41, 179.51, 179.22, 177.7, 115.76, 113.31, 110.96, 108.72, 106.57, 104.52, 102.56, 100.68, 98.844, 97.053, 95.282, 93.509, 91.706, 89.838, 87.859, 85.715, 83.335, 80.628, 77.465, 73.666, 68.993, 63.158, 55.887, 47.079, 37.099, 27.127, 19.197, 15.492, 16.373, 20.447, 27.4, 37.225, 48.534, 59.159, 67.774, 125.65, 125.7, 125.85, 126.15, 126.62], [110.75, 111.08, 111.44, 111.83, 112.25, 112.69, 113.16, 113.65, 114.16, 114.69, 115.24, 115.8, 116.38, 116.97, 117.57, 118.18, 118.79, 119.41, 120.03, 120.65, 121.28, 143.71, 140.26, 139.15, 139.19, 139.96, 141.23, 142.87, 163.26, 162.63, 176.11, 176.04, 176.6, 177.82, 116.05, 113.57, 111.18, 108.9, 106.73, 104.65, 102.67, 100.76, 98.911, 97.11, 95.333, 93.56, 91.762, 89.903, 87.937, 85.81, 83.448, 80.757, 77.601, 73.788, 69.054, 63.072, 55.499, 46.164, 35.428, 24.644, 16.289, 13.1, 14.735, 18.856, 25.632, 35.688, 47.62, 58.841, 126.39, 126.39, 126.5, 126.74, 127.14, 127.75], [109.9, 110.23, 110.59, 110.99, 111.41, 111.86, 112.33, 112.82, 113.34, 113.88, 114.43, 115.0, 115.58, 116.18, 116.78, 117.39, 118.02, 118.64, 119.27, 119.9, 152.06, 141.68, 138.81, 137.93, 138.08, 138.9, 140.2, 141.85, 161.75, 161.1, 173.21, 172.88, 173.14, 174.03, 175.58, 113.86, 111.44, 109.13, 106.92, 104.81, 102.8, 100.87, 99.008, 97.195, 95.412, 93.637, 91.843, 89.993, 88.042, 85.932, 83.591, 80.919, 77.775, 73.952, 69.163, 63.031, 55.138, 45.225, 33.638, 21.96, 13.335, 11.378, 14.024, 17.906, 24.09, 34.14, 46.681, 127.15, 127.1, 127.16, 127.34, 127.68, 128.22, 129.0], [109.04, 109.38, 109.74, 110.14, 110.57, 111.02, 111.5, 112.0, 112.52, 113.06, 113.62, 114.2, 114.79, 115.39, 116.0, 116.62, 117.25, 117.88, 118.51, 119.15, 147.19, 139.84, 137.45, 136.77, 137.02, 137.89, 139.21, 140.87, 142.8, 159.6, 170.68, 170.1, 170.07, 170.63, 171.83, 114.2, 111.74, 109.4, 107.15, 105.01, 102.97, 101.02, 99.136, 97.309, 95.519, 93.742, 91.951, 90.11, 88.173, 86.083, 83.764, 81.114, 77.986, 74.159, 69.32, 63.039, 54.808, 44.256, 31.71, 19.06, 10.573, 10.99, 14.639, 17.915, 22.963, 32.624, 45.717, 127.84, 127.84, 127.97, 128.25, 128.71, 129.4, 130.39], [108.19, 108.52, 108.89, 109.29, 109.73, 110.18, 110.67, 111.17, 111.7, 112.25, 112.82, 113.4, 113.99, 114.6, 115.22, 115.85, 116.48, 117.12, 117.76, 118.4, 143.87, 138.15, 136.17, 135.66, 136.01, 136.92, 138.25, 139.92, 141.84, 158.15, 157.63, 167.64, 167.33, 167.58, 168.43, 169.93, 112.09, 109.7, 107.42, 105.25, 103.18, 101.2, 99.297, 97.455, 95.655, 93.875, 92.087, 90.255, 88.332, 86.262, 83.967, 81.343, 78.236, 74.412, 69.529, 63.1, 54.511, 43.252, 29.621, 15.939, 8.6237, 12.39, 16.67, 19.101, 22.49, 31.212, 128.64, 128.57, 128.63, 128.84, 129.23, 129.84, 130.73, 131.96], [107.32, 107.67, 108.04, 108.45, 108.88, 109.35, 109.83, 110.35, 110.88, 111.44, 112.01, 112.6, 113.21, 113.82, 114.45, 115.09, 115.73, 116.37, 117.02, 117.67, 141.19, 136.59, 134.95, 134.61, 135.03, 135.98, 137.33, 138.99, 140.9, 156.72, 156.2, 165.45, 164.88, 164.83, 165.35, 166.49, 168.3, 110.06, 107.74, 105.53, 103.43, 101.42, 99.494, 97.634, 95.823, 94.037, 92.251, 90.427, 88.52, 86.47, 84.202, 81.607, 78.525, 74.711, 69.792, 63.218, 54.252, 42.207, 27.343, 12.632, 8.5953, 15.351, 19.866, 21.46, 22.915, 129.49, 129.35, 129.34, 129.47, 129.78, 130.31, 131.1, 132.23, 133.78], [106.46, 106.81, 107.19, 107.6, 108.04, 108.51, 109.01, 109.53, 110.07, 110.63, 111.22, 111.82, 112.43, 113.05, 113.69, 114.33, 114.98, 115.63, 116.28, 116.94, 138.89, 135.15, 133.81, 133.61, 134.1, 135.07, 136.42, 138.08, 139.97, 142.07, 154.79, 154.38, 162.7, 162.36, 162.55, 163.34, 164.78, 110.47, 108.11, 105.86, 103.72, 101.68, 99.729, 97.849, 96.024, 94.232, 92.445, 90.628, 88.735, 86.708, 84.467, 81.905, 78.854, 75.057, 70.111, 63.397, 54.033, 41.114, 24.845, 9.2992, 10.93, 19.349, 23.883, 24.798, 24.39, 130.2, 130.11, 130.16, 130.39, 130.82, 131.52, 132.53, 133.95, 135.89], [105.6, 105.95, 106.33, 106.75, 107.2, 107.68, 108.18, 108.71, 109.26, 109.83, 110.42, 111.03, 111.65, 112.29, 112.93, 113.58, 114.24, 114.9, 115.56, 148.4, 136.86, 133.8, 132.72, 132.64, 133.19, 134.19, 135.55, 137.18, 139.06, 141.14, 153.42, 153.0, 160.75, 160.14, 160.03, 160.47, 161.54, 163.28, 108.53, 106.24, 104.06, 101.99, 100.01, 98.102, 96.26, 94.459, 92.671, 90.86, 88.981, 86.975, 84.765, 82.238, 79.223, 75.452, 70.49, 63.642, 53.861, 39.963, 22.091, 6.5769, 14.842, 23.976, 28.426, 28.855, 131.14, 130.96, 130.92, 131.05, 131.39, 131.98, 132.88, 134.17, 135.95, 138.37], [104.73, 105.09, 105.48, 105.9, 106.36, 106.84, 107.36, 107.89, 108.45, 109.04, 109.64, 110.25, 110.88, 111.53, 112.18, 112.84, 113.5, 114.17, 114.84, 142.82, 135.05, 132.54, 131.69, 131.72, 132.32, 133.34, 134.69, 136.31, 138.16, 140.21, 152.07, 151.65, 159.02, 158.16, 157.76, 157.87, 158.57, 159.93, 109.01, 106.67, 104.45, 102.34, 100.33, 98.397, 96.536, 94.722, 92.93, 91.124, 89.258, 87.274, 85.094, 82.606, 79.634, 75.897, 70.931, 63.96, 53.743, 38.746, 19.042, 6.345, 19.605, 28.967, 33.27, 33.381, 131.9, 131.76, 131.79, 132.02, 132.5, 133.28, 134.44, 136.06, 138.29, 141.31], [103.86, 104.22, 104.62, 105.06, 105.52, 106.01, 106.54, 107.08, 107.65, 108.25, 108.86, 109.48, 110.12, 110.77, 111.44, 112.11, 112.78, 113.46, 114.14, 139.25, 133.41, 131.36, 130.71, 130.84, 131.48, 132.51, 133.85, 135.44, 137.27, 139.29, 141.48, 150.33, 150.0, 156.41, 155.74, 155.53, 155.88, 156.84, 158.48, 107.17, 104.9, 102.75, 100.7, 98.737, 96.853, 95.024, 93.225, 91.421, 89.567, 87.605, 85.457, 83.011, 80.087, 76.394, 71.437, 64.356, 53.685, 37.448, 15.661, 9.45, 24.84, 34.132, 38.24, 132.97, 132.7, 132.62, 132.74, 133.09, 133.75, 134.76, 136.23, 138.27, 141.06, 144.82], [102.99, 103.36, 103.77, 104.21, 104.69, 105.19, 105.72, 106.28, 106.86, 107.46, 108.08, 108.72, 109.37, 110.03, 110.7, 111.38, 112.07, 112.75, 113.44, 136.46, 131.92, 130.25, 129.77, 129.99, 130.67, 131.7, 133.02, 134.59, 136.38, 138.37, 140.52, 149.03, 148.7, 154.88, 153.95, 153.45, 153.45, 154.03, 155.26, 157.18, 105.42, 103.22, 101.12, 99.128, 97.216, 95.368, 93.559, 91.754, 89.91, 87.969, 85.854, 83.452, 80.582, 76.943, 72.012, 64.838, 53.698, 36.057, 11.925, 14.237, 30.325, 39.326, 134.19, 133.78, 133.56, 133.55, 133.78, 134.29, 135.15, 136.45, 138.31, 140.87, 144.36, 149.04], [102.13, 102.5, 102.92, 103.37, 103.85, 104.37, 104.91, 105.48, 106.07, 106.68, 107.32, 107.96, 108.63, 109.3, 109.98, 110.67, 111.36, 112.06, 112.76, 134.13, 130.55, 129.21, 128.89, 129.17, 129.88, 130.91, 132.21, 133.75, 135.5, 137.44, 139.56, 141.83, 147.42, 147.17, 152.39, 151.61, 151.28, 151.49, 152.31, 153.81, 106.0, 103.75, 101.61, 99.576, 97.631, 95.759, 93.935, 92.127, 90.29, 88.369, 86.287, 83.931, 81.12, 77.546, 72.657, 65.412, 53.793, 34.554, 7.8996, 19.784, 35.896, 44.431, 135.04, 134.65, 134.48, 134.56, 134.92, 135.62, 136.74, 138.4, 140.74, 143.96, 148.32, 154.11]]}\n"
     ]
    }
   ],
   "source": [
    "url_base = 'https://ssd-api.jpl.nasa.gov/mdesign.api'\n",
    "asteroid_name = '2012TC4' # designation (provisional or IAU-number) of the desired object (e.g., 2015 AB or 141P or 433).\n",
    "                         # NOTE: when submitting a des containing a space in your query string, you must \n",
    "                         # replace the space with %20, for example 2015%20AB.\n",
    "mjd0 = 59215            # 21Jan2021 # first launch date to be explored (Modified Julian Date)\n",
    "span = 365                # duration of the launch-date period to be explored (days)\n",
    "tof_min = 50          # minimum time of flight to be considered (days)\n",
    "tof_max = 720       # maximum time of flight to be considered (days)\n",
    "step = 5            # time step used to advance both the launch date and the time of flight (days). \n",
    "                    # The size of the transfer map is limited to 1,500,000 points\n",
    "\n",
    "sim_lim_points = 1500000 #1.5 millions\n",
    "if int(span)/int(step) > sim_lim_points:\n",
    "    print('outside of tool limits') \n",
    "\n",
    "url = f'{url_base}?sstr={str(asteroid_name)}&mjd0={str(mjd0)}&span={str(span)}&tof-min={str(tof_min)}&tof-max={str(tof_max)}&step={str(step)}'\n",
    "r = requests.get(url)\n",
    "\n",
    "data = r.json()\n",
    "\n",
    "print(data)"
   ]
  },
  {
   "cell_type": "markdown",
   "id": "further-background",
   "metadata": {},
   "source": [
    "# Functions"
   ]
  },
  {
   "cell_type": "code",
   "execution_count": null,
   "id": "lucky-fraction",
   "metadata": {},
   "outputs": [],
   "source": [
    "def get_mission_profiles(asteroid_name,mjd0,span,tof_min,tof_max,step):\n",
    "    # asteroid_name:    designation (provisional or IAU-number) of the desired object (e.g., 2015 AB or 141P or 433).\n",
    "    #                   NOTE: when submitting a des containing a space in your query string, you must replace the space with %20, for example 2015%20AB\n",
    "    # mjd0:             first launch date to be explored (Modified Julian Date)\n",
    "    # span:             duration of the launch-date period to be explored (days)\n",
    "    # tof-min:          minimum time of flight to be considered (days)\n",
    "    # tof-max:          maximum time of flight to be considered (days)\n",
    "    # step:             time step used to advance both the launch date and the time of flight (days). \n",
    "                        \n",
    "    # The size of the transfer map is limited to 1,500,000 points\n",
    "    sim_lim_points = 1500000 #1.5 millions\n",
    "    if int(span)/int(step) > sim_lim_points:\n",
    "        print('outside of tool limits') # TODO return error\n",
    "    \n",
    "    # Construction of the HTTP request\n",
    "    url_base = 'https://ssd-api.jpl.nasa.gov/mdesign.api'\n",
    "    url = f'{url_base}?sstr={str(asteroid_name)}&mjd0={str(mjd0)}&span={str(span)}&tof-min={str(tof_min)}&tof-max={str(tof_max)}&step={str(step)}'\n",
    "    r = requests.get(url)\n",
    "    data = r.json()\n",
    "\n",
    "    # Elaboration of data\n",
    "    available_missions = len(data['selectedMissions'])\n",
    "    mission_profiles={};\n",
    "    mjd01Jan2021 = 59215\n",
    "    mjd31Dec2028 = 62136\n",
    "    mjd01Jan2048 = 69076\n",
    "    j = 0\n",
    "    for mission_id in range(available_missions):\n",
    "        if (data[\"selectedMissions\"][mission_id][0] > mjd01Jan2021 and data[\"selectedMissions\"][mission_id][0] < mjd31Dec2028 and data[\"selectedMissions\"][mission_id][1] < mjd01Jan2048):\n",
    "            sel_profile={\"fullname\": data[\"object\"][\"fullname\"],\n",
    "                      \"mjd0\": data[\"selectedMissions\"][mission_id][0],\n",
    "                      \"mjdf\": data[\"selectedMissions\"][mission_id][1],\n",
    "                      \"tof\": data[\"selectedMissions\"][mission_id][9],\n",
    "                      \"vinf_dep\": data[\"selectedMissions\"][mission_id][2],\n",
    "                      \"vinf_arr\": data[\"selectedMissions\"][mission_id][3],\n",
    "                      \"earth_dist\": data[\"selectedMissions\"][mission_id][5],\n",
    "                      \"phase_ang\": data[\"selectedMissions\"][mission_id][4], \n",
    "                      \"elong_arr\": data[\"selectedMissions\"][mission_id][6], \n",
    "                      \"decl_dep\": data[\"selectedMissions\"][mission_id][7],\n",
    "                      \"approach_ang\": data[\"selectedMissions\"][mission_id][8],      \n",
    "                     };\n",
    "            mission_profiles[str(j)]=sel_profile;\n",
    "            j = j+1\n",
    "    \n",
    "    # Find min dv mission profile\n",
    "    mission_profile_min_dv, mp_dv_plot = get_min_dv_mission_profile(mission_profiles);\n",
    "    \n",
    "    # Porkchop data\n",
    "    porkchop_dv, dep_date, tof, pc_plot = get_mission_porkchop(data);\n",
    "    \n",
    "    return mission_profiles, porkchop_dv, dep_date, tof, pc_plot, mission_profile_min_dv, mp_dv_plot\n",
    "    #return mission_profiles"
   ]
  },
  {
   "cell_type": "code",
   "execution_count": null,
   "id": "abroad-bargain",
   "metadata": {},
   "outputs": [],
   "source": [
    "def get_min_dv_mission_profile(mission_profiles):\n",
    "     # Find the best Mission Profile\n",
    "    dv = np.zeros(len(mission_profiles.keys()))\n",
    "    for profile in range(len(mission_profiles)):\n",
    "        dv[profile] = mission_profiles[str(profile)]['vinf_dep'] + mission_profiles[str(profile)]['vinf_arr']\n",
    "\n",
    "    index = np.linspace(0,len(dv)-1,len(dv))\n",
    "    mask = [dv == np.min(dv)]\n",
    "    idx_min = index[tuple(mask)]\n",
    "    if type(idx_min) == float:\n",
    "        mission_profile_min_dv = mission_profiles[str(int(idx_min))]\n",
    "    else:\n",
    "        #val, idx_min = min((val, idx) for (idx, val) in enumerate(dv))\n",
    "        mission_profile_min_dv = mission_profiles[str(int(idx_min[0]))] # NOTE: there could be more than one best solution, here i took arbitrarly the first\n",
    "    \n",
    "    # Plot of the mission profiles and highlight the best one\n",
    "    fig = plt.figure()\n",
    "    plt.plot(dv, \"*\");\n",
    "    fig.suptitle('Mission Profile dv Distribution for '+ mission_profile_min_dv[\"fullname\"])\n",
    "    plt.xlabel('$idx$ (-)')\n",
    "    plt.ylabel('$dv$ (km/s)')\n",
    "    plt.plot(int(idx_min[0]), dv[int(idx_min[0])], \"r+\");\n",
    "    \n",
    "    return mission_profile_min_dv, fig"
   ]
  },
  {
   "cell_type": "code",
   "execution_count": null,
   "id": "peripheral-brown",
   "metadata": {},
   "outputs": [],
   "source": [
    "def get_mission_porkchop(data):\n",
    "    # to pass mjd2000 to date format\n",
    "    dep_date=Time(data[\"dep_date\"], format='mjd').to_value('iso', 'date');\n",
    "    tof=data[\"tof\"];\n",
    "    \n",
    "    # Elaboration of data\n",
    "    m = len(data[\"dep_date\"])\n",
    "    n = len(data[\"tof\"])\n",
    "    porkchop_map = np.zeros([n,m]) # porkchop_map[i,j]\n",
    "    for i in range(n):\n",
    "        for j in range(m):\n",
    "            porkchop_map[i,j]=abs(data[\"vinf_arr\"][i][j])+abs(data[\"vinf_dep\"][i][j])\n",
    "    \n",
    "    # Porchop Plot\n",
    "    #fig, ax = plt.subplots()\n",
    "    fig = plt.figure()\n",
    "    plt.contour(dep_date, tof, porkchop_map, np.linspace(0,30,31), cmap=\"gnuplot\") # arbitrary max contour level at dv = 30 km/s\n",
    "    fig.suptitle('Porkchop Plot for '+ data[\"object\"][\"fullname\"])\n",
    "    plt.xlabel('$Date_{dep}$ (-)')\n",
    "    plt.ylabel('$ToF$ (d)')       \n",
    "    plt.colorbar()\n",
    "    \n",
    "    locator = mdates.MonthLocator()\n",
    "    plt.gca().xaxis.set_major_locator(locator)\n",
    "    \n",
    "    plt.gcf().autofmt_xdate()\n",
    "\n",
    "    # date as xtick \n",
    "    # Major ticks every 6 months.\n",
    "    # fmt_half_year = mdates.MonthLocator(interval=6)\n",
    "    # ax.xaxis.set_major_locator(fmt_half_year)\n",
    "    # Minor ticks every month.\n",
    "    # fmt_month = mdates.MonthLocator()\n",
    "    # ax.xaxis.set_minor_locator(fmt_month)\n",
    "    # Text in the x axis will be displayed in 'YYYY-mm' format.\n",
    "    #ax.xaxis.set_major_formatter(mdates.DateFormatter('%Y-%m'))\n",
    "    # Rotates and right aligns the x labels, and moves the bottom of the axes up to make room for them.\n",
    "    #fig.autofmt_xdate()\n",
    "    \n",
    "    return porkchop_map, dep_date, tof, fig"
   ]
  },
  {
   "cell_type": "code",
   "execution_count": null,
   "id": "buried-settlement",
   "metadata": {},
   "outputs": [],
   "source": [
    "##### DO NOT RUN NOW, TO CHECK THE USE\n",
    "\n",
    "\n",
    "# Mode T - Request list of small bodies that come closest (or within a prescribed distance) to a user-specified heliocentric \n",
    "# orbit (assumes two-body dynamics). Proxy for easiest-to-reach targets for an extended mission phase.\n",
    "# example url\n",
    "# https://ssd-api.jpl.nasa.gov/mdesign.api?ec=0.2056408220896557&qr=0.3074958016246215&tp=2459067.6508400026&\n",
    "# om=48.30597718083336&w=29.18348714438387&in=7.003733902930839&jd0=2458849.5&jdf=2459132.5&maxout=100&maxdist=0.0010\n",
    "\n",
    "def get_close_approach_to_asteroid(orb_params,jd0,jdf,n_object_requested,distance_within):\n",
    "    # orb_params:            array containing the orbital parameters required to run the query\n",
    "    #     ec:                eccentricity [>0]\n",
    "    #     qr:                perihelion distance [>0]\n",
    "    #     tp:                time of perihelion passage (JD)\n",
    "    #     OM:                longitude of the ascending node (deg) [0,360]\n",
    "    #     om:                argument of periapsis (deg) [0,360]\n",
    "    #     incl:              inclination (deg) [0,180]\n",
    "    # jd0:                   beginning of the requested time span (JD)\n",
    "    # jdf:                   end of the requested time span (JD). Time span must not be longer than one year\n",
    "    # n_object_requested:    maximum number of records to be returned\n",
    "    # distance_within:       ignore objects with distance of closest approach greater than \"distance_within\" [>0, optional]\n",
    "    \n",
    "    # Extraction of inputs\n",
    "    ec = orb_params[1]\n",
    "    qr = orb_params[2]\n",
    "    tp = orb_params[3]\n",
    "    OM = orb_params[4]\n",
    "    om = orb_params[5]\n",
    "    incl = orb_params[6]\n",
    "    \n",
    "    # Construction of the HTTP request\n",
    "    url_base = 'https://ssd-api.jpl.nasa.gov/mdesign.api'\n",
    "    url = f'{url_base}?ec={str(ec)}&qr={str(qr)}&tp={str(tp)}&om={str(OM)}&w={str(om)}&in={str(incl)}&jd0={str(jd0)}&jdf={str(jdf)}&maxout={str(n_object_requested)}&maxdist={str(distance_within)}'\n",
    "    r = requests.get(url)\n",
    "    data = r.json()\n",
    "    return data"
   ]
  },
  {
   "cell_type": "markdown",
   "id": "environmental-deposit",
   "metadata": {},
   "source": [
    "# Function Call"
   ]
  },
  {
   "cell_type": "code",
   "execution_count": null,
   "id": "obvious-medicine",
   "metadata": {
    "scrolled": true
   },
   "outputs": [],
   "source": [
    " # example to show that actually 2012qd8 works\n",
    "url_base = 'https://ssd-api.jpl.nasa.gov/mdesign.api'\n",
    "url = f'{url_base}?sstr=2012QD8&mjd0={str(59215)}&span={str(365)}&tof-min={str(50)}&tof-max={str(700)}&step={str(5)}'\n",
    "r = requests.get(url)\n",
    "data = r.json()\n",
    "available_missions = len(data['selectedMissions'])\n",
    "mission_profiles={};\n",
    "mjd01Jan2021 = 59215\n",
    "mjd01Jan2048 = 69076\n"
   ]
  },
  {
   "cell_type": "code",
   "execution_count": null,
   "id": "religious-argentina",
   "metadata": {},
   "outputs": [],
   "source": [
    "mjd01Jan2048 = 69076\n",
    "Time(mjd01Jan2048, format='mjd').to_value('iso', 'date')"
   ]
  },
  {
   "cell_type": "code",
   "execution_count": null,
   "id": "cultural-ordinary",
   "metadata": {},
   "outputs": [],
   "source": [
    "mission_profiles\n",
    "Time(data[\"dep_date\"], format='mjd').to_value('iso', 'date')"
   ]
  },
  {
   "cell_type": "code",
   "execution_count": null,
   "id": "spiritual-chicago",
   "metadata": {},
   "outputs": [],
   "source": [
    "dep_date_2012tc4"
   ]
  },
  {
   "cell_type": "code",
   "execution_count": null,
   "id": "every-alarm",
   "metadata": {},
   "outputs": [],
   "source": [
    "# single asteroid\n",
    "req_ast_name = '2012QD8'\n",
    "req_mjd0 = 59215\n",
    "req_duration = 365\n",
    "req_min_tof = 50\n",
    "req_max_tof = 700\n",
    "req_step_size = 5\n",
    "\n",
    "missions_2012tc4, porkchop_dv_2012tc4, dep_date_2012tc4, tof_2012tc4, pc_plot_2012tc4, mp_min_dv_2012tc4, mp_dv_plot_2012tc4 = get_mission_profiles(req_ast_name,req_mjd0,req_duration,req_min_tof,req_max_tof,req_step_size)\n",
    "#missions_2012tc4 = get_mission_profiles(req_ast_name,req_mjd0,req_duration,req_min_tof,req_max_tof,req_step_size)\n",
    "#missions_2012tc4"
   ]
  },
  {
   "cell_type": "code",
   "execution_count": null,
   "id": "neural-canal",
   "metadata": {},
   "outputs": [],
   "source": [
    "mission_stuff, porkchop_dv_stuff, dep_date_stuff, tof_stuff, pc_plot_stuff, mp_min_dv_stuff, mp_dv_plot_stuff = \\\n",
    "    get_mission_profiles(req_ast_name[0],req_mjd0,req_duration,req_min_tof,req_max_tof,req_step_size)"
   ]
  },
  {
   "cell_type": "code",
   "execution_count": null,
   "id": "separated-sheet",
   "metadata": {},
   "outputs": [],
   "source": [
    "# list of asteroids name\n",
    "# req_ast_name = ['2012QD8','2005WG57','2012BY1','2012SY49','2008XU2','2008KN11','2020UE','2006HX57','2006SC']\n",
    "req_ast_name = ['2005WG57','2012BY1']\n",
    "req_mjd0 = 59366 # 01 Jun 2021\n",
    "req_duration = 2405 # days till 01 Jan 2028, end of launch time window\n",
    "req_min_tof = 50 # blind\n",
    "req_max_tof = 720 # blind\n",
    "req_step_size = 50\n",
    "#missions={}\n",
    "for asteroid in range(len(req_ast_name)):\n",
    "    mission[asteroid] = get_mission_profiles(req_ast_name[asteroid],req_mjd0,req_duration,req_min_tof,req_max_tof,req_step_size)\n",
    "    \n",
    "    #stuff={\"mission_profiles\": mission_profiles,\n",
    "          #\"porkchop_dv\": porkchop_dv,\n",
    "          #\"dep_date\": dep_date,\n",
    "          #\"tof\": tof,\n",
    "          #\"pc_plot\": pc_plot,\n",
    "          #\"mp_min_dv\": mp_min_dv,\n",
    "          #\"mp_dv_plot\": mp_dv_plot,    \n",
    "         #};\n",
    "   # missions[asteroid]=stuff;\n",
    "\n"
   ]
  },
  {
   "cell_type": "markdown",
   "id": "boring-publication",
   "metadata": {},
   "source": [
    "# Mode A"
   ]
  },
  {
   "cell_type": "code",
   "execution_count": null,
   "id": "obvious-purple",
   "metadata": {},
   "outputs": [],
   "source": [
    "def get_accessible_sb(records_lim,optim_crit,years,sb_class,rdzvs,profile,ball_flag,lt_flag):\n",
    "    # If ballistic missions are requested, the API expects crit to be defined. \n",
    "    # If low-thrust missions are requested, the API expects profile and rdzvs to be defined.\n",
    "    \n",
    "    ## INPUT\n",
    "    # lim:         number of records to be retrieved form the SBDB\n",
    "    # crit:        optimality criterion for selecting ballistic missions: \n",
    "    #              1) min. departure V-infinity, \n",
    "    #              2) min. arrival V-infinity, \n",
    "    #              3) min. total delta-V, \n",
    "    #              4) min. tof + min. departure V-infinity, \n",
    "    #              5) min. tof + min. arrival V-infinity, \n",
    "    #              6) min. tof + min. total delta-V\n",
    "    # year:        launch year or list of launch years for which optimal missions are to be retrieved \n",
    "    #              from the SBDB [current year + [0, 20]]\n",
    "    # rdzvs        when requesting low-thrust missions, if rdzvs is true, only rendezvous missions are retrieved from the SBDB. \n",
    "    #              If false, flyby missions will be retrieved [boolean]\n",
    "    # profile      when requesting low-thrust missions, profile maps to the spacecraft configuration: \n",
    "    #              1) Mid-size spacecraft, 2) smallsat\n",
    "    \n",
    "    ## OUTPUT BALLISTIC\n",
    "    # name - small-body full name.\n",
    "    # date0 - departure date (cal).\n",
    "    # MJD0 - departure date (MJD).\n",
    "    # datef - arrival date (cal).\n",
    "    # MJDF - arrival date (MJD).\n",
    "    # c3_dep - departure characteristic energy C3 (km^2/s^2).\n",
    "    # vinf_dep - departure V-infinity (km/s).\n",
    "    # vinf_arr - arrival V-infinity (km/s).\n",
    "    # dv_tot - total delta-V (km/s).\n",
    "    # tof - time of flight (d).\n",
    "    # class - three-letter orbit class code.\n",
    "    # H - absolute magnitude.\n",
    "    # condition_code - orbit condition code.\n",
    "    # neo - Near-Earth Object flag.\n",
    "    # pha - Potentially-Hazardous Asteroid flag.\n",
    "    # bin - binary flag.\n",
    "    # pdes - designation.\n",
    "    \n",
    "    ## OUTPUT RENDEZ-VOUS\n",
    "    # name - small-body full name.\n",
    "    # date0 - departure date (cal).\n",
    "    # MJD0 - departure date (MJD).\n",
    "    # datef - arrival date (cal).\n",
    "    # MJDF - arrival date (MJD).\n",
    "    # c3_dep - departure characteristic energy C3 (km^2/s^2).\n",
    "    # vinf_dep - departure V-infinity (km/s).\n",
    "    # vinf_arr - arrival V-infinity (km/s).\n",
    "    # mass_dep - departure mass.\n",
    "    # mass_arr - arrival mass.\n",
    "    # tof - time of flight (d).\n",
    "    # nga - number of Earth gravity assists.\n",
    "    # rdzvs - rendezvous flag.\n",
    "    # class - three-letter orbit class code.\n",
    "    # H - absolute magnitude.\n",
    "    # condition_code - orbit condition code.\n",
    "    # neo - Near-Earth Object flag.\n",
    "    # pha - Potentially-Hazardous Asteroid flag.\n",
    "    # bin - binary flag.\n",
    "    # pdes - designation.\n",
    "    \n",
    "    url_base = 'https://ssd-api.jpl.nasa.gov/mdesign.api'\n",
    "    \n",
    "    if (ball_flag==1 and lt_flag == 0): # ballistic profile mission requested\n",
    "        # https://ssd-api.jpl.nasa.gov/mdesign.api?lim=200&crit=1&year=2025,2026,2027,2028,2029&sb_group=neo\n",
    "        # Construction of the HTTP request\n",
    "        url = f'{url_base}?lim={str(records_lim)}&crit={str(optim_crit)}&year={str(years)}&sb_group={str(sb_class)}'\n",
    "    elif (ball_flag == 0 and lt_flag == 1): # low thrust profile mission requested\n",
    "        # https://ssd-api.jpl.nasa.gov/mdesign.api?lim=200&rdzvs=true&profile=1&year=2025,2026,2027,2028,2029&sb_class=TJN\n",
    "        # Construction of the HTTP request\n",
    "        url = f'{url_base}?lim={str(records_lim)}&rdzvs={str(rdzvs)}&profile={str(profile)}&year={str(years)}&sb_class={str(sb_class)}'\n",
    "        \n",
    "    r = requests.get(url)\n",
    "    data = r.json()\n",
    "    \n",
    "    # Elaboration of data\n",
    "    accessible_valid_sb={};\n",
    "    # Definition of limit condition to consider valid small body among the accessible ones\n",
    "    mjd31Dec2028 = 62136\n",
    "    mjd01Jan2048 = 69076\n",
    "    lim_magnitude = 28\n",
    "    lim_OCC = 7\n",
    "    lim_c3_dep = 15 # km^2/s^2\n",
    "    \n",
    "    if (ball_flag==1 and lt_flag == 0): # ballistic profile mission requested\n",
    "        j = 0\n",
    "        for accessible_sb in range(int(data['md_constraints']['lim'])):\n",
    "            if (int(data['data'][accessible_sb][2]) < mjd31Dec2028 and int(data['data'][accessible_sb][4]) < mjd01Jan2048 and float(data['data'][accessible_sb][11]) < lim_magnitude and int(data['data'][accessible_sb][12]) < lim_OCC and float(data['data'][accessible_sb][5]) < lim_c3_dep):\n",
    "                valid_sb={\"fullname\": data['data'][accessible_sb][0],\n",
    "                          \"mjd0\": data['data'][accessible_sb][2],\n",
    "                          \"mjdf\": data['data'][accessible_sb][4],\n",
    "                          \"c3_dep\": data['data'][accessible_sb][5],\n",
    "                          \"vinf_dep\": data['data'][accessible_sb][6],\n",
    "                          \"vinf_arr\": data['data'][accessible_sb][7],\n",
    "                          \"dv_tot\": data['data'][accessible_sb][8],\n",
    "                          \"tof\": data['data'][accessible_sb][9],\n",
    "                          \"class\": data['data'][accessible_sb][10],\n",
    "                          \"H\": data['data'][accessible_sb][11],\n",
    "                          \"condition_code\": data['data'][accessible_sb][12],\n",
    "                          };\n",
    "                accessible_valid_sb[str(j)]=valid_sb;\n",
    "                j = j+1\n",
    "    elif (ball_flag == 0 and lt_flag == 1): # low thrust profile mission requested\n",
    "        j = 0\n",
    "        for accessible_sb in range(int(data['md_constraints']['lim'])):\n",
    "            if (int(data['data'][accessible_sb][2]) < mjd31Dec2028 and int(data['data'][accessible_sb][4]) < mjd01Jan2048 and float(data['data'][accessible_sb][14]) < lim_magnitude and int(data['data'][accessible_sb][15]) < lim_OCC and float(data['data'][accessible_sb][5]) < lim_c3_dep):\n",
    "                valid_sb={\"fullname\": data['data'][accessible_sb][0],\n",
    "                          \"mjd0\": data['data'][accessible_sb][2],\n",
    "                          \"mjdf\": data['data'][accessible_sb][4],\n",
    "                          \"c3_dep\": data['data'][accessible_sb][5],\n",
    "                          \"vinf_dep\": data['data'][accessible_sb][6],\n",
    "                          \"vinf_arr\": data['data'][accessible_sb][7],\n",
    "                          \"mass_dep\": data['data'][accessible_sb][8],\n",
    "                          \"mass_arr\": data['data'][accessible_sb][9],\n",
    "                          \"tof\": data['data'][accessible_sb][10],\n",
    "                          \"nga\": data['data'][accessible_sb][11],\n",
    "                          \"rdzvs\": data['data'][accessible_sb][12],\n",
    "                          \"class\": data['data'][accessible_sb][13],\n",
    "                          \"H\": data['data'][accessible_sb][14],\n",
    "                          \"condition_code\": data['data'][accessible_sb][15],\n",
    "                          };\n",
    "                accessible_valid_sb[str(j)]=valid_sb;\n",
    "                j = j+1        \n",
    "\n",
    "    return accessible_valid_sb"
   ]
  },
  {
   "cell_type": "code",
   "execution_count": null,
   "id": "reasonable-place",
   "metadata": {},
   "outputs": [],
   "source": [
    "def get_min_dv_accessible_sb(accessible_valid_sb):\n",
    "    # Find the best Mission Profile among the valid accessible small bodies\n",
    "    dv = np.zeros(len(accessible_valid_sb.keys()))\n",
    "    for profile in range(len(accessible_valid_sb)):\n",
    "        dv[profile] = accessible_valid_sb[str(profile)]['dv_tot']\n",
    "\n",
    "    index = np.linspace(0,len(dv)-1,len(dv))\n",
    "    mask = [dv == np.min(dv)]\n",
    "    idx_min = index[tuple(mask)]\n",
    "    if type(idx_min) == float:\n",
    "        accessible_sb_min_dv = accessible_valid_sb[str(int(idx_min))]\n",
    "    else:\n",
    "        #val, idx_min = min((val, idx) for (idx, val) in enumerate(dv))\n",
    "        accessible_sb_min_dv = accessible_valid_sb[str(int(idx_min[0]))] # NOTE: there could be more than one best solution, here i took arbitrarly the first\n",
    "    \n",
    "    # Plot of the mission profiles and highlight the best one\n",
    "    fig = plt.figure()\n",
    "    plt.plot(dv, \"*\");\n",
    "    fig.suptitle('Accessible Small Bodies Mission dv, and the minimum is ' + accessible_sb_min_dv[\"fullname\"])\n",
    "    plt.xlabel('$idx$ (-)')\n",
    "    plt.ylabel('$dv$ (km/s)')\n",
    "    plt.plot(int(idx_min[0]), dv[int(idx_min[0])], \"r+\");\n",
    "    \n",
    "    return accessible_sb_min_dv, fig"
   ]
  },
  {
   "cell_type": "code",
   "execution_count": null,
   "id": "regulated-renewal",
   "metadata": {},
   "outputs": [],
   "source": [
    "records_lim = 100\n",
    "optim_crit = 3 # meaningfull only if ballistic profile\n",
    "years = ','.join(map(str, np.linspace(2021,2048,2048-2021+1,dtype=int)))\n",
    "sb_class = 'pha'\n",
    "rdzvs = False # meaningfull only if low thrust profile\n",
    "profile = 0 # meaningfull only if low thrust profile\n",
    "ball_flag = 1\n",
    "lt_flag = 0\n",
    "\n",
    "data = get_accessible_sb(records_lim,optim_crit,years,sb_class,rdzvs,profile,ball_flag,lt_flag)"
   ]
  },
  {
   "cell_type": "code",
   "execution_count": null,
   "id": "downtown-radar",
   "metadata": {},
   "outputs": [],
   "source": [
    "data"
   ]
  },
  {
   "cell_type": "code",
   "execution_count": null,
   "id": "military-arizona",
   "metadata": {},
   "outputs": [],
   "source": [
    "len(data)"
   ]
  },
  {
   "cell_type": "code",
   "execution_count": null,
   "id": "turkish-knight",
   "metadata": {},
   "outputs": [],
   "source": [
    "accessible_sb_min_dv, accessible_sb_dv_plot = get_min_dv_accessible_sb(data)"
   ]
  },
  {
   "cell_type": "code",
   "execution_count": null,
   "id": "clinical-eagle",
   "metadata": {},
   "outputs": [],
   "source": [
    "accessible_sb_min_dv"
   ]
  },
  {
   "cell_type": "code",
   "execution_count": null,
   "id": "negative-tiger",
   "metadata": {},
   "outputs": [],
   "source": [
    "occ = np.zeros(len(data.keys()))\n",
    "H = np.zeros(len(data.keys()))\n",
    "C3 = np.zeros(len(data.keys()))\n",
    "DV = np.zeros(len(data.keys()))\n",
    "TOF = np.zeros(len(data.keys()))\n",
    "for profile in range(len(data)):\n",
    "    occ[profile] = data[str(profile)]['condition_code']\n",
    "    H[profile] = data[str(profile)]['H']\n",
    "    C3[profile] = data[str(profile)]['c3_dep']\n",
    "    DV[profile] = data[str(profile)]['dv_tot']\n",
    "    TOF[profile] = float(data[str(profile)]['tof'])/100\n",
    "\n",
    "fig = plt.figure();\n",
    "plt.plot(occ, \"b*\");\n",
    "fig.suptitle('Accessible Small Bodies Mission occ')\n",
    "plt.xlabel('$idx$ (-)')\n",
    "\n",
    "plt.plot(H, \"r*\")\n",
    "plt.plot(C3, \"m*\")\n",
    "plt.plot(DV, \"y*\")\n",
    "plt.plot(TOF, \"g*\")\n",
    "\n",
    "fig.legend(['occ','H','C3','DV','TOF/100'],loc=1);"
   ]
  },
  {
   "cell_type": "code",
   "execution_count": null,
   "id": "alpine-ethnic",
   "metadata": {},
   "outputs": [],
   "source": []
  },
  {
   "cell_type": "code",
   "execution_count": null,
   "id": "comfortable-demographic",
   "metadata": {},
   "outputs": [],
   "source": []
  },
  {
   "cell_type": "code",
   "execution_count": null,
   "id": "veterinary-binding",
   "metadata": {},
   "outputs": [],
   "source": []
  },
  {
   "cell_type": "code",
   "execution_count": null,
   "id": "pressing-bible",
   "metadata": {},
   "outputs": [],
   "source": []
  },
  {
   "cell_type": "code",
   "execution_count": null,
   "id": "persistent-prison",
   "metadata": {},
   "outputs": [],
   "source": [
    "records_lim = 100\n",
    "optim_crit = 0 # meaningfull only if ballistic profile\n",
    "years = ','.join(map(str, np.linspace(2021,2048,2048-2021+1,dtype=int)))\n",
    "sb_class = 'pha'\n",
    "rdzvs = 'true' # meaningfull only if low thrust profile\n",
    "profile = 2 # meaningfull only if low thrust profile\n",
    "ball_flag = 0\n",
    "lt_flag = 1\n",
    "\n",
    "data_lt = get_accessible_sb(records_lim,optim_crit,years,sb_class,rdzvs,profile,ball_flag,lt_flag)"
   ]
  },
  {
   "cell_type": "code",
   "execution_count": null,
   "id": "communist-judgment",
   "metadata": {},
   "outputs": [],
   "source": [
    "data_lt"
   ]
  },
  {
   "cell_type": "code",
   "execution_count": null,
   "id": "accomplished-ordering",
   "metadata": {},
   "outputs": [],
   "source": [
    "URL = \"https://ssd-api.jpl.nasa.gov/mdesign.api?lim=200&rdzvs=true&profile=1&year=2025,2026,2027,2028,2029&sb_class=TJN\"\n",
    "R = requests.get(URL)\n",
    "DATA = R.json()"
   ]
  },
  {
   "cell_type": "code",
   "execution_count": null,
   "id": "another-amino",
   "metadata": {},
   "outputs": [],
   "source": [
    "DATA"
   ]
  },
  {
   "cell_type": "code",
   "execution_count": null,
   "id": "preceding-mortality",
   "metadata": {},
   "outputs": [],
   "source": []
  },
  {
   "cell_type": "code",
   "execution_count": null,
   "id": "technological-seeking",
   "metadata": {},
   "outputs": [],
   "source": []
  },
  {
   "cell_type": "code",
   "execution_count": null,
   "id": "daily-grill",
   "metadata": {},
   "outputs": [],
   "source": [
    "refined_selected = ['2012QD8','2005WG57','2012BY1','2012SY49','2008XU2','2008KN11','2020UE','2006HX57','2006SC']"
   ]
  },
  {
   "cell_type": "code",
   "execution_count": null,
   "id": "narrow-veteran",
   "metadata": {},
   "outputs": [],
   "source": [
    "refined_selected_MD={};\n",
    "date_min_dep=[]; date_min_arr=[]; tof_min=[]; dv_min=[];\n",
    "idx = 0\n",
    "for name in refined_selected:\n",
    "    req_mjd0 = 59215\n",
    "    req_duration = 365*7\n",
    "    req_min_tof = 100\n",
    "    req_max_tof = 365*10\n",
    "    req_step_size = 10\n",
    "    refined_selected_MD[name]={};\n",
    "    refined_selected_MD[name]['missions'], refined_selected_MD[name]['porkchop_dv'], refined_selected_MD[name]['dep_date'], refined_selected_MD[name]['tof'], refined_selected_MD[name]['pc_plot'], refined_selected_MD[name]['mp_min_dv'], refined_selected_MD[name]['mp_dv_plot'] = \\\n",
    "        get_mission_profiles(name,req_mjd0,req_duration,req_min_tof,req_max_tof,req_step_size)\n",
    "    \n",
    "    plt.savefig(f'./Figures/Missions/{name}.png',bbox_inches='tight')\n",
    "    \n",
    "    date_min_dep.insert(idx, Time(refined_selected_MD[name]['mp_min_dv']['mjd0'], format='mjd').to_value('iso', 'date'))\n",
    "    date_min_arr.insert(idx, Time(refined_selected_MD[name]['mp_min_dv']['mjdf'], format='mjd').to_value('iso', 'date'))\n",
    "    tof_min.insert(idx, refined_selected_MD[name]['mp_min_dv']['tof'])\n",
    "    dv_min.insert(idx, (refined_selected_MD[name]['mp_min_dv']['vinf_dep'] + refined_selected_MD[name]['mp_min_dv']['vinf_arr']))\n",
    "    \n",
    "    idx += 1"
   ]
  },
  {
   "cell_type": "code",
   "execution_count": null,
   "id": "handy-smoke",
   "metadata": {},
   "outputs": [],
   "source": [
    "t = QTable([refined_selected,date_min_dep,date_min_arr,tof_min,np.around(dv_min,decimals=4)],\n",
    "           names=('name','date_dep','date_arr','tof','dv_min'),\n",
    "           meta={'name': 'data table'});\n",
    "\n",
    "t.show_in_notebook()"
   ]
  },
  {
   "cell_type": "code",
   "execution_count": null,
   "id": "middle-marshall",
   "metadata": {},
   "outputs": [],
   "source": [
    "faig = refined_selected_MD['2012QD8']['pc_plot']"
   ]
  },
  {
   "cell_type": "code",
   "execution_count": null,
   "id": "realistic-hearts",
   "metadata": {},
   "outputs": [],
   "source": [
    "faig\n",
    "plt.savefig(f'./Figures/Missions/{faig}.png',bbox_inches='tight')"
   ]
  },
  {
   "cell_type": "code",
   "execution_count": null,
   "id": "framed-clearance",
   "metadata": {},
   "outputs": [],
   "source": [
    "faig"
   ]
  },
  {
   "cell_type": "code",
   "execution_count": null,
   "id": "welsh-afternoon",
   "metadata": {},
   "outputs": [],
   "source": [
    "refined_selected_MD['2012QD8']['mp_min_dv']"
   ]
  },
  {
   "cell_type": "code",
   "execution_count": null,
   "id": "automated-daniel",
   "metadata": {},
   "outputs": [],
   "source": [
    "Time(refined_selected_MD['2012QD8']['mp_min_dv']['mjd0'], format='mjd').to_value('iso', 'date')"
   ]
  },
  {
   "cell_type": "code",
   "execution_count": null,
   "id": "decreased-advertiser",
   "metadata": {},
   "outputs": [],
   "source": []
  }
 ],
 "metadata": {
  "kernelspec": {
   "name": "python378jvsc74a57bd0c7af2a1d9731e5b035c5aa661337d83c098a2613f965c0e1ee3e9f0a83a6e0cd",
   "display_name": "Python 3.7.8 64-bit"
  },
  "language_info": {
   "codemirror_mode": {
    "name": "ipython",
    "version": 3
   },
   "file_extension": ".py",
   "mimetype": "text/x-python",
   "name": "python",
   "nbconvert_exporter": "python",
   "pygments_lexer": "ipython3",
   "version": "3.7.8"
  },
  "metadata": {
   "interpreter": {
    "hash": "c7af2a1d9731e5b035c5aa661337d83c098a2613f965c0e1ee3e9f0a83a6e0cd"
   }
  }
 },
 "nbformat": 4,
 "nbformat_minor": 5
}