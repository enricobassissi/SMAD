{
 "cells": [
  {
   "cell_type": "code",
   "execution_count": 1,
   "id": "level-cherry",
   "metadata": {},
   "outputs": [],
   "source": [
    "import requests\n",
    "import math\n",
    "import numpy as np\n",
    "import pandas as pd\n",
    "import matplotlib.pyplot as plt\n",
    "from pprint import pprint\n",
    "from datetime import datetime"
   ]
  },
  {
   "cell_type": "markdown",
   "id": "floating-cathedral",
   "metadata": {},
   "source": [
    "This API provides access to the JPL/SSD small-body mission design suite. The following operation modes are available:\n",
    "\n",
    "* Mode A (accessible) - retrieves the list of accessible small bodies based on user-defined constraint.\n",
    "* Mode Q (query) - retrieves pre-computed mission options to a specific object. Both impulsive and low-thrust gravity-assist mission options are available.\n",
    "* Mode M (map) - an extension of mode Q for the impulsive case, returns the data required to render a porkchop plot with multiple parameters.\n",
    "* Mode T (mission extension) - retrieves the list of small bodies that come closest (or within a prescribed distance) to a user-defined orbit during a certain period of time. This is a crude filter for finding potential candidates for mission extensions.\n",
    "\n",
    "This script emphazise the development of the following mode\n",
    "\n",
    "* Mode M - In addition to querying the database like in mode Q (ballistic), compute all ballistic mission options to the specified target within certain ranges of launch dates and times of flight.\n",
    "    * In addition, the values of the x-_y_ axes of the maps are also provided:\n",
    "        * dep_date - departure dates from Earth (Modified Julian Date), corresponding to the x-axis.\n",
    "        * tof - times of flight to the target (days), corresponding to the y-axis.\n",
    "        * If dep_date has m elements and tof has n, then the 2D arrays are of dimension n x m.\n",
    "        * vinf_dep\n",
    "        * vinf_arr"
   ]
  },
  {
   "cell_type": "markdown",
   "id": "domestic-windows",
   "metadata": {},
   "source": [
    "# Single example Query "
   ]
  },
  {
   "cell_type": "code",
   "execution_count": null,
   "id": "eleven-amplifier",
   "metadata": {},
   "outputs": [],
   "source": [
    "url_base = 'https://ssd-api.jpl.nasa.gov/mdesign.api'\n",
    "asteroid_name = '2012TC4' # designation (provisional or IAU-number) of the desired object (e.g., 2015 AB or 141P or 433).\n",
    "                         # NOTE: when submitting a des containing a space in your query string, you must \n",
    "                         # replace the space with %20, for example 2015%20AB.\n",
    "mjd0 = 59215            # 21Jan2021 # first launch date to be explored (Modified Julian Date)\n",
    "span = 365                # duration of the launch-date period to be explored (days)\n",
    "tof_min = 50          # minimum time of flight to be considered (days)\n",
    "tof_max = 720       # maximum time of flight to be considered (days)\n",
    "step = 5            # time step used to advance both the launch date and the time of flight (days). \n",
    "                    # The size of the transfer map is limited to 1,500,000 points\n",
    "\n",
    "sim_lim_points = 1500000 #1.5 millions\n",
    "if int(span)/int(step) > sim_lim_points:\n",
    "    print('outside of tool limits') \n",
    "\n",
    "url = f'{url_base}?sstr={str(asteroid_name)}&mjd0={str(mjd0)}&span={str(span)}&tof-min={str(tof_min)}&tof-max={str(tof_max)}&step={str(step)}'\n",
    "r = requests.get(url)\n",
    "\n",
    "data = r.json()\n",
    "\n",
    "print(data)"
   ]
  },
  {
   "cell_type": "code",
   "execution_count": 2,
   "id": "lucky-fraction",
   "metadata": {},
   "outputs": [],
   "source": [
    "def get_mission_profiles(asteroid_name,mjd0,span,tof_min,tof_max,step):\n",
    "    # asteroid_name:    designation (provisional or IAU-number) of the desired object (e.g., 2015 AB or 141P or 433).\n",
    "    #                   NOTE: when submitting a des containing a space in your query string, you must replace the space with %20, for example 2015%20AB\n",
    "    # mjd0:             first launch date to be explored (Modified Julian Date)\n",
    "    # span:             duration of the launch-date period to be explored (days)\n",
    "    # tof-min:          minimum time of flight to be considered (days)\n",
    "    # tof-max:          maximum time of flight to be considered (days)\n",
    "    # step:             time step used to advance both the launch date and the time of flight (days). \n",
    "                        \n",
    "    # The size of the transfer map is limited to 1,500,000 points\n",
    "    sim_lim_points = 1500000 #1.5 millions\n",
    "    if int(span)/int(step) > sim_lim_points:\n",
    "        print('outside of tool limits') # TODO return error\n",
    "    \n",
    "    # Construction of the HTTP request\n",
    "    url_base = 'https://ssd-api.jpl.nasa.gov/mdesign.api'\n",
    "    url = f'{url_base}?sstr={str(asteroid_name)}&mjd0={str(mjd0)}&span={str(span)}&tof-min={str(tof_min)}&tof-max={str(tof_max)}&step={str(step)}'\n",
    "    r = requests.get(url)\n",
    "    data = r.json()\n",
    "    \n",
    "    # Elaboration of data\n",
    "    available_missions = len(data['selectedMissions'])\n",
    "    mission_profiles={};\n",
    "    for mission_id in range(available_missions):\n",
    "        sel_profile={\"fullname\": data[\"object\"][\"fullname\"],\n",
    "                  \"mjd0\": data[\"selectedMissions\"][mission_id][0],\n",
    "                  \"mjdf\": data[\"selectedMissions\"][mission_id][1],\n",
    "                  \"tof\": data[\"selectedMissions\"][mission_id][9],\n",
    "                  \"vinf_dep\": data[\"selectedMissions\"][mission_id][2],\n",
    "                  \"vinf_arr\": data[\"selectedMissions\"][mission_id][3],\n",
    "                  \"earth_dist\": data[\"selectedMissions\"][mission_id][5],\n",
    "                  \"phase_ang\": data[\"selectedMissions\"][mission_id][4], \n",
    "                  \"elong_arr\": data[\"selectedMissions\"][mission_id][6], \n",
    "                  \"decl_dep\": data[\"selectedMissions\"][mission_id][7],\n",
    "                  \"approach_ang\": data[\"selectedMissions\"][mission_id][8],      \n",
    "                 };\n",
    "        mission_profiles[mission_id]=sel_profile;\n",
    "    \n",
    "    # porkchop\n",
    "    porkchop_dv, dep_date, tof = get_mission_porkchop(data);\n",
    "    #plt.contour(dep_date, tof, porckchop_dv)\n",
    "    return mission_profiles, porkchop_dv, dep_date, tof"
   ]
  },
  {
   "cell_type": "code",
   "execution_count": 3,
   "id": "peripheral-brown",
   "metadata": {},
   "outputs": [],
   "source": [
    "def get_mission_porkchop(data):\n",
    "    dep_date=data[\"dep_date\"];\n",
    "    tof=data[\"tof\"];\n",
    "    # Elaboration of data\n",
    "    m = len(data[\"dep_date\"])\n",
    "    n = len(data[\"tof\"])\n",
    "    #porkchop_map=[];\n",
    "    porkchop_map = np.zeros([n,m]) # porkchop_map[i,j]\n",
    "    for i in range(n):\n",
    "        for j in range(m):\n",
    "            porkchop_map[i,j]=abs(data[\"vinf_arr\"][i][j])+abs(data[\"vinf_dep\"][i][j])\n",
    "    return porkchop_map, dep_date, tof"
   ]
  },
  {
   "cell_type": "code",
   "execution_count": 4,
   "id": "every-alarm",
   "metadata": {},
   "outputs": [],
   "source": [
    "missions_2012tc4, porkchop_dv_2012tc4, dep_date_2012tc4, tof_2012tc4 = get_mission_profiles('2012TC4',59215,365,50,700,5)"
   ]
  },
  {
   "cell_type": "code",
   "execution_count": null,
   "id": "pursuant-guinea",
   "metadata": {},
   "outputs": [],
   "source": [
    "dv=[]\n",
    "for profile in missions_2012tc4:\n",
    "    #dv[profile] = missions_2012tc4[profile]['vinf_arr'] - missions_2012tc4[profile]['vinf_dep']"
   ]
  },
  {
   "cell_type": "code",
   "execution_count": null,
   "id": "vital-microphone",
   "metadata": {},
   "outputs": [],
   "source": [
    "print(dv)"
   ]
  },
  {
   "cell_type": "code",
   "execution_count": 10,
   "id": "fifth-marsh",
   "metadata": {},
   "outputs": [
    {
     "data": {
      "text/plain": [
       "<matplotlib.contour.QuadContourSet at 0x5019970>"
      ]
     },
     "execution_count": 10,
     "metadata": {},
     "output_type": "execute_result"
    },
    {
     "data": {
      "image/png": "[encoded data removed]",
      "text/plain": [
       "<Figure size 432x288 with 1 Axes>"
      ]
     },
     "metadata": {
      "needs_background": "light"
     },
     "output_type": "display_data"
    }
   ],
   "source": [
    "plt.contour(dep_date_2012tc4, tof_2012tc4, porkchop_dv_2012tc4)"
   ]
  },
  {
   "cell_type": "code",
   "execution_count": null,
   "id": "weighted-parade",
   "metadata": {},
   "outputs": [],
   "source": []
  }
 ],
 "metadata": {
  "kernelspec": {
   "display_name": "Python 3",
   "language": "python",
   "name": "python3"
  },
  "language_info": {
   "codemirror_mode": {
    "name": "ipython",
    "version": 3
   },
   "file_extension": ".py",
   "mimetype": "text/x-python",
   "name": "python",
   "nbconvert_exporter": "python",
   "pygments_lexer": "ipython3",
   "version": "3.6.5"
  }
 },
 "nbformat": 4,
 "nbformat_minor": 5
}
