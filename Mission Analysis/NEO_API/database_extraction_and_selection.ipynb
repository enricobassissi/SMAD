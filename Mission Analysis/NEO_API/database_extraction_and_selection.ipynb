{
 "cells": [
  {
   "cell_type": "code",
   "execution_count": 1,
   "id": "affecting-failing",
   "metadata": {},
   "outputs": [],
   "source": [
    "from astroquery.jplhorizons import Horizons\n",
    "from astroquery.jplsbdb import SBDB\n",
    "from astropy.table import QTable\n",
    "import astropy.units as u\n",
    "\n",
    "import pandas as pd\n",
    "import numpy as np\n",
    "import requests\n",
    "from pprint import pprint\n",
    "from array import *\n",
    "import matplotlib.pyplot as plt\n",
    "import matplotlib.ticker as ticker\n",
    "\n",
    "#for function import\n",
    "import nbimporter\n",
    "import sb_mission_design"
   ]
  },
  {
   "cell_type": "markdown",
   "id": "upper-mainland",
   "metadata": {},
   "source": [
    "# Define access to JPL SBDB"
   ]
  },
  {
   "cell_type": "code",
   "execution_count": null,
   "id": "documentary-needle",
   "metadata": {},
   "outputs": [],
   "source": [
    "sbdb = SBDB.query('2001VB', neo_only=True, full_precision=True, phys=True, virtual_impactor=True)\n",
    "sbdb[\"orbit\"]['elements']"
   ]
  },
  {
   "cell_type": "code",
   "execution_count": 2,
   "id": "fancy-oasis",
   "metadata": {},
   "outputs": [],
   "source": [
    "def get_dict(name_list):\n",
    "    # Return information for each bodies in name_list from JPL Small Body Database in form of dictionair\n",
    "    # INPUT\n",
    "    # name_list      list [name1, name2, ..., nameN]\n",
    "    # OUTPUT\n",
    "    # dict_bodies    dict with the following structure\n",
    "    # str(name): \"fullname\"\n",
    "    #         \"our_id\"                is the id inside the new dict, from 0 to N-1 where N is the name_list length\n",
    "    #         \"neo_flag\"\n",
    "    #         \"orbit_class\"\n",
    "    #         \"pha_flag\"\n",
    "    #         \"object_kind\"\n",
    "    #         \"moid\"\n",
    "    #         \"orbita_elements\"\n",
    "    #         \"condition_code\"\n",
    "    #         \"rms\"\n",
    "    #         \"orbit_comment\"\n",
    "    #         \"magn_radius_flag\"      is \"H\" if the next parameter is the magnitude, is \"D\" if the next parameter is the diameter\n",
    "    #         \"H\" or \"D\"\n",
    "    #         \"spectral_category_flag\"     T, S or 0\n",
    "    #         \"spectral_category\"\n",
    "    #         \"N_obs\"                      Number of observations\n",
    "    #         \"obs_span\"                   Time between first and last observation\n",
    "    #         \"impacts\": str(impact id):   'width'  \n",
    "    #                                      'energy'\n",
    "    #                                      'stretch'\n",
    "    #                                      'ip'\n",
    "    #                                      'dt'\n",
    "    #                                      'date'\n",
    "    #                                      'sigma_lov'\n",
    "    #                                      'h'\n",
    "    #                                      'mass'\n",
    "    #                                      'v_inf'\n",
    "    #                                      'sigma_imp'\n",
    "    #                                      'method'\n",
    "    #                                      'ts'\n",
    "    #                                      'diam'\n",
    "    #                                      'dist'\n",
    "    #                                      'v_imp'\n",
    "    #                                      'ps'\n",
    "    \n",
    "    our_id=0;\n",
    "    dict_bodies={};\n",
    "\n",
    "    for name in name_list:\n",
    "        sbdb = SBDB.query(name, neo_only=True, full_precision=True, phys=True, virtual_impactor=True)\n",
    "        if sbdb[\"object\"][\"kind\"]!='cn' or sbdb[\"object\"][\"kind\"]!='cu' :\n",
    "            asteroid={\"fullname\": sbdb[\"object\"][\"fullname\"],# TODO vogliamo fare un check?\n",
    "              \"our_id\":our_id,\n",
    "              \"neo_flag\": sbdb[\"object\"][\"neo\"],\n",
    "              \"orbit_class\":sbdb[\"object\"][\"orbit_class\"][\"code\"],\n",
    "              \"pha_flag\":sbdb[\"object\"][\"pha\"],\n",
    "              \"object_kind\":sbdb[\"object\"][\"kind\"], #an asteroid numbered au unbered asteroid (cn, cu for comet)\n",
    "              \"moid\": sbdb[\"orbit\"][\"moid\"],\n",
    "              \"orbital_elements\":sbdb[\"orbit\"]['elements'],\n",
    "              \"condition_code\": sbdb[\"orbit\"][\"condition_code\"], #OCC\n",
    "              \"rms\": sbdb[\"orbit\"][\"rms\"],\n",
    "              \"orbit_comment\":sbdb[\"orbit\"][\"comment\"],\n",
    "             };\n",
    "            try:     \n",
    "                asteroid[\"magn_radius_flag\"]='H';\n",
    "                asteroid[\"H\"]=sbdb['phys_par']['H'];\n",
    "            except:\n",
    "                asteroid[\"magn_radius_flag\"]='D';\n",
    "                asteroid[\"D\"]=sbdb['phys_par']['diameter'];\n",
    "            asteroid[\"N_obs\"]=sbdb['orbit']['n_obs_used'];\n",
    "            asteroid[\"obs_span\"]=sbdb['orbit']['data_arc'];\n",
    "            \n",
    "            asteroid[\"impacts\"]={}\n",
    "            flag_bool=1;\n",
    "            if 'phys_par' in sbdb.keys():\n",
    "                spect_flag=0;\n",
    "                if 'spec_T' in sbdb['phys_par'].keys():\n",
    "                    asteroid[\"spectral_category_flag\"]='T'\n",
    "                    asteroid[\"spectral_category\"]=sbdb['phys_par']['spec_T']\n",
    "                    spect_flag=1;\n",
    "                if 'spec_B' in sbdb['phys_par'].keys():\n",
    "                    asteroid[\"spectral_category_flag\"]='B'\n",
    "                    asteroid[\"spectral_category\"]=sbdb['phys_par']['spec_B']\n",
    "                    spect_flag=1;\n",
    "                if spect_flag==0:\n",
    "                    asteroid[\"spectral_category_flag\"]='0'\n",
    "            else:\n",
    "                asteroid[\"spectral_category\"]='0'\n",
    "                \n",
    "            if 'ip' in sbdb[\"vi_data\"]:\n",
    "                n_imp=len(sbdb[\"vi_data\"]['ip']);\n",
    "                for key in sbdb[\"vi_data\"].keys():\n",
    "                    if flag_bool==1:\n",
    "                        for i in range(0,n_imp):\n",
    "                            asteroid[\"impacts\"][str(i)]={};\n",
    "                        flag_bool=0;\n",
    "                    for i in range(0,n_imp): \n",
    "                        try:\n",
    "                            if isinstance(sbdb[\"vi_data\"][key],str):\n",
    "                                asteroid[\"impacts\"][str(i)][key]=sbdb[\"vi_data\"][key];\n",
    "                            else:\n",
    "                                asteroid[\"impacts\"][str(i)][key]=sbdb[\"vi_data\"][key][i];\n",
    "                        except:\n",
    "                            pprint(name+\" could raise error in importing virtual impact data\") #this exception is raised if only one impact is present\n",
    "            dict_bodies[name]=asteroid;\n",
    "            our_id=our_id+1;\n",
    "            flag_bool=1;\n",
    "            del asteroid;\n",
    "    return dict_bodies\n",
    "        "
   ]
  },
  {
   "cell_type": "markdown",
   "id": "third-clinton",
   "metadata": {},
   "source": [
    "# Extract ESA risk list"
   ]
  },
  {
   "cell_type": "code",
   "execution_count": null,
   "id": "interim-spirituality",
   "metadata": {},
   "outputs": [],
   "source": [
    "def extract_esa_name_from_file(file_name):\n",
    "    f = open(file_name, \"r\")\n",
    "    line=f.readline()\n",
    "    line=f.readline()\n",
    "    line=f.readline()\n",
    "    line=f.readline()\n",
    "    counter=0;\n",
    "    esa_names=[]\n",
    "    for line in f:\n",
    "        word=\"\";\n",
    "        for c in line:\n",
    "            if c==' ':\n",
    "                break;\n",
    "            else:\n",
    "                word=word+c;\n",
    "        esa_names.append(word);  \n",
    "    return esa_names"
   ]
  },
  {
   "cell_type": "code",
   "execution_count": null,
   "id": "coordinated-revolution",
   "metadata": {},
   "outputs": [],
   "source": [
    "esa_risk_names=extract_esa_name_from_file(\"esa_risk_list.txt\");"
   ]
  },
  {
   "cell_type": "markdown",
   "id": "nervous-currency",
   "metadata": {},
   "source": [
    "# Extract SENTRY risk list"
   ]
  },
  {
   "cell_type": "code",
   "execution_count": null,
   "id": "unknown-charger",
   "metadata": {},
   "outputs": [],
   "source": [
    "def get_sentry_risk_list():\n",
    "    url = 'https://ssd-api.jpl.nasa.gov/sentry.api'\n",
    "    r = requests.get(url)\n",
    "    data = r.json()\n",
    "    sentry_risk_names=[];\n",
    "    for i in range(0,len(data['data'])):\n",
    "        name_=\"\"\n",
    "        name=data['data'][i]['des'];\n",
    "        for c in name:\n",
    "            if c==' ':\n",
    "                a=0;\n",
    "            else:\n",
    "                name_=name_+c;\n",
    "        sentry_risk_names.append(name_)\n",
    "    return sentry_risk_names\n"
   ]
  },
  {
   "cell_type": "code",
   "execution_count": null,
   "id": "amino-valentine",
   "metadata": {},
   "outputs": [],
   "source": [
    "sentry_risk_names=get_sentry_risk_list()"
   ]
  },
  {
   "cell_type": "markdown",
   "id": "breathing-single",
   "metadata": {},
   "source": [
    "# Merge risk lists"
   ]
  },
  {
   "cell_type": "code",
   "execution_count": null,
   "id": "constant-variation",
   "metadata": {},
   "outputs": [],
   "source": [
    "risk_list=esa_risk_names;\n",
    "counter=0;\n",
    "for risk_name in sentry_risk_names:\n",
    "    if risk_name not in esa_risk_names:\n",
    "        risk_list.append(risk_name)"
   ]
  },
  {
   "cell_type": "markdown",
   "id": "criminal-romantic",
   "metadata": {},
   "source": [
    "# Query SBDB for all risk list elements"
   ]
  },
  {
   "cell_type": "code",
   "execution_count": null,
   "id": "applicable-operations",
   "metadata": {},
   "outputs": [],
   "source": [
    "dict_risk_list=get_dict(risk_list);"
   ]
  },
  {
   "cell_type": "markdown",
   "id": "charming-closing",
   "metadata": {},
   "source": [
    "# DB visualization"
   ]
  },
  {
   "cell_type": "markdown",
   "id": "tropical-local",
   "metadata": {},
   "source": [
    "# MOID & H"
   ]
  },
  {
   "cell_type": "code",
   "execution_count": null,
   "id": "revolutionary-collar",
   "metadata": {},
   "outputs": [],
   "source": [
    "H_=[];\n",
    "MOID_=[];\n",
    "for key in dict_risk_list:\n",
    "    try:\n",
    "        H_.append(dict_risk_list[key]['H']);\n",
    "        MOID_.append(dict_risk_list[key]['moid'].scale)\n",
    "    except:\n",
    "        pprint(key+' does not have magnitude info')\n",
    "x = MOID_\n",
    "y = H_\n",
    "fig, ax = plt.subplots()\n",
    "ax.plot(x,y, marker='o', linewidth=0)\n",
    "start, end = ax.get_ylim()\n",
    "ax.yaxis.set_ticks(np.arange(-14, 306, 20))\n",
    "ax.yaxis.set_major_formatter(ticker.FormatStrFormatter('%0.1f'))\n",
    "plt.show()"
   ]
  },
  {
   "cell_type": "markdown",
   "id": "conscious-niger",
   "metadata": {},
   "source": [
    "# H and Orbit Condition Code"
   ]
  },
  {
   "cell_type": "code",
   "execution_count": null,
   "id": "theoretical-marshall",
   "metadata": {},
   "outputs": [],
   "source": [
    "H_=[];\n",
    "OCC_=[];\n",
    "for key in dict_risk_list:\n",
    "    try:\n",
    "        H_.append(dict_risk_list[key]['H']);\n",
    "        OCC_.append(int(dict_risk_list[key]['condition_code']))\n",
    "    except:\n",
    "        pprint(key+' does not have magnitude info')\n",
    "x = OCC_\n",
    "y = H_\n",
    "fig, ax = plt.subplots()\n",
    "ax.plot(x,y, marker='o', linewidth=0)\n",
    "start, end = ax.get_ylim()\n",
    "ax.yaxis.set_ticks(np.arange(-14, 306, 20))\n",
    "ax.yaxis.set_major_formatter(ticker.FormatStrFormatter('%0.1f'))\n",
    "plt.show()"
   ]
  },
  {
   "cell_type": "markdown",
   "id": "italic-revolution",
   "metadata": {},
   "source": [
    "# Number of Observations and Orbit Condition Code"
   ]
  },
  {
   "cell_type": "code",
   "execution_count": null,
   "id": "sufficient-envelope",
   "metadata": {},
   "outputs": [],
   "source": [
    "nobs=[];\n",
    "OCC_=[];\n",
    "for key in dict_risk_list:\n",
    "    try:\n",
    "        nobs.append(dict_risk_list[key]['N_obs']);\n",
    "        OCC_.append(int(dict_risk_list[key]['condition_code']))\n",
    "    except:\n",
    "        pprint(key+' does not have magnitude info')\n",
    "x = OCC_\n",
    "y = nobs\n",
    "fig, ax = plt.subplots()\n",
    "ax.plot(x,y, marker='o', linewidth=0)\n",
    "start, end = ax.get_ylim()\n",
    "ax.yaxis.set_ticks(np.arange(-14, 306, 20))\n",
    "ax.yaxis.set_major_formatter(ticker.FormatStrFormatter('%0.1f'))\n",
    "plt.show()"
   ]
  },
  {
   "cell_type": "markdown",
   "id": "certified-ivory",
   "metadata": {},
   "source": [
    "# List only asteroids with known spectral type"
   ]
  },
  {
   "cell_type": "code",
   "execution_count": null,
   "id": "collected-explanation",
   "metadata": {},
   "outputs": [],
   "source": [
    "spectral_known=[];\n",
    "for key in dict_risk_list.keys():\n",
    "    if (dict_risk_list[key]['spectral_category_flag']==\"B\") or (dict_risk_list[key]['spectral_category_flag']==\"T\"):\n",
    "        spectral_known.append('key');\n",
    "        pprint(key)"
   ]
  },
  {
   "cell_type": "markdown",
   "id": "advance-spine",
   "metadata": {},
   "source": [
    "# Requirements filter"
   ]
  },
  {
   "cell_type": "markdown",
   "id": "bearing-massachusetts",
   "metadata": {},
   "source": [
    "# MOID<=0.05au, H<=26 (if H is not available diameter>=200m)"
   ]
  },
  {
   "cell_type": "code",
   "execution_count": null,
   "id": "driven-binary",
   "metadata": {},
   "outputs": [],
   "source": [
    "MOID_H_selected=[];\n",
    "for key in dict_risk_list.keys():\n",
    "    if float(dict_risk_list[key]['moid'].scale)<=0.05: #MOID<=0.05 AU\n",
    "        if (dict_risk_list[key][\"magn_radius_flag\"]=='H' and float(dict_risk_list[key][\"H\"])<=26) or (dict_risk_list[key][\"magn_radius_flag\"]=='D' and float(dict_risk_list[key][\"D\"])>=200):\n",
    "            MOID_H_selected.append(key)"
   ]
  },
  {
   "cell_type": "markdown",
   "id": "undefined-cheese",
   "metadata": {},
   "source": [
    "# At least one impact 2026<year<2048 with a Palermo Scale>=-7"
   ]
  },
  {
   "cell_type": "code",
   "execution_count": null,
   "id": "indirect-economy",
   "metadata": {},
   "outputs": [],
   "source": [
    "date_selected=[];\n",
    "PS_date_selected=[]\n",
    "for key in dict_risk_list.keys():\n",
    "    if '0' in dict_risk_list[key]['impacts'].keys():\n",
    "        max_P=-100;\n",
    "        date_flag=0;\n",
    "        for imp_id in dict_risk_list[key]['impacts'].keys():\n",
    "            word='';\n",
    "            for c in dict_risk_list[key]['impacts'][imp_id]['date']:\n",
    "                #pprint(c)\n",
    "                if c=='-':\n",
    "                    break;\n",
    "                else:\n",
    "                    word=word+c;\n",
    "            if int(word)<2048 and int(word)>2026:\n",
    "                date_flag=1;\n",
    "                if float(dict_risk_list[key]['impacts'][imp_id]['ps'])>max_P:\n",
    "                    max_P=float(dict_risk_list[key]['impacts'][imp_id]['ps']);\n",
    "        if date_flag==1:\n",
    "            date_selected.append(key)\n",
    "            if max_P>=-7:\n",
    "                PS_date_selected.append(key)\n",
    "        dict_risk_list[key][\"PS\"]=max_P;        "
   ]
  },
  {
   "cell_type": "markdown",
   "id": "available-brother",
   "metadata": {},
   "source": [
    "# Orbit Uncertantains filter (number of observation>=40)"
   ]
  },
  {
   "cell_type": "code",
   "execution_count": null,
   "id": "typical-stanford",
   "metadata": {},
   "outputs": [],
   "source": [
    "OU_selected=[];\n",
    "for key in dict_risk_list:\n",
    "        if int(dict_risk_list[key]['N_obs'])>=40:\n",
    "            OU_selected.append(key)"
   ]
  },
  {
   "cell_type": "markdown",
   "id": "human-johns",
   "metadata": {},
   "source": [
    "# Intersect filtered lists"
   ]
  },
  {
   "cell_type": "code",
   "execution_count": null,
   "id": "defensive-assistant",
   "metadata": {},
   "outputs": [],
   "source": [
    "refined_selected=list(set(list(set(PS_date_selected) & set(MOID_H_selected))) & set(OU_selected))"
   ]
  },
  {
   "cell_type": "markdown",
   "id": "conventional-indie",
   "metadata": {},
   "source": [
    "# REPORT RESULTS:"
   ]
  },
  {
   "cell_type": "code",
   "execution_count": null,
   "id": "apart-carter",
   "metadata": {},
   "outputs": [],
   "source": [
    "pprint('on date and PS:')\n",
    "pprint(PS_date_selected)\n",
    "pprint('on MOID and H:')\n",
    "pprint(MOID_H_selected)\n",
    "pprint('refined search:')\n",
    "pprint(refined_selected)"
   ]
  },
  {
   "cell_type": "markdown",
   "id": "paperback-farmer",
   "metadata": {},
   "source": [
    "# Exploration of results"
   ]
  },
  {
   "cell_type": "code",
   "execution_count": null,
   "id": "advised-kennedy",
   "metadata": {},
   "outputs": [],
   "source": [
    "i=0\n",
    "refined_dict={}\n",
    "PS_list=[]\n",
    "for selected in refined_selected:            \n",
    "            PS_list.append(dict_risk_list[selected]['PS'])"
   ]
  },
  {
   "cell_type": "code",
   "execution_count": null,
   "id": "ambient-sewing",
   "metadata": {},
   "outputs": [],
   "source": [
    "index_list=[i[0] for i in sorted(enumerate(PS_list), key=lambda x:x[1])]\n",
    "index_list.reverse()\n",
    "for ind in index_list:\n",
    "    pprint(refined_selected[ind])\n",
    "    pprint(PS_list[ind])"
   ]
  },
  {
   "cell_type": "markdown",
   "id": "motivated-myanmar",
   "metadata": {},
   "source": [
    "# Mission Design - Convenient target and Risk list compared"
   ]
  },
  {
   "cell_type": "code",
   "execution_count": null,
   "id": "sealed-picture",
   "metadata": {},
   "outputs": [],
   "source": [
    "years = ','.join(map(str, np.linspace(2021,2048,2048-2021+1,dtype=int)))\n",
    "data = sb_mission_design.get_accessible_sb(20,3,years,'neo',False,0,1,0)"
   ]
  },
  {
   "cell_type": "code",
   "execution_count": null,
   "id": "grave-vertical",
   "metadata": {},
   "outputs": [],
   "source": [
    "nasa_A_list=[];\n",
    "for i in range(len(data['data'])):\n",
    "    for j in range(len(data['data'][i])):\n",
    "        if j==0:\n",
    "            name=\"\";\n",
    "            for c in data['data'][i][j]:\n",
    "                if c!='(' and c!=')' and c!=' ':\n",
    "                    name=name+c;        \n",
    "            nasa_A_list.append(name);\n",
    "            \n",
    "            \n",
    "            \n"
   ]
  },
  {
   "cell_type": "code",
   "execution_count": null,
   "id": "negative-stamp",
   "metadata": {},
   "outputs": [],
   "source": [
    "convenient_risk_list=list(set(nasa_A_list) & set(risk_list))\n",
    "pprint(nasa_A_list)\n",
    "convenient_risk_list"
   ]
  },
  {
   "cell_type": "markdown",
   "id": "equivalent-medication",
   "metadata": {},
   "source": [
    "# Mission Design - Transfer arc analysis for Refined Risk List "
   ]
  },
  {
   "cell_type": "code",
   "execution_count": null,
   "id": "manual-oracle",
   "metadata": {},
   "outputs": [],
   "source": [
    "refined_selected_MD={};\n",
    "for name in refined_selected:\n",
    "    req_mjd0 = 59215\n",
    "    req_duration = 365\n",
    "    req_min_tof = 50\n",
    "    req_max_tof = 700\n",
    "    req_step_size = 5\n",
    "    refined_selected_MD[name]={};\n",
    "    refined_selected_MD[name]['missions_2012tc4'], refined_selected_MD[name]['porkchop_dv_2012tc4'], refined_selected_MD[name]['dep_date_2012tc4'], refined_selected_MD[name]['tof_2012tc4'], refined_selected_MD[name]['pc_plot_2012tc4'], refined_selected_MD[name]['mp_min_dv_2012tc4'], refined_selected_MD[name]['mp_dv_plot_2012tc4'] = \\\n",
    "        sb_mission_design.get_mission_profiles(name,req_mjd0,req_duration,req_min_tof,req_max_tof,req_step_size)"
   ]
  },
  {
   "cell_type": "code",
   "execution_count": null,
   "id": "adopted-documentary",
   "metadata": {},
   "outputs": [],
   "source": [
    "refined_selected_MD.keys()"
   ]
  },
  {
   "cell_type": "markdown",
   "id": "extra-contemporary",
   "metadata": {},
   "source": [
    "# Feature extraction of selected list"
   ]
  },
  {
   "cell_type": "code",
   "execution_count": 3,
   "id": "outer-prevention",
   "metadata": {},
   "outputs": [],
   "source": [
    "asteroids = ['2012QD8','2005WG57','2012BY1','2012SY49','2008XU2','2008KN11','2020UE','2006HX57','2006SC']\n",
    "dict_risk_list=get_dict(asteroids)"
   ]
  },
  {
   "cell_type": "code",
   "execution_count": 10,
   "id": "spoken-prompt",
   "metadata": {
    "scrolled": true
   },
   "outputs": [
    {
     "data": {
      "text/plain": [
       "{'fullname': '(2012 QD8)',\n",
       " 'our_id': 0,\n",
       " 'neo_flag': True,\n",
       " 'orbit_class': 'APO',\n",
       " 'pha_flag': False,\n",
       " 'object_kind': 'au',\n",
       " 'moid': Unit(\"0.00204637 AU\"),\n",
       " 'orbital_elements': OrderedDict([('e', '.6978637301757757'),\n",
       "              ('e_sig', '.00018213'),\n",
       "              ('a', Unit(\"1.91263 AU\")),\n",
       "              ('a_sig', Unit(\"0.00051114 AU\")),\n",
       "              ('q', Unit(\"0.577876 AU\")),\n",
       "              ('q_sig', Unit(\"0.00019392 AU\")),\n",
       "              ('i', Unit(\"5.58051 deg\")),\n",
       "              ('i_sig', Unit(\"0.0055574 deg\")),\n",
       "              ('om', Unit(\"348.738 deg\")),\n",
       "              ('om_sig', Unit(\"0.021049 deg\")),\n",
       "              ('w', Unit(\"87.7732 deg\")),\n",
       "              ('w_sig', Unit(\"0.0020581 deg\")),\n",
       "              ('ma', Unit(\"26.5511 deg\")),\n",
       "              ('ma_sig', Unit(\"1.9618 deg\")),\n",
       "              ('tp', Unit(\"2.45913e+06 d\")),\n",
       "              ('tp_sig', Unit(\"5.2364 d\")),\n",
       "              ('per', Unit(\"966.152 d\")),\n",
       "              ('per_sig', Unit(\"0.3873 d\")),\n",
       "              ('n', Unit(\"0.372612 deg / d\")),\n",
       "              ('n_sig', Unit(\"0.00014937 deg / d\")),\n",
       "              ('ad', Unit(\"3.24739 AU\")),\n",
       "              ('ad_sig', Unit(\"0.00086785 AU\"))]),\n",
       " 'condition_code': '7',\n",
       " 'rms': '.32969',\n",
       " 'orbit_comment': None,\n",
       " 'magn_radius_flag': 'H',\n",
       " 'H': '23.1',\n",
       " 'N_obs': '41',\n",
       " 'obs_span': '20',\n",
       " 'impacts': {'0': {'width': 0.022222,\n",
       "   'energy': 48.57,\n",
       "   'stretch': 2119800.0,\n",
       "   'ip': 1.892e-08,\n",
       "   'dt': <Quantity 20.93 yr>,\n",
       "   'date': '2042-03-08.65',\n",
       "   'sigma_lov': -2.3431,\n",
       "   'h': <Quantity 23.1 mag>,\n",
       "   'mass': <Quantity 7.327e+08 kg>,\n",
       "   'v_inf': <Quantity 20.8 km / s>,\n",
       "   'sigma_imp': 0.0,\n",
       "   'method': 'LOV',\n",
       "   'ts': 0.0,\n",
       "   'diam': <Quantity 0.081 km>,\n",
       "   'dist': 0.62,\n",
       "   'v_imp': <Quantity 23.6 km / s>,\n",
       "   'ps': -6.17},\n",
       "  '1': {'width': 0.014829,\n",
       "   'energy': 48.17,\n",
       "   'stretch': 167980.0,\n",
       "   'ip': 4.585e-06,\n",
       "   'dt': <Quantity 25.93 yr>,\n",
       "   'date': '2047-03-08.97',\n",
       "   'sigma_lov': 0.07979,\n",
       "   'h': <Quantity 23.1 mag>,\n",
       "   'mass': <Quantity 7.286e+08 kg>,\n",
       "   'v_inf': <Quantity 20.76 km / s>,\n",
       "   'sigma_imp': 0.0,\n",
       "   'method': 'LOV',\n",
       "   'ts': 0.0,\n",
       "   'diam': <Quantity 0.081 km>,\n",
       "   'dist': 0.249,\n",
       "   'v_imp': <Quantity 23.57 km / s>,\n",
       "   'ps': -3.88},\n",
       "  '2': {'width': 0.014604,\n",
       "   'energy': 48.55,\n",
       "   'stretch': 3360.0,\n",
       "   'ip': 1.882e-06,\n",
       "   'dt': <Quantity 28.93 yr>,\n",
       "   'date': '2050-03-08.68',\n",
       "   'sigma_lov': -3.10852,\n",
       "   'h': <Quantity 23.1 mag>,\n",
       "   'mass': <Quantity 7.341e+08 kg>,\n",
       "   'v_inf': <Quantity 20.77 km / s>,\n",
       "   'sigma_imp': 0.0,\n",
       "   'method': 'LOV',\n",
       "   'ts': 0.0,\n",
       "   'diam': <Quantity 0.081 km>,\n",
       "   'dist': 0.075,\n",
       "   'v_imp': <Quantity 23.57 km / s>,\n",
       "   'ps': -4.32},\n",
       "  '3': {'width': 0.61584,\n",
       "   'energy': 48.11,\n",
       "   'stretch': 80926000.0,\n",
       "   'ip': 6.469e-09,\n",
       "   'dt': <Quantity 84.43 yr>,\n",
       "   'date': '2105-09-09.30',\n",
       "   'sigma_lov': 0.50607,\n",
       "   'h': <Quantity 23.1 mag>,\n",
       "   'mass': <Quantity 7.279e+08 kg>,\n",
       "   'v_inf': <Quantity 20.76 km / s>,\n",
       "   'sigma_imp': 0.0,\n",
       "   'method': 'LOV',\n",
       "   'ts': 0.0,\n",
       "   'diam': <Quantity 0.081 km>,\n",
       "   'dist': 0.662,\n",
       "   'v_imp': <Quantity 23.56 km / s>,\n",
       "   'ps': -7.25}},\n",
       " 'spectral_category_flag': '0'}"
      ]
     },
     "execution_count": 10,
     "metadata": {},
     "output_type": "execute_result"
    }
   ],
   "source": [
    "dict_risk_list[asteroids[0]]\n"
   ]
  },
  {
   "cell_type": "code",
   "execution_count": 24,
   "id": "creative-bridges",
   "metadata": {},
   "outputs": [],
   "source": [
    "orb_class=[]; moid=[]; occ=[]; rms=[]; H=[]; N_obs=[]; first_impact_date=[];\n",
    "idx = 0\n",
    "for el in dict_risk_list:\n",
    "    dict_risk_list\n",
    "    orb_class.insert(idx, dict_risk_list[asteroids[idx]]['orbit_class'])\n",
    "    moid.insert(idx, dict_risk_list[asteroids[idx]]['moid'])\n",
    "    occ.insert(idx, dict_risk_list[asteroids[idx]]['condition_code'])\n",
    "    rms.insert(idx, dict_risk_list[asteroids[idx]]['rms'])\n",
    "    H.insert(idx, dict_risk_list[asteroids[idx]]['H'])\n",
    "    N_obs.insert(idx, dict_risk_list[asteroids[idx]]['N_obs'])\n",
    "    first_impact_date.insert(idx, dict_risk_list[asteroids[idx]]['impacts']['0']['date'])\n",
    "    idx += 1"
   ]
  },
  {
   "cell_type": "code",
   "execution_count": 25,
   "id": "fatal-baker",
   "metadata": {},
   "outputs": [
    {
     "data": {
      "text/html": [
       "<i>QTable length=9</i>\n",
       "<table id=\"table274565680-675427\" class=\"table-striped table-bordered table-condensed\">\n",
       "<thead><tr><th>idx</th><th>name</th><th>orb_class</th><th>moid</th><th>occ</th><th>rms</th><th>H</th><th>N_obs</th><th>first_impact_date</th></tr></thead>\n",
       "<tr><td>0</td><td>2012QD8</td><td>APO</td><td>0.00204637 AU</td><td>7</td><td>.32969</td><td>23.1</td><td>41</td><td>2042-03-08.65</td></tr>\n",
       "<tr><td>1</td><td>2005WG57</td><td>APO</td><td>0.00174338 AU</td><td>7</td><td>.44121</td><td>23.6</td><td>74</td><td>2029-08-21.18</td></tr>\n",
       "<tr><td>2</td><td>2012BY1</td><td>APO</td><td>0.00265346 AU</td><td>8</td><td>.21663</td><td>25.7</td><td>43</td><td>2043-01-25.70</td></tr>\n",
       "<tr><td>3</td><td>2012SY49</td><td>APO</td><td>0.000121773 AU</td><td>7</td><td>.33057</td><td>25.8</td><td>43</td><td>2031-09-29.32</td></tr>\n",
       "<tr><td>4</td><td>2008XU2</td><td>APO</td><td>0.00227454 AU</td><td>7</td><td>.42338</td><td>25.6</td><td>44</td><td>2039-11-25.06</td></tr>\n",
       "<tr><td>5</td><td>2008KN11</td><td>APO</td><td>0.00100506 AU</td><td>7</td><td>.43494</td><td>23.2</td><td>132</td><td>2046-06-20.80</td></tr>\n",
       "<tr><td>6</td><td>2020UE</td><td>APO</td><td>0.000806548 AU</td><td>6</td><td>.25849</td><td>25.5</td><td>132</td><td>2042-10-16.10</td></tr>\n",
       "<tr><td>7</td><td>2006HX57</td><td>APO</td><td>0.00153463 AU</td><td>7</td><td>.46289</td><td>25.2</td><td>84</td><td>2045-05-09.08</td></tr>\n",
       "<tr><td>8</td><td>2006SC</td><td>APO</td><td>0.000519363 AU</td><td>6</td><td>.55666</td><td>25.1</td><td>107</td><td>2043-09-14.09</td></tr>\n",
       "</table><style>table.dataTable {clear: both; width: auto !important; margin: 0 !important;}\n",
       ".dataTables_info, .dataTables_length, .dataTables_filter, .dataTables_paginate{\n",
       "display: inline-block; margin-right: 1em; }\n",
       ".paginate_button { margin-right: 5px; }\n",
       "</style>\n",
       "<script>\n",
       "\n",
       "var astropy_sort_num = function(a, b) {\n",
       "    var a_num = parseFloat(a);\n",
       "    var b_num = parseFloat(b);\n",
       "\n",
       "    if (isNaN(a_num) && isNaN(b_num))\n",
       "        return ((a < b) ? -1 : ((a > b) ? 1 : 0));\n",
       "    else if (!isNaN(a_num) && !isNaN(b_num))\n",
       "        return ((a_num < b_num) ? -1 : ((a_num > b_num) ? 1 : 0));\n",
       "    else\n",
       "        return isNaN(a_num) ? -1 : 1;\n",
       "}\n",
       "\n",
       "require.config({paths: {\n",
       "    datatables: 'https://cdn.datatables.net/1.10.12/js/jquery.dataTables.min'\n",
       "}});\n",
       "require([\"datatables\"], function(){\n",
       "    console.log(\"$('#table274565680-675427').dataTable()\");\n",
       "    \n",
       "jQuery.extend( jQuery.fn.dataTableExt.oSort, {\n",
       "    \"optionalnum-asc\": astropy_sort_num,\n",
       "    \"optionalnum-desc\": function (a,b) { return -astropy_sort_num(a, b); }\n",
       "});\n",
       "\n",
       "    $('#table274565680-675427').dataTable({\n",
       "        order: [],\n",
       "        pageLength: 50,\n",
       "        lengthMenu: [[10, 25, 50, 100, 500, 1000, -1], [10, 25, 50, 100, 500, 1000, 'All']],\n",
       "        pagingType: \"full_numbers\",\n",
       "        columnDefs: [{targets: [0], type: \"optionalnum\"}]\n",
       "    });\n",
       "});\n",
       "</script>\n"
      ],
      "text/plain": [
       "<IPython.core.display.HTML object>"
      ]
     },
     "execution_count": 25,
     "metadata": {},
     "output_type": "execute_result"
    }
   ],
   "source": [
    "t = QTable([asteroids, orb_class, moid, occ, rms, H, N_obs, first_impact_date],\n",
    "           names=('name', 'orb_class', 'moid', 'occ', 'rms', 'H', 'N_obs', 'first_impact_date'),\n",
    "           meta={'name': 'data table'})\n",
    "\n",
    "t.show_in_notebook()"
   ]
  },
  {
   "cell_type": "code",
   "execution_count": null,
   "id": "circular-treat",
   "metadata": {},
   "outputs": [],
   "source": []
  }
 ],
 "metadata": {
  "kernelspec": {
   "display_name": "Python 3",
   "language": "python",
   "name": "python3"
  },
  "language_info": {
   "codemirror_mode": {
    "name": "ipython",
    "version": 3
   },
   "file_extension": ".py",
   "mimetype": "text/x-python",
   "name": "python",
   "nbconvert_exporter": "python",
   "pygments_lexer": "ipython3",
   "version": "3.6.5"
  }
 },
 "nbformat": 4,
 "nbformat_minor": 5
}
