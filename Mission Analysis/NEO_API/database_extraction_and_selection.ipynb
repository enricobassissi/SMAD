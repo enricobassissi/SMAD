{
 "cells": [
  {
   "cell_type": "code",
   "execution_count": 2,
   "id": "affecting-failing",
   "metadata": {},
   "outputs": [],
   "source": [
    "from astroquery.jplhorizons import Horizons\n",
    "from astroquery.jplsbdb import SBDB\n",
    "from astropy.table import QTable\n",
    "import astropy.units as u\n",
    "\n",
    "#import pandas as pd\n",
    "import numpy as np\n",
    "import requests\n",
    "from pprint import pprint\n",
    "from array import *\n",
    "import matplotlib.pyplot as plt\n",
    "import matplotlib.ticker as ticker"
   ]
  },
  {
   "cell_type": "markdown",
   "id": "upper-mainland",
   "metadata": {},
   "source": [
    "# Define access to JPL SBDB"
   ]
  },
  {
   "cell_type": "code",
   "execution_count": 3,
   "id": "documentary-needle",
   "metadata": {},
   "outputs": [
    {
     "data": {
      "text/plain": [
       "str"
      ]
     },
     "execution_count": 3,
     "metadata": {},
     "output_type": "execute_result"
    }
   ],
   "source": [
    "sbdb = SBDB.query('2001VB', neo_only=True, full_precision=True, phys=True, virtual_impactor=True)\n",
    "type(sbdb['vi_data']['date'][0])"
   ]
  },
  {
   "cell_type": "code",
   "execution_count": 4,
   "id": "fancy-oasis",
   "metadata": {},
   "outputs": [],
   "source": [
    "def get_dict(name_list):\n",
    "    # Return information for each bodies in name_list from JPL Small Body Database in form of dictionair\n",
    "    # INPUT\n",
    "    # name_list      list [name1, name2, ..., nameN]\n",
    "    # OUTPUT\n",
    "    # dict_bodies    dict with the following structure\n",
    "    # str(name): \"fullname\"\n",
    "    #         \"our_id\"                is the id inside the new dict, from 0 to N-1 where N is the name_list length\n",
    "    #         \"neo_flag\"\n",
    "    #         \"orbit_class\"\n",
    "    #         \"pha_flag\"\n",
    "    #         \"object_kind\"\n",
    "    #         \"moid\"\n",
    "    #         \"condition_code\"\n",
    "    #         \"rms\"\n",
    "    #         \"orbit_comment\"\n",
    "    #         \"magn_radius_flag\"      is \"H\" if the next parameter is the magnitude, is \"D\" if the next parameter is the diameter\n",
    "    #         \"H\" or \"D\"\n",
    "    #         \"spectral_category_flag\"     T, S or 0\n",
    "    #         \"spectral_category\"\n",
    "    #         \"impacts\": str(impact id):   'width'  \n",
    "    #                                      'energy'\n",
    "    #                                      'stretch'\n",
    "    #                                      'ip'\n",
    "    #                                      'dt'\n",
    "    #                                      'date'\n",
    "    #                                      'sigma_lov'\n",
    "    #                                      'h'\n",
    "    #                                      'mass'\n",
    "    #                                      'v_inf'\n",
    "    #                                      'sigma_imp'\n",
    "    #                                      'method'\n",
    "    #                                      'ts'\n",
    "    #                                      'diam'\n",
    "    #                                      'dist'\n",
    "    #                                      'v_imp'\n",
    "    #                                      'ps'\n",
    "    \n",
    "    our_id=0;\n",
    "    dict_bodies={};\n",
    "\n",
    "    for name in name_list:\n",
    "        sbdb = SBDB.query(name, neo_only=True, full_precision=True, phys=True, virtual_impactor=True)\n",
    "        if sbdb[\"object\"][\"kind\"]!='cn' or sbdb[\"object\"][\"kind\"]!='cu' :\n",
    "            asteroid={\"fullname\": sbdb[\"object\"][\"fullname\"],# TODO vogliamo fare un check?\n",
    "              \"our_id\":our_id,\n",
    "              \"neo_flag\": sbdb[\"object\"][\"neo\"],\n",
    "              \"orbit_class\":sbdb[\"object\"][\"orbit_class\"][\"code\"],\n",
    "              \"pha_flag\":sbdb[\"object\"][\"pha\"],\n",
    "              \"object_kind\":sbdb[\"object\"][\"kind\"], #an asteroid numbered au unbered asteroid (cn, cu for comet)\n",
    "              \"moid\": sbdb[\"orbit\"][\"moid\"],\n",
    "              \"condition_code\": sbdb[\"orbit\"][\"condition_code\"], #OCC\n",
    "              \"rms\": sbdb[\"orbit\"][\"rms\"],\n",
    "              \"orbit_comment\":sbdb[\"orbit\"][\"comment\"],\n",
    "             };\n",
    "            try:     \n",
    "                asteroid[\"magn_radius_flag\"]='H';\n",
    "                asteroid[\"H\"]=sbdb['phys_par']['H'];\n",
    "            except:\n",
    "                asteroid[\"magn_radius_flag\"]='D';\n",
    "                asteroid[\"D\"]=sbdb['phys_par']['diameter'];\n",
    "            asteroid[\"impacts\"]={}\n",
    "            flag_bool=1;\n",
    "            if 'phys_par' in sbdb.keys():\n",
    "                spect_flag=0;\n",
    "                if 'spec_T' in sbdb['phys_par'].keys():\n",
    "                    asteroid[\"spectral_category_flag\"]='T'\n",
    "                    asteroid[\"spectral_category\"]=sbdb['phys_par']['spec_T']\n",
    "                    spect_flag=1;\n",
    "                if 'spec_B' in sbdb['phys_par'].keys():\n",
    "                    asteroid[\"spectral_category_flag\"]='B'\n",
    "                    asteroid[\"spectral_category\"]=sbdb['phys_par']['spec_B']\n",
    "                    spect_flag=1;\n",
    "                if spect_flag==0:\n",
    "                    asteroid[\"spectral_category_flag\"]='0'\n",
    "            else:\n",
    "                asteroid[\"spectral_category\"]='0'\n",
    "                \n",
    "            if 'ip' in sbdb[\"vi_data\"]:\n",
    "                n_imp=len(sbdb[\"vi_data\"]['ip']);\n",
    "                for key in sbdb[\"vi_data\"].keys():\n",
    "                    if flag_bool==1:\n",
    "                        for i in range(0,n_imp):\n",
    "                            asteroid[\"impacts\"][str(i)]={};\n",
    "                        flag_bool=0;\n",
    "                    for i in range(0,n_imp): \n",
    "                        try:\n",
    "                            if isinstance(sbdb[\"vi_data\"][key],str):\n",
    "                                asteroid[\"impacts\"][str(i)][key]=sbdb[\"vi_data\"][key];\n",
    "                            else:\n",
    "                                asteroid[\"impacts\"][str(i)][key]=sbdb[\"vi_data\"][key][i];\n",
    "                        except:\n",
    "                            pprint(name+\" could raise error in importing virtual impact data\") #this exception is raised if only one impact is present\n",
    "            dict_bodies[name]=asteroid;\n",
    "            our_id=our_id+1;\n",
    "            flag_bool=1;\n",
    "            del asteroid;\n",
    "    return dict_bodies\n",
    "        "
   ]
  },
  {
   "cell_type": "markdown",
   "id": "third-clinton",
   "metadata": {},
   "source": [
    "# Extract ESA risk list"
   ]
  },
  {
   "cell_type": "code",
   "execution_count": 5,
   "id": "interim-spirituality",
   "metadata": {},
   "outputs": [],
   "source": [
    "def extract_esa_name_from_file(file_name):\n",
    "    f = open(file_name, \"r\")\n",
    "    line=f.readline()\n",
    "    line=f.readline()\n",
    "    line=f.readline()\n",
    "    line=f.readline()\n",
    "    counter=0;\n",
    "    esa_names=[]\n",
    "    for line in f:\n",
    "        word=\"\";\n",
    "        for c in line:\n",
    "            if c==' ':\n",
    "                break;\n",
    "            else:\n",
    "                word=word+c;\n",
    "        esa_names.append(word);  \n",
    "    return esa_names"
   ]
  },
  {
   "cell_type": "code",
   "execution_count": 6,
   "id": "coordinated-revolution",
   "metadata": {},
   "outputs": [],
   "source": [
    "esa_risk_names=extract_esa_name_from_file(\"esa_risk_list.txt\");"
   ]
  },
  {
   "cell_type": "markdown",
   "id": "nervous-currency",
   "metadata": {},
   "source": [
    "# Extract SENTRY risk list"
   ]
  },
  {
   "cell_type": "code",
   "execution_count": 7,
   "id": "unknown-charger",
   "metadata": {},
   "outputs": [],
   "source": [
    "def get_sentry_risk_list():\n",
    "    url = 'https://ssd-api.jpl.nasa.gov/sentry.api'\n",
    "    r = requests.get(url)\n",
    "    data = r.json()\n",
    "    sentry_risk_names=[];\n",
    "    for i in range(0,len(data['data'])):\n",
    "        name_=\"\"\n",
    "        name=data['data'][i]['des'];\n",
    "        for c in name:\n",
    "            if c==' ':\n",
    "                a=0;\n",
    "            else:\n",
    "                name_=name_+c;\n",
    "        sentry_risk_names.append(name_)\n",
    "    return sentry_risk_names\n"
   ]
  },
  {
   "cell_type": "code",
   "execution_count": 8,
   "id": "amino-valentine",
   "metadata": {},
   "outputs": [],
   "source": [
    "sentry_risk_names=get_sentry_risk_list()"
   ]
  },
  {
   "cell_type": "markdown",
   "id": "breathing-single",
   "metadata": {},
   "source": [
    "# Merge risk lists"
   ]
  },
  {
   "cell_type": "code",
   "execution_count": 9,
   "id": "constant-variation",
   "metadata": {},
   "outputs": [],
   "source": [
    "risk_list=esa_risk_names;\n",
    "counter=0;\n",
    "for risk_name in sentry_risk_names:\n",
    "    if risk_name not in esa_risk_names:\n",
    "        risk_list.append(risk_name)"
   ]
  },
  {
   "cell_type": "markdown",
   "id": "criminal-romantic",
   "metadata": {},
   "source": [
    "# Query SBDB for all risk list elements"
   ]
  },
  {
   "cell_type": "code",
   "execution_count": 10,
   "id": "applicable-operations",
   "metadata": {},
   "outputs": [
    {
     "name": "stdout",
     "output_type": "stream",
     "text": [
      "'29075 could raise error in importing virtual impact data'\n"
     ]
    }
   ],
   "source": [
    "dict_risk_list=get_dict(risk_list);"
   ]
  },
  {
   "cell_type": "markdown",
   "id": "charming-closing",
   "metadata": {},
   "source": [
    "# DB visualization"
   ]
  },
  {
   "cell_type": "markdown",
   "id": "tropical-local",
   "metadata": {},
   "source": [
    "# MOID & H"
   ]
  },
  {
   "cell_type": "code",
   "execution_count": 11,
   "id": "revolutionary-collar",
   "metadata": {},
   "outputs": [
    {
     "name": "stdout",
     "output_type": "stream",
     "text": [
      "'2010MA113 does not have magnitude info'\n",
      "'2010MY112 does not have magnitude info'\n",
      "'2010MZ112 does not have magnitude info'\n"
     ]
    },
    {
     "data": {
      "image/png": "[encoded data removed]",
      "text/plain": [
       "<Figure size 432x288 with 1 Axes>"
      ]
     },
     "metadata": {
      "needs_background": "light"
     },
     "output_type": "display_data"
    }
   ],
   "source": [
    "H_=[];\n",
    "MOID_=[];\n",
    "for key in dict_risk_list:\n",
    "    try:\n",
    "        H_.append(dict_risk_list[key]['H']);\n",
    "        MOID_.append(dict_risk_list[key]['moid'].scale)\n",
    "    except:\n",
    "        pprint(key+' does not have magnitude info')\n",
    "x = MOID_\n",
    "y = H_\n",
    "fig, ax = plt.subplots()\n",
    "ax.plot(x,y, marker='o', linewidth=0)\n",
    "start, end = ax.get_ylim()\n",
    "ax.yaxis.set_ticks(np.arange(-14, 306, 20))\n",
    "ax.yaxis.set_major_formatter(ticker.FormatStrFormatter('%0.1f'))\n",
    "plt.show()"
   ]
  },
  {
   "cell_type": "code",
   "execution_count": 29,
   "id": "theoretical-marshall",
   "metadata": {},
   "outputs": [
    {
     "name": "stdout",
     "output_type": "stream",
     "text": [
      "'2010MA113 does not have magnitude info'\n",
      "'2010MY112 does not have magnitude info'\n",
      "'2010MZ112 does not have magnitude info'\n"
     ]
    },
    {
     "data": {
      "image/png": "[encoded data removed]",
      "text/plain": [
       "<Figure size 432x288 with 1 Axes>"
      ]
     },
     "metadata": {
      "needs_background": "light"
     },
     "output_type": "display_data"
    }
   ],
   "source": [
    "H_=[];\n",
    "OCC_=[];\n",
    "for key in dict_risk_list:\n",
    "    try:\n",
    "        H_.append(dict_risk_list[key]['H']);\n",
    "        OCC_.append(int(dict_risk_list[key]['condition_code']))\n",
    "    except:\n",
    "        pprint(key+' does not have magnitude info')\n",
    "x = OCC_\n",
    "y = H_\n",
    "fig, ax = plt.subplots()\n",
    "ax.plot(x,y, marker='o', linewidth=0)\n",
    "start, end = ax.get_ylim()\n",
    "ax.yaxis.set_ticks(np.arange(-14, 306, 20))\n",
    "ax.yaxis.set_major_formatter(ticker.FormatStrFormatter('%0.1f'))\n",
    "plt.show()"
   ]
  },
  {
   "cell_type": "markdown",
   "id": "certified-ivory",
   "metadata": {},
   "source": [
    "# List only asteroids with known spectral type"
   ]
  },
  {
   "cell_type": "code",
   "execution_count": 12,
   "id": "collected-explanation",
   "metadata": {},
   "outputs": [
    {
     "name": "stdout",
     "output_type": "stream",
     "text": [
      "'101955'\n"
     ]
    }
   ],
   "source": [
    "spectral_known=[];\n",
    "for key in dict_risk_list.keys():\n",
    "    if (dict_risk_list[key]['spectral_category_flag']==\"B\") or (dict_risk_list[key]['spectral_category_flag']==\"T\"):\n",
    "        spectral_known.append('key');\n",
    "        pprint(key)"
   ]
  },
  {
   "cell_type": "markdown",
   "id": "advance-spine",
   "metadata": {},
   "source": [
    "# Requirements filter"
   ]
  },
  {
   "cell_type": "markdown",
   "id": "bearing-massachusetts",
   "metadata": {},
   "source": [
    "# MOID<=0.05au, H<=22 (if H is not available diameter>=400m)"
   ]
  },
  {
   "cell_type": "code",
   "execution_count": 13,
   "id": "driven-binary",
   "metadata": {},
   "outputs": [],
   "source": [
    "MOID_H_selected=[];\n",
    "for key in dict_risk_list.keys():\n",
    "    if float(dict_risk_list[key]['moid'].scale)<=0.05: #MOID<=0.05 AU\n",
    "        if (dict_risk_list[key][\"magn_radius_flag\"]=='H' and float(dict_risk_list[key][\"H\"])<=22) or (dict_risk_list[key][\"magn_radius_flag\"]=='D' and float(dict_risk_list[key][\"D\"])>=400):\n",
    "            MOID_H_selected.append(key)"
   ]
  },
  {
   "cell_type": "markdown",
   "id": "undefined-cheese",
   "metadata": {},
   "source": [
    "# At least one impact 2026<year<22048 with a Palermo Scale>=-8"
   ]
  },
  {
   "cell_type": "code",
   "execution_count": 14,
   "id": "indirect-economy",
   "metadata": {},
   "outputs": [],
   "source": [
    "date_selected=[];\n",
    "PS_date_selected=[]\n",
    "for key in dict_risk_list.keys():\n",
    "    if '0' in dict_risk_list[key]['impacts'].keys():\n",
    "        max_P=-100;\n",
    "        date_flag=0;\n",
    "        for imp_id in dict_risk_list[key]['impacts'].keys():\n",
    "            word='';\n",
    "            for c in dict_risk_list[key]['impacts'][imp_id]['date']:\n",
    "                #pprint(c)\n",
    "                if c=='-':\n",
    "                    break;\n",
    "                else:\n",
    "                    word=word+c;\n",
    "            if int(word)<2048 and int(word)>2026:\n",
    "                date_flag=1;\n",
    "                if float(dict_risk_list[key]['impacts'][imp_id]['ps'])>max_P:\n",
    "                    max_P=float(dict_risk_list[key]['impacts'][imp_id]['ps']);\n",
    "        if date_flag==1:\n",
    "            date_selected.append(key)\n",
    "            if max_P>=-8:\n",
    "                PS_date_selected.append(key)"
   ]
  },
  {
   "cell_type": "code",
   "execution_count": 15,
   "id": "human-feeling",
   "metadata": {},
   "outputs": [
    {
     "data": {
      "text/plain": [
       "'2021AS3'"
      ]
     },
     "execution_count": 15,
     "metadata": {},
     "output_type": "execute_result"
    }
   ],
   "source": [
    "key"
   ]
  },
  {
   "cell_type": "markdown",
   "id": "human-johns",
   "metadata": {},
   "source": [
    "# Intersect filtered lists"
   ]
  },
  {
   "cell_type": "code",
   "execution_count": 16,
   "id": "defensive-assistant",
   "metadata": {},
   "outputs": [],
   "source": [
    "refined_selected=list(set(PS_date_selected) & set(MOID_H_selected))"
   ]
  },
  {
   "cell_type": "markdown",
   "id": "conventional-indie",
   "metadata": {},
   "source": [
    "# REPORT RESULTS:"
   ]
  },
  {
   "cell_type": "code",
   "execution_count": 17,
   "id": "apart-carter",
   "metadata": {},
   "outputs": [
    {
     "name": "stdout",
     "output_type": "stream",
     "text": [
      "'on date and PS:'\n",
      "['2008JL3',\n",
      " '2011DU9',\n",
      " '2012QD8',\n",
      " '2005QK76',\n",
      " '2020VV',\n",
      " '2007DX40',\n",
      " '2007KE4',\n",
      " '2015YJ',\n",
      " '2018TY4',\n",
      " '2005ED224',\n",
      " '2017AE21',\n",
      " '2014MR26',\n",
      " '2016DK1',\n",
      " '2012MF7',\n",
      " '2008CC71',\n",
      " '2017SF20',\n",
      " '2007FT3',\n",
      " '2020XE',\n",
      " '2006DM63',\n",
      " '2018DQ',\n",
      " '2010VQ',\n",
      " '2013EV27',\n",
      " '2014ML67',\n",
      " '2009TD17',\n",
      " '2019JO1',\n",
      " '2017QC36',\n",
      " '2020UE',\n",
      " '1995CS',\n",
      " '2021FU',\n",
      " '2008TE',\n",
      " '2020VB5',\n",
      " '2012VE77',\n",
      " '2020BW5',\n",
      " '2016EO28',\n",
      " '2020FA5',\n",
      " '2013GM3',\n",
      " '2010KV7',\n",
      " '2012BA77',\n",
      " '2020YN',\n",
      " '2011EB74',\n",
      " '2016WN55',\n",
      " '2008PK9',\n",
      " '2012SY49',\n",
      " '2013WM',\n",
      " '2006SC',\n",
      " '2018NW',\n",
      " '2021EO2',\n",
      " '2005EL70',\n",
      " '2007KO4',\n",
      " '2010VW194',\n",
      " '2014HN197',\n",
      " '2012BY1',\n",
      " '2017FN1',\n",
      " '2017UL7',\n",
      " '2006HX57',\n",
      " '2020US7',\n",
      " '2021DR',\n",
      " '2009VA',\n",
      " '2021AX6',\n",
      " '2010UH',\n",
      " '2007UO6',\n",
      " '2017SH33',\n",
      " '2020UT4',\n",
      " '2005VN5',\n",
      " '2005NX55',\n",
      " '2005TM173',\n",
      " '2016DA31',\n",
      " '2009FG',\n",
      " '2019FA',\n",
      " '2009WR52',\n",
      " '2011CU46',\n",
      " '2021CZ7',\n",
      " '2005WG57',\n",
      " '2009HW67',\n",
      " '2012BL14',\n",
      " '1994GV',\n",
      " '2010XN69',\n",
      " '2019WE',\n",
      " '2008CT1',\n",
      " '2008XU2',\n",
      " '2017AB21',\n",
      " '2017RZ17',\n",
      " '2001BA16',\n",
      " '2012VJ38',\n",
      " '2017DA120',\n",
      " '2011BP40',\n",
      " '2018QE',\n",
      " '2011AY22',\n",
      " '2006WV29',\n",
      " '2017SA20',\n",
      " '2007YM',\n",
      " '2009FZ4',\n",
      " '2008KN11',\n",
      " '2017QF3',\n",
      " '2008VM',\n",
      " '2015DQ224',\n",
      " '2007TX22',\n",
      " '1991BA',\n",
      " '2017MZ8',\n",
      " '2018DN4',\n",
      " '2011YC63',\n",
      " '2012KP24',\n",
      " '2018BD',\n",
      " '2017AA21',\n",
      " '2020PU1',\n",
      " '2016JN38',\n",
      " '2006CD',\n",
      " '2015FA345',\n",
      " '2016NL56',\n",
      " '2018FL29',\n",
      " '2012CU',\n",
      " '2017WE28',\n",
      " '2020HW7',\n",
      " '2011CW46',\n",
      " '2018AU18',\n",
      " '2019KL',\n",
      " '2020GZ1',\n",
      " '2009TB',\n",
      " '2018WJ',\n",
      " '2018CA15',\n",
      " '2020SN5',\n",
      " '2011YC40',\n",
      " '2007VH189',\n",
      " '2017DW119',\n",
      " '2021AH',\n",
      " '2008LE',\n",
      " '2013YB',\n",
      " '2004XB45',\n",
      " '2018FY2',\n",
      " '2003DW10',\n",
      " '2010HP20',\n",
      " '2020OX5',\n",
      " '2016VA18',\n",
      " '2014FE',\n",
      " '2005UA1',\n",
      " '2018LF16',\n",
      " '2008EM68',\n",
      " '2015BY3',\n",
      " '2008HC38',\n",
      " '2010DG77',\n",
      " '2015GB1',\n",
      " '2005TH50',\n",
      " '2014JV79',\n",
      " '2005GQ33',\n",
      " '2017RX17',\n",
      " '2015HO182',\n",
      " '2016NP56',\n",
      " '2020CW',\n",
      " '2008VL',\n",
      " '2011CF22',\n",
      " '2014HE199',\n",
      " '2010VO139',\n",
      " '2019CM5',\n",
      " '2009VT1',\n",
      " '2008VS4',\n",
      " '2011CF66',\n",
      " '2018PA25',\n",
      " '2017UC52',\n",
      " '2019QB1',\n",
      " '2020FD',\n",
      " '2017WF30',\n",
      " '2014HD198',\n",
      " '2020QC',\n",
      " '2019GP21',\n",
      " '2014CH13',\n",
      " '2016LE10',\n",
      " '2008XK',\n",
      " '2020JS1',\n",
      " '2017HJ61',\n",
      " '2010XB73',\n",
      " '2017WE29',\n",
      " '2017CY32',\n",
      " '2004ME6',\n",
      " '2004RU109',\n",
      " '2008UY91',\n",
      " '2008EV84',\n",
      " '2010LJ68',\n",
      " '2010MY112',\n",
      " '2012BP123',\n",
      " '2010MZ112',\n",
      " '2010UJ',\n",
      " '2010XQ',\n",
      " '2011AZ22',\n",
      " '2011KF36',\n",
      " '2012BK14',\n",
      " '2014MA68',\n",
      " '2016PR66',\n",
      " '2016AZ193',\n",
      " '2016RP41',\n",
      " '2017AT20',\n",
      " '2017DC120',\n",
      " '2014LY21',\n",
      " '2011AE3',\n",
      " '2008EL68',\n",
      " '2018PZ21',\n",
      " '2017UE52',\n",
      " '2017SC33',\n",
      " '2019CY2',\n",
      " '2018YH2',\n",
      " '2017UM52',\n",
      " '2020UJ']\n",
      "'on MOID and H:'\n",
      "['1979XB',\n",
      " '2001VB',\n",
      " '2007FT3',\n",
      " '2006CM10',\n",
      " '2002GM5',\n",
      " '2017QC36',\n",
      " '2020FA5',\n",
      " '2007PR25',\n",
      " '2011BT59',\n",
      " '2017AB21',\n",
      " '2021ED5',\n",
      " '2004GE2',\n",
      " '2016NL56',\n",
      " '2001CA21',\n",
      " '2014MV67',\n",
      " '29075',\n",
      " '101955']\n",
      "'refined search:'\n",
      "['2016NL56', '2017QC36', '2020FA5', '2017AB21', '2007FT3']\n"
     ]
    }
   ],
   "source": [
    "pprint('on date and PS:')\n",
    "pprint(PS_date_selected)\n",
    "pprint('on MOID and H:')\n",
    "pprint(MOID_H_selected)\n",
    "pprint('refined search:')\n",
    "pprint(refined_selected)"
   ]
  },
  {
   "cell_type": "markdown",
   "id": "paperback-farmer",
   "metadata": {},
   "source": [
    "# Exploration of H for asteroid with probability of impact in 2026/2048 and OCC<=7"
   ]
  },
  {
   "cell_type": "code",
   "execution_count": 30,
   "id": "advised-kennedy",
   "metadata": {},
   "outputs": [
    {
     "name": "stdout",
     "output_type": "stream",
     "text": [
      "'27.28'\n",
      "'25.5'\n",
      "'28.3'\n",
      "'25.1'\n",
      "'27.1'\n",
      "'27.82'\n",
      "'27.0'\n",
      "'28.7'\n",
      "'28.3'\n",
      "'27.7'\n",
      "'26.0'\n",
      "'28.5'\n",
      "'28.3'\n",
      "'26.4'\n",
      "'26.1'\n",
      "'28.0'\n",
      "'26.9'\n",
      "'27.9'\n",
      "'27.7'\n",
      "'27.9'\n"
     ]
    }
   ],
   "source": [
    "i=0\n",
    "for selected in date_selected:\n",
    "    if int(dict_risk_list[selected]['condition_code'])<=6:\n",
    "        pprint(dict_risk_list[selected]['H'])"
   ]
  }
 ],
 "metadata": {
  "kernelspec": {
   "display_name": "Python 3",
   "language": "python",
   "name": "python3"
  },
  "language_info": {
   "codemirror_mode": {
    "name": "ipython",
    "version": 3
   },
   "file_extension": ".py",
   "mimetype": "text/x-python",
   "name": "python",
   "nbconvert_exporter": "python",
   "pygments_lexer": "ipython3",
   "version": "3.9.0"
  }
 },
 "nbformat": 4,
 "nbformat_minor": 5
}
