{
 "cells": [
  {
   "cell_type": "code",
   "execution_count": 1,
   "id": "affecting-failing",
   "metadata": {},
   "outputs": [],
   "source": [
    "from astroquery.jplhorizons import Horizons\n",
    "from astroquery.jplsbdb import SBDB\n",
    "from astropy.table import QTable\n",
    "import astropy.units as u\n",
    "from astropy.time import Time\n",
    "\n",
    "import pandas as pd\n",
    "import numpy as np\n",
    "import requests\n",
    "from pprint import pprint\n",
    "from array import *\n",
    "import matplotlib.pyplot as plt\n",
    "import matplotlib.ticker as ticker\n",
    "import seaborn as sns\n",
    "\n",
    "#for function import\n",
    "import nbimporter\n",
    "import sb_mission_design"
   ]
  },
  {
   "cell_type": "markdown",
   "id": "upper-mainland",
   "metadata": {},
   "source": [
    "# Define access to JPL SBDB"
   ]
  },
  {
   "cell_type": "code",
   "execution_count": null,
   "id": "documentary-needle",
   "metadata": {},
   "outputs": [],
   "source": [
    "sbdb = SBDB.query('2001VB', neo_only=True, full_precision=True, phys=True, virtual_impactor=True)\n",
    "sbdb[\"orbit\"]['elements']"
   ]
  },
  {
   "cell_type": "code",
   "execution_count": 2,
   "id": "fancy-oasis",
   "metadata": {},
   "outputs": [],
   "source": [
    "def get_dict(name_list):\n",
    "    # Return information for each bodies in name_list from JPL Small Body Database in form of dictionair\n",
    "    # INPUT\n",
    "    # name_list      list [name1, name2, ..., nameN]\n",
    "    # OUTPUT\n",
    "    # dict_bodies    dict with the following structure\n",
    "    # str(name): \"fullname\"\n",
    "    #         \"our_id\"                is the id inside the new dict, from 0 to N-1 where N is the name_list length\n",
    "    #         \"neo_flag\"\n",
    "    #         \"orbit_class\"\n",
    "    #         \"pha_flag\"\n",
    "    #         \"object_kind\"\n",
    "    #         \"moid\"\n",
    "    #         \"orbita_elements\"\n",
    "    #         \"condition_code\"\n",
    "    #         \"rms\"\n",
    "    #         \"orbit_comment\"\n",
    "    #         \"magn_radius_flag\"      is \"H\" if the next parameter is the magnitude, is \"D\" if the next parameter is the diameter\n",
    "    #         \"H\" or \"D\"\n",
    "    #         \"spectral_category_flag\"     T, S or 0\n",
    "    #         \"spectral_category\"\n",
    "    #         \"N_obs\"                      Number of observations\n",
    "    #         \"obs_span\"                   Time between first and last observation\n",
    "    #         \"impacts\": str(impact id):   'width'  \n",
    "    #                                      'energy'\n",
    "    #                                      'stretch'\n",
    "    #                                      'ip'\n",
    "    #                                      'dt'\n",
    "    #                                      'date'\n",
    "    #                                      'sigma_lov'\n",
    "    #                                      'h'\n",
    "    #                                      'mass'\n",
    "    #                                      'v_inf'\n",
    "    #                                      'sigma_imp'\n",
    "    #                                      'method'\n",
    "    #                                      'ts'\n",
    "    #                                      'diam'\n",
    "    #                                      'dist'\n",
    "    #                                      'v_imp'\n",
    "    #                                      'ps'\n",
    "    \n",
    "    our_id=0;\n",
    "    dict_bodies={};\n",
    "\n",
    "    for name in name_list:\n",
    "        sbdb = SBDB.query(name, neo_only=True, full_precision=True, phys=True, virtual_impactor=True)\n",
    "        if sbdb[\"object\"][\"kind\"]!='cn' or sbdb[\"object\"][\"kind\"]!='cu' :\n",
    "            asteroid={\"fullname\": sbdb[\"object\"][\"fullname\"],# TODO vogliamo fare un check?\n",
    "              \"our_id\":our_id,\n",
    "              \"neo_flag\": sbdb[\"object\"][\"neo\"],\n",
    "              \"orbit_class\":sbdb[\"object\"][\"orbit_class\"][\"code\"],\n",
    "              \"pha_flag\":sbdb[\"object\"][\"pha\"],\n",
    "              \"object_kind\":sbdb[\"object\"][\"kind\"], #an asteroid numbered au unbered asteroid (cn, cu for comet)\n",
    "              \"moid\": sbdb[\"orbit\"][\"moid\"],\n",
    "              \"orbital_elements\":sbdb[\"orbit\"]['elements'],\n",
    "              \"condition_code\": sbdb[\"orbit\"][\"condition_code\"], #OCC\n",
    "              \"rms\": sbdb[\"orbit\"][\"rms\"],\n",
    "              \"orbit_comment\":sbdb[\"orbit\"][\"comment\"],\n",
    "             };\n",
    "            try:     \n",
    "                asteroid[\"magn_radius_flag\"]='H';\n",
    "                asteroid[\"H\"]=sbdb['phys_par']['H'];\n",
    "            except:\n",
    "                asteroid[\"magn_radius_flag\"]='D';\n",
    "                asteroid[\"D\"]=sbdb['phys_par']['diameter'];\n",
    "            asteroid[\"N_obs\"]=sbdb['orbit']['n_obs_used'];\n",
    "            asteroid[\"obs_span\"]=sbdb['orbit']['data_arc'];\n",
    "            \n",
    "            asteroid[\"impacts\"]={}\n",
    "            flag_bool=1;\n",
    "            if 'phys_par' in sbdb.keys():\n",
    "                spect_flag=0;\n",
    "                if 'spec_T' in sbdb['phys_par'].keys():\n",
    "                    asteroid[\"spectral_category_flag\"]='T'\n",
    "                    asteroid[\"spectral_category\"]=sbdb['phys_par']['spec_T']\n",
    "                    spect_flag=1;\n",
    "                if 'spec_B' in sbdb['phys_par'].keys():\n",
    "                    asteroid[\"spectral_category_flag\"]='B'\n",
    "                    asteroid[\"spectral_category\"]=sbdb['phys_par']['spec_B']\n",
    "                    spect_flag=1;\n",
    "                if spect_flag==0:\n",
    "                    asteroid[\"spectral_category_flag\"]='0'\n",
    "            else:\n",
    "                asteroid[\"spectral_category\"]='0'\n",
    "                \n",
    "            if 'ip' in sbdb[\"vi_data\"]:\n",
    "                n_imp=len(sbdb[\"vi_data\"]['ip']);\n",
    "                for key in sbdb[\"vi_data\"].keys():\n",
    "                    if flag_bool==1:\n",
    "                        for i in range(0,n_imp):\n",
    "                            asteroid[\"impacts\"][str(i)]={};\n",
    "                        flag_bool=0;\n",
    "                    for i in range(0,n_imp): \n",
    "                        try:\n",
    "                            if isinstance(sbdb[\"vi_data\"][key],str):\n",
    "                                asteroid[\"impacts\"][str(i)][key]=sbdb[\"vi_data\"][key];\n",
    "                            else:\n",
    "                                asteroid[\"impacts\"][str(i)][key]=sbdb[\"vi_data\"][key][i];\n",
    "                        except:\n",
    "                            pprint(name+\" could raise error in importing virtual impact data\") #this exception is raised if only one impact is present\n",
    "            dict_bodies[name]=asteroid;\n",
    "            our_id=our_id+1;\n",
    "            flag_bool=1;\n",
    "            del asteroid;\n",
    "    return dict_bodies\n",
    "        "
   ]
  },
  {
   "cell_type": "markdown",
   "id": "third-clinton",
   "metadata": {},
   "source": [
    "# Extract ESA risk list"
   ]
  },
  {
   "cell_type": "code",
   "execution_count": 3,
   "id": "interim-spirituality",
   "metadata": {},
   "outputs": [],
   "source": [
    "def extract_esa_name_from_file(file_name):\n",
    "    f = open(file_name, \"r\")\n",
    "    line=f.readline()\n",
    "    line=f.readline()\n",
    "    line=f.readline()\n",
    "    line=f.readline()\n",
    "    counter=0;\n",
    "    esa_names=[]\n",
    "    for line in f:\n",
    "        word=\"\";\n",
    "        for c in line:\n",
    "            if c==' ':\n",
    "                break;\n",
    "            else:\n",
    "                word=word+c;\n",
    "        esa_names.append(word);  \n",
    "    return esa_names"
   ]
  },
  {
   "cell_type": "code",
   "execution_count": 4,
   "id": "coordinated-revolution",
   "metadata": {},
   "outputs": [],
   "source": [
    "esa_risk_names=extract_esa_name_from_file(\"esa_risk_list.txt\");"
   ]
  },
  {
   "cell_type": "markdown",
   "id": "nervous-currency",
   "metadata": {},
   "source": [
    "# Extract SENTRY risk list"
   ]
  },
  {
   "cell_type": "code",
   "execution_count": 5,
   "id": "unknown-charger",
   "metadata": {},
   "outputs": [],
   "source": [
    "def get_sentry_risk_list():\n",
    "    url = 'https://ssd-api.jpl.nasa.gov/sentry.api'\n",
    "    r = requests.get(url)\n",
    "    data = r.json()\n",
    "    sentry_risk_names=[];\n",
    "    for i in range(0,len(data['data'])):\n",
    "        name_=\"\"\n",
    "        name=data['data'][i]['des'];\n",
    "        for c in name:\n",
    "            if c==' ':\n",
    "                a=0;\n",
    "            else:\n",
    "                name_=name_+c;\n",
    "        sentry_risk_names.append(name_)\n",
    "    return sentry_risk_names\n"
   ]
  },
  {
   "cell_type": "code",
   "execution_count": 6,
   "id": "amino-valentine",
   "metadata": {},
   "outputs": [],
   "source": [
    "sentry_risk_names=get_sentry_risk_list()"
   ]
  },
  {
   "cell_type": "markdown",
   "id": "breathing-single",
   "metadata": {},
   "source": [
    "# Merge risk lists"
   ]
  },
  {
   "cell_type": "code",
   "execution_count": 7,
   "id": "regulation-transfer",
   "metadata": {},
   "outputs": [],
   "source": [
    "def merge_risk_lists(esa,sentry):\n",
    "    risk_list=esa;\n",
    "    counter=0;\n",
    "    for risk_name in sentry:\n",
    "        if risk_name not in esa:\n",
    "            risk_list.append(risk_name)\n",
    "    return risk_list"
   ]
  },
  {
   "cell_type": "code",
   "execution_count": 8,
   "id": "constant-variation",
   "metadata": {},
   "outputs": [],
   "source": [
    "risk_list=merge_risk_lists(esa_risk_names, sentry_risk_names)"
   ]
  },
  {
   "cell_type": "markdown",
   "id": "criminal-romantic",
   "metadata": {},
   "source": [
    "# Query SBDB for all risk list elements"
   ]
  },
  {
   "cell_type": "code",
   "execution_count": 9,
   "id": "applicable-operations",
   "metadata": {},
   "outputs": [
    {
     "name": "stdout",
     "output_type": "stream",
     "text": [
      "'29075 could raise error in importing virtual impact data'\n"
     ]
    }
   ],
   "source": [
    "dict_risk_list=get_dict(risk_list);"
   ]
  },
  {
   "cell_type": "markdown",
   "id": "charming-closing",
   "metadata": {},
   "source": [
    "# DB visualization"
   ]
  },
  {
   "cell_type": "markdown",
   "id": "tropical-local",
   "metadata": {},
   "source": [
    "# MOID & H"
   ]
  },
  {
   "cell_type": "code",
   "execution_count": 11,
   "id": "saving-strap",
   "metadata": {
    "scrolled": true
   },
   "outputs": [
    {
     "name": "stdout",
     "output_type": "stream",
     "text": [
      "'2010MA113 does not have magnitude info'\n",
      "'2010MY112 does not have magnitude info'\n",
      "'2010MZ112 does not have magnitude info'\n"
     ]
    },
    {
     "data": {
      "image/png": "[encoded data removed]",
      "text/plain": [
       "<Figure size 432x288 with 1 Axes>"
      ]
     },
     "metadata": {
      "needs_background": "light"
     },
     "output_type": "display_data"
    }
   ],
   "source": [
    "H_=[];\n",
    "MOID_=[];\n",
    "for key in dict_risk_list:\n",
    "    try:\n",
    "        H_.append(dict_risk_list[key]['H']);\n",
    "        MOID_.append(dict_risk_list[key]['moid'].scale)\n",
    "    except:\n",
    "        pprint(key+' does not have magnitude info')\n",
    "x = MOID_\n",
    "y = H_\n",
    "fig, ax = plt.subplots()\n",
    "ax.plot(x,y, marker='o', linewidth=0)\n",
    "start, end = ax.get_ylim()\n",
    "ax.yaxis.set_ticks(np.arange(-14, 306, 20))\n",
    "ax.yaxis.set_major_formatter(ticker.FormatStrFormatter('%0.1f'))\n",
    "plt.show()"
   ]
  },
  {
   "cell_type": "markdown",
   "id": "prospective-techno",
   "metadata": {},
   "source": [
    "# H distribution"
   ]
  },
  {
   "cell_type": "code",
   "execution_count": 12,
   "id": "august-tattoo",
   "metadata": {},
   "outputs": [
    {
     "data": {
      "text/plain": [
       "Text(0, 0.5, 'Number of asteroids')"
      ]
     },
     "execution_count": 12,
     "metadata": {},
     "output_type": "execute_result"
    },
    {
     "data": {
      "image/png": "[encoded data removed]",
      "text/plain": [
       "<Figure size 432x288 with 1 Axes>"
      ]
     },
     "metadata": {
      "needs_background": "light"
     },
     "output_type": "display_data"
    }
   ],
   "source": [
    "el=[]\n",
    "i=0\n",
    "for i in range(0,len(H_)):\n",
    "    el.append(float(H_[i]))\n",
    "# matplotlib histogram\n",
    "plt.hist(el, color = 'blue', edgecolor = 'black',\n",
    "         bins = int(180/5))\n",
    "\n",
    "\n",
    "# Add labels\n",
    "plt.title('NEA in Sentry Risk List')\n",
    "plt.xlabel('Magnitude')\n",
    "plt.ylabel('Number of asteroids')"
   ]
  },
  {
   "cell_type": "code",
   "execution_count": 13,
   "id": "e4b9f03d",
   "metadata": {},
   "outputs": [
    {
     "name": "stdout",
     "output_type": "stream",
     "text": [
      "'2010MA113 does not have magnitude info'\n",
      "'2010MY112 does not have magnitude info'\n",
      "'2010MZ112 does not have magnitude info'\n"
     ]
    },
    {
     "data": {
      "text/html": [
       "<div>\n",
       "<style scoped>\n",
       "    .dataframe tbody tr th:only-of-type {\n",
       "        vertical-align: middle;\n",
       "    }\n",
       "\n",
       "    .dataframe tbody tr th {\n",
       "        vertical-align: top;\n",
       "    }\n",
       "\n",
       "    .dataframe thead th {\n",
       "        text-align: right;\n",
       "    }\n",
       "</style>\n",
       "<table border=\"1\" class=\"dataframe\">\n",
       "  <thead>\n",
       "    <tr style=\"text-align: right;\">\n",
       "      <th></th>\n",
       "      <th>moid</th>\n",
       "      <th>occ</th>\n",
       "      <th>H</th>\n",
       "      <th>worse_impact_ps</th>\n",
       "    </tr>\n",
       "  </thead>\n",
       "  <tbody>\n",
       "    <tr>\n",
       "      <th>0</th>\n",
       "      <td>0.000511</td>\n",
       "      <td>4</td>\n",
       "      <td>28.400000</td>\n",
       "      <td>-3.32</td>\n",
       "    </tr>\n",
       "    <tr>\n",
       "      <th>1</th>\n",
       "      <td>0.023863</td>\n",
       "      <td>9</td>\n",
       "      <td>18.600000</td>\n",
       "      <td>-3.08</td>\n",
       "    </tr>\n",
       "    <tr>\n",
       "      <th>2</th>\n",
       "      <td>0.000903</td>\n",
       "      <td>3</td>\n",
       "      <td>24.700001</td>\n",
       "      <td>-3.20</td>\n",
       "    </tr>\n",
       "    <tr>\n",
       "      <th>3</th>\n",
       "      <td>0.011765</td>\n",
       "      <td>9</td>\n",
       "      <td>23.700001</td>\n",
       "      <td>-6.66</td>\n",
       "    </tr>\n",
       "    <tr>\n",
       "      <th>4</th>\n",
       "      <td>0.000967</td>\n",
       "      <td>7</td>\n",
       "      <td>25.299999</td>\n",
       "      <td>-3.24</td>\n",
       "    </tr>\n",
       "    <tr>\n",
       "      <th>...</th>\n",
       "      <td>...</td>\n",
       "      <td>...</td>\n",
       "      <td>...</td>\n",
       "      <td>...</td>\n",
       "    </tr>\n",
       "    <tr>\n",
       "      <th>1272</th>\n",
       "      <td>0.000046</td>\n",
       "      <td>8</td>\n",
       "      <td>29.018000</td>\n",
       "      <td>-4.60</td>\n",
       "    </tr>\n",
       "    <tr>\n",
       "      <th>1273</th>\n",
       "      <td>0.001492</td>\n",
       "      <td>8</td>\n",
       "      <td>27.429001</td>\n",
       "      <td>-7.61</td>\n",
       "    </tr>\n",
       "    <tr>\n",
       "      <th>1274</th>\n",
       "      <td>0.002124</td>\n",
       "      <td>8</td>\n",
       "      <td>28.156000</td>\n",
       "      <td>-7.50</td>\n",
       "    </tr>\n",
       "    <tr>\n",
       "      <th>1275</th>\n",
       "      <td>0.003322</td>\n",
       "      <td>4</td>\n",
       "      <td>30.452000</td>\n",
       "      <td>-5.66</td>\n",
       "    </tr>\n",
       "    <tr>\n",
       "      <th>1276</th>\n",
       "      <td>0.000165</td>\n",
       "      <td>6</td>\n",
       "      <td>28.202000</td>\n",
       "      <td>-6.58</td>\n",
       "    </tr>\n",
       "  </tbody>\n",
       "</table>\n",
       "<p>1277 rows × 4 columns</p>\n",
       "</div>"
      ],
      "text/plain": [
       "          moid  occ          H  worse_impact_ps\n",
       "0     0.000511    4  28.400000            -3.32\n",
       "1     0.023863    9  18.600000            -3.08\n",
       "2     0.000903    3  24.700001            -3.20\n",
       "3     0.011765    9  23.700001            -6.66\n",
       "4     0.000967    7  25.299999            -3.24\n",
       "...        ...  ...        ...              ...\n",
       "1272  0.000046    8  29.018000            -4.60\n",
       "1273  0.001492    8  27.429001            -7.61\n",
       "1274  0.002124    8  28.156000            -7.50\n",
       "1275  0.003322    4  30.452000            -5.66\n",
       "1276  0.000165    6  28.202000            -6.58\n",
       "\n",
       "[1277 rows x 4 columns]"
      ]
     },
     "execution_count": 13,
     "metadata": {},
     "output_type": "execute_result"
    }
   ],
   "source": [
    "### ENRICO TESTS\n",
    "moid=[]; occ=[]; H=[]; worse_impact_ps=[];\n",
    "idx = 0\n",
    "arbitrary_albedo = 0.14\n",
    "for el in dict_risk_list:\n",
    "    moid.append(float(dict_risk_list[str(el)]['moid'].scale))\n",
    "    occ.append(int(dict_risk_list[str(el)]['condition_code']))\n",
    "    try:\n",
    "        H.append(float(dict_risk_list[str(el)]['H']));\n",
    "    except:\n",
    "        pprint(el +' does not have magnitude info')\n",
    "        #http://www.physics.sfasu.edu/astro/asteroids/sizemagnitude.html\n",
    "        H.append(float(-np.log10(dict_risk_list[str(el)]['D'].scale*np.sqrt(arbitrary_albedo)/1329)*5));\n",
    "\n",
    "    worse_impact_ps_lim = -999\n",
    "    worse_impact_ps.append(float(worse_impact_ps_lim))\n",
    "    # Sigma LOV is a measure of how well the impacting orbit fits the available observations.\n",
    "    # It is equal to zero for the best-fitting (nominal) orbit while orbits with values between -3 and +3 (“3-sigma”) \n",
    "    # comprise about 99% of the virtual asteroid swarm\n",
    "    for i in range(len(dict_risk_list[str(el)]['impacts'])):\n",
    "        if (dict_risk_list[str(el)]['impacts'][str(i)]['ps'] > worse_impact_ps_lim):\n",
    "            worse_impact_ps.pop(idx)\n",
    "            worse_impact_ps.insert(idx, float(dict_risk_list[str(el)]['impacts'][str(i)]['ps']))\n",
    "            \n",
    "            worse_impact_ps_lim = float(dict_risk_list[str(el)]['impacts'][str(i)]['ps'])     \n",
    "            \n",
    "    idx = idx + 1\n",
    "\n",
    "kinda_dict_physical_properties = {'moid': array(\"f\",moid), 'occ': array(\"i\",occ), \n",
    "                                  'H':  array(\"f\",H),'worse_impact_ps': array(\"f\",worse_impact_ps)}\n",
    "df_physical_properties = pd.DataFrame(data=kinda_dict_physical_properties)\n",
    "df_physical_properties"
   ]
  },
  {
   "cell_type": "code",
   "execution_count": null,
   "id": "03d59945",
   "metadata": {},
   "outputs": [],
   "source": [
    "dict_risk_list"
   ]
  },
  {
   "cell_type": "markdown",
   "id": "conscious-niger",
   "metadata": {},
   "source": [
    "# H and Orbit Condition Code"
   ]
  },
  {
   "cell_type": "code",
   "execution_count": null,
   "id": "theoretical-marshall",
   "metadata": {},
   "outputs": [],
   "source": [
    "H_=[];\n",
    "OCC_=[];\n",
    "for key in dict_risk_list:\n",
    "    try:\n",
    "        H_.append(dict_risk_list[key]['H']);\n",
    "        OCC_.append(int(dict_risk_list[key]['condition_code']))\n",
    "    except:\n",
    "        pprint(key+' does not have magnitude info')\n",
    "x = OCC_\n",
    "y = H_\n",
    "fig, ax = plt.subplots()\n",
    "ax.plot(x,y, marker='o', linewidth=0)\n",
    "start, end = ax.get_ylim()\n",
    "ax.yaxis.set_ticks(np.arange(-14, 306, 20))\n",
    "ax.yaxis.set_major_formatter(ticker.FormatStrFormatter('%0.1f'))\n",
    "plt.show()"
   ]
  },
  {
   "cell_type": "markdown",
   "id": "italic-revolution",
   "metadata": {},
   "source": [
    "# Number of Observations and Orbit Condition Code"
   ]
  },
  {
   "cell_type": "code",
   "execution_count": null,
   "id": "sufficient-envelope",
   "metadata": {},
   "outputs": [],
   "source": [
    "nobs=[];\n",
    "OCC_=[];\n",
    "for key in dict_risk_list:\n",
    "    try:\n",
    "        nobs.append(dict_risk_list[key]['N_obs']);\n",
    "        OCC_.append(int(dict_risk_list[key]['condition_code']))\n",
    "    except:\n",
    "        pprint(key+' does not have magnitude info')\n",
    "x = OCC_\n",
    "y = nobs\n",
    "fig, ax = plt.subplots()\n",
    "ax.plot(x,y, marker='o', linewidth=0)\n",
    "start, end = ax.get_ylim()\n",
    "ax.yaxis.set_ticks(np.arange(-14, 306, 20))\n",
    "ax.yaxis.set_major_formatter(ticker.FormatStrFormatter('%0.1f'))\n",
    "plt.show()"
   ]
  },
  {
   "cell_type": "markdown",
   "id": "certified-ivory",
   "metadata": {},
   "source": [
    "# List only asteroids with known spectral type"
   ]
  },
  {
   "cell_type": "code",
   "execution_count": null,
   "id": "collected-explanation",
   "metadata": {},
   "outputs": [],
   "source": [
    "spectral_known=[];\n",
    "for key in dict_risk_list.keys():\n",
    "    if (dict_risk_list[key]['spectral_category_flag']==\"B\") or (dict_risk_list[key]['spectral_category_flag']==\"T\"):\n",
    "        spectral_known.append('key');\n",
    "        pprint(key)"
   ]
  },
  {
   "cell_type": "markdown",
   "id": "advance-spine",
   "metadata": {},
   "source": [
    "# Requirements filter"
   ]
  },
  {
   "cell_type": "markdown",
   "id": "bearing-massachusetts",
   "metadata": {},
   "source": [
    "# MOID<=0.05au, H<=26 (if H is not available diameter>=200m)"
   ]
  },
  {
   "cell_type": "code",
   "execution_count": null,
   "id": "driven-binary",
   "metadata": {},
   "outputs": [],
   "source": [
    "MOID_H_selected=[];\n",
    "for key in dict_risk_list.keys():\n",
    "    if float(dict_risk_list[key]['moid'].scale)<=0.05: #MOID<=0.05 AU\n",
    "        if (dict_risk_list[key][\"magn_radius_flag\"]=='H' and float(dict_risk_list[key][\"H\"])<=26) or (dict_risk_list[key][\"magn_radius_flag\"]=='D' and float(dict_risk_list[key][\"D\"])>=200):\n",
    "            MOID_H_selected.append(key)"
   ]
  },
  {
   "cell_type": "markdown",
   "id": "undefined-cheese",
   "metadata": {},
   "source": [
    "# At least one impact 2026<year<2048 with a Palermo Scale>=-7"
   ]
  },
  {
   "cell_type": "code",
   "execution_count": null,
   "id": "indirect-economy",
   "metadata": {},
   "outputs": [],
   "source": [
    "date_selected=[];\n",
    "PS_date_selected=[]\n",
    "for key in dict_risk_list.keys():\n",
    "    if '0' in dict_risk_list[key]['impacts'].keys():\n",
    "        max_P=-100;\n",
    "        date_flag=0;\n",
    "        for imp_id in dict_risk_list[key]['impacts'].keys():\n",
    "            word='';\n",
    "            for c in dict_risk_list[key]['impacts'][imp_id]['date']:\n",
    "                #pprint(c)\n",
    "                if c=='-':\n",
    "                    break;\n",
    "                else:\n",
    "                    word=word+c;\n",
    "            if int(word)<2048 and int(word)>2026:\n",
    "                date_flag=1;\n",
    "                if float(dict_risk_list[key]['impacts'][imp_id]['ps'])>max_P:\n",
    "                    max_P=float(dict_risk_list[key]['impacts'][imp_id]['ps']);\n",
    "        if date_flag==1:\n",
    "            date_selected.append(key)\n",
    "            if max_P>=-7:\n",
    "                PS_date_selected.append(key)\n",
    "        dict_risk_list[key][\"PS\"]=max_P;        "
   ]
  },
  {
   "cell_type": "markdown",
   "id": "available-brother",
   "metadata": {},
   "source": [
    "# Orbit Uncertantains filter (number of observation>=40)"
   ]
  },
  {
   "cell_type": "code",
   "execution_count": null,
   "id": "typical-stanford",
   "metadata": {},
   "outputs": [],
   "source": [
    "OU_selected=[];\n",
    "for key in dict_risk_list:\n",
    "        if int(dict_risk_list[key]['N_obs'])>=40:\n",
    "            OU_selected.append(key)"
   ]
  },
  {
   "cell_type": "markdown",
   "id": "human-johns",
   "metadata": {},
   "source": [
    "# Intersect filtered lists"
   ]
  },
  {
   "cell_type": "code",
   "execution_count": null,
   "id": "defensive-assistant",
   "metadata": {},
   "outputs": [],
   "source": [
    "refined_selected=list(set(list(set(PS_date_selected) & set(MOID_H_selected))) & set(OU_selected))"
   ]
  },
  {
   "cell_type": "markdown",
   "id": "conventional-indie",
   "metadata": {},
   "source": [
    "# REPORT RESULTS:"
   ]
  },
  {
   "cell_type": "code",
   "execution_count": null,
   "id": "apart-carter",
   "metadata": {},
   "outputs": [],
   "source": [
    "pprint('on date and PS:')\n",
    "pprint(PS_date_selected)\n",
    "pprint('on MOID and H:')\n",
    "pprint(MOID_H_selected)\n",
    "pprint('refined search:')\n",
    "pprint(refined_selected)"
   ]
  },
  {
   "cell_type": "markdown",
   "id": "paperback-farmer",
   "metadata": {},
   "source": [
    "# Exploration of results"
   ]
  },
  {
   "cell_type": "code",
   "execution_count": null,
   "id": "advised-kennedy",
   "metadata": {},
   "outputs": [],
   "source": [
    "i=0\n",
    "refined_dict={}\n",
    "PS_list=[]\n",
    "for selected in refined_selected:            \n",
    "            PS_list.append(dict_risk_list[selected]['PS'])"
   ]
  },
  {
   "cell_type": "code",
   "execution_count": null,
   "id": "ambient-sewing",
   "metadata": {},
   "outputs": [],
   "source": [
    "index_list=[i[0] for i in sorted(enumerate(PS_list), key=lambda x:x[1])]\n",
    "index_list.reverse()\n",
    "for ind in index_list:\n",
    "    pprint(refined_selected[ind])\n",
    "    pprint('Max Palermo Scale:' + str(PS_list[ind]))\n",
    "    pprint('OCC:' + str(dict_risk_list[refined_selected[ind]]['condition_code']))"
   ]
  },
  {
   "cell_type": "markdown",
   "id": "motivated-myanmar",
   "metadata": {},
   "source": [
    "# Mission Design - Convenient target and Risk list compared"
   ]
  },
  {
   "cell_type": "code",
   "execution_count": null,
   "id": "sealed-picture",
   "metadata": {},
   "outputs": [],
   "source": [
    "years = ','.join(map(str, np.linspace(2021,2048,2048-2021+1,dtype=int)))\n",
    "data = sb_mission_design.get_accessible_sb(20,3,years,'neo',False,0,1,0)"
   ]
  },
  {
   "cell_type": "code",
   "execution_count": null,
   "id": "grave-vertical",
   "metadata": {},
   "outputs": [],
   "source": [
    "#TODO CHECK MODE A CHANGED\n",
    "#nasa_A_list=[];\n",
    "#for i in range(len(data['data'])):\n",
    "#    for j in range(len(data['data'][i])):\n",
    "#        if j==0:\n",
    "#            name=\"\";\n",
    "#            for c in data['data'][i][j]:\n",
    "#                if c!='(' and c!=')' and c!=' ':\n",
    "#                    name=name+c;        \n",
    "#            nasa_A_list.append(name);\n",
    "            \n",
    "            \n",
    "            \n"
   ]
  },
  {
   "cell_type": "code",
   "execution_count": null,
   "id": "negative-stamp",
   "metadata": {},
   "outputs": [],
   "source": [
    "convenient_risk_list=list(set(nasa_A_list) & set(risk_list))\n",
    "pprint(nasa_A_list)\n",
    "for risk in convenient_risk_list:\n",
    "    pprint(risk+' '+str(dict_risk_list[risk]['PS']))\n",
    "convenient_risk_list"
   ]
  },
  {
   "cell_type": "markdown",
   "id": "equivalent-medication",
   "metadata": {},
   "source": [
    "# Mission Design - Transfer arc analysis for Refined Risk List "
   ]
  },
  {
   "cell_type": "code",
   "execution_count": null,
   "id": "manual-oracle",
   "metadata": {},
   "outputs": [],
   "source": [
    "refined_selected_MD={};\n",
    "for name in refined_selected:\n",
    "    req_mjd0 = 59215\n",
    "    req_duration = 365\n",
    "    req_min_tof = 50\n",
    "    req_max_tof = 700\n",
    "    req_step_size = 5\n",
    "    refined_selected_MD[name]={};\n",
    "    refined_selected_MD[name]['missions'], refined_selected_MD[name]['porkchop_dv'], refined_selected_MD[name]['dep_date'], refined_selected_MD[name]['tof'], refined_selected_MD[name]['pc_plot'], refined_selected_MD[name]['mp_min_dv'], refined_selected_MD[name]['mp_dv_plot'] = \\\n",
    "        sb_mission_design.get_mission_profiles(name,req_mjd0,req_duration,req_min_tof,req_max_tof,req_step_size)"
   ]
  },
  {
   "cell_type": "code",
   "execution_count": null,
   "id": "adopted-documentary",
   "metadata": {},
   "outputs": [],
   "source": [
    "refined_selected_MD.keys()"
   ]
  },
  {
   "cell_type": "markdown",
   "id": "extra-contemporary",
   "metadata": {},
   "source": [
    "# Feature extraction of selected list"
   ]
  },
  {
   "cell_type": "code",
   "execution_count": null,
   "id": "outer-prevention",
   "metadata": {},
   "outputs": [],
   "source": [
    "asteroids = ['2012QD8','2005WG57','2012BY1','2012SY49','2008XU2','2008KN11','2020UE','2006HX57','2006SC']\n",
    "dict_risk_list=get_dict(asteroids)"
   ]
  },
  {
   "cell_type": "code",
   "execution_count": null,
   "id": "creative-bridges",
   "metadata": {},
   "outputs": [],
   "source": [
    "orb_class=[]; moid=[]; occ=[]; rms=[]; H=[]; N_obs=[]; worse_impact_ps=[]; worse_impact_date=[]; worse_impact_sigma_lov=[];\n",
    "idx = 0\n",
    "for el in dict_risk_list:\n",
    "    dict_risk_list\n",
    "    orb_class.insert(idx, dict_risk_list[asteroids[idx]]['orbit_class'])\n",
    "    moid.insert(idx, dict_risk_list[asteroids[idx]]['moid'])\n",
    "    occ.insert(idx, dict_risk_list[asteroids[idx]]['condition_code'])\n",
    "    rms.insert(idx, dict_risk_list[asteroids[idx]]['rms'])\n",
    "    H.insert(idx, dict_risk_list[asteroids[idx]]['H'])\n",
    "    N_obs.insert(idx, dict_risk_list[asteroids[idx]]['N_obs'])\n",
    "    worse_impact_ps_lim = -999\n",
    "    worse_impact_ps.insert(idx, worse_impact_ps_lim)\n",
    "    worse_impact_date_lim = '2048-01-01'\n",
    "    worse_impact_date.insert(idx, worse_impact_ps_lim)\n",
    "    # Sigma LOV is a measure of how well the impacting orbit fits the available observations.\n",
    "    # It is equal to zero for the best-fitting (nominal) orbit while orbits with values between -3 and +3 (“3-sigma”) \n",
    "    # comprise about 99% of the virtual asteroid swarm\n",
    "    worse_impact_sigma_lov_lim = -33\n",
    "    worse_impact_sigma_lov.insert(idx, worse_impact_sigma_lov_lim)\n",
    "    for i in range(len(dict_risk_list[asteroids[idx]]['impacts'])):\n",
    "        if (dict_risk_list[asteroids[idx]]['impacts'][str(i)]['ps'] > worse_impact_ps_lim and dict_risk_list[asteroids[idx]]['impacts'][str(i)]['date'] < worse_impact_date_lim):\n",
    "            worse_impact_ps.pop(idx)\n",
    "            worse_impact_ps.insert(idx, dict_risk_list[asteroids[idx]]['impacts'][str(i)]['ps'])\n",
    "            worse_impact_date.pop(idx)\n",
    "            worse_impact_date.insert(idx, dict_risk_list[asteroids[idx]]['impacts'][str(i)]['date'])\n",
    "            worse_impact_sigma_lov.pop(idx)\n",
    "            worse_impact_sigma_lov.insert(idx, dict_risk_list[asteroids[idx]]['impacts'][str(i)]['sigma_lov'])\n",
    "            \n",
    "            worse_impact_ps_lim = dict_risk_list[asteroids[idx]]['impacts'][str(i)]['ps']     \n",
    "            \n",
    "    idx = idx + 1"
   ]
  },
  {
   "cell_type": "code",
   "execution_count": null,
   "id": "fatal-baker",
   "metadata": {},
   "outputs": [],
   "source": [
    "t = QTable([asteroids,orb_class,moid,occ,rms,H,N_obs,worse_impact_ps,worse_impact_date,worse_impact_sigma_lov],\n",
    "           names=('name','orb_class','moid','occ','rms','H','N_obs','worse_impact_ps','worse_impact_date','worse_impact_sigma_lov'),\n",
    "           meta={'name': 'data table'});\n",
    "\n",
    "t.show_in_notebook()"
   ]
  },
  {
   "cell_type": "code",
   "execution_count": null,
   "id": "circular-treat",
   "metadata": {},
   "outputs": [],
   "source": []
  },
  {
   "cell_type": "code",
   "execution_count": null,
   "id": "consolidated-triumph",
   "metadata": {},
   "outputs": [],
   "source": []
  }
 ],
 "metadata": {
  "kernelspec": {
   "display_name": "Python 3",
   "language": "python",
   "name": "python3"
  },
  "language_info": {
   "codemirror_mode": {
    "name": "ipython",
    "version": 3
   },
   "file_extension": ".py",
   "mimetype": "text/x-python",
   "name": "python",
   "nbconvert_exporter": "python",
   "pygments_lexer": "ipython3",
   "version": "3.7.8"
  }
 },
 "nbformat": 4,
 "nbformat_minor": 5
}
