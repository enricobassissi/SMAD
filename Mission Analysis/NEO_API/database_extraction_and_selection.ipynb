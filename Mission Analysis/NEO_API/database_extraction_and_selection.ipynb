{
 "cells": [
  {
   "cell_type": "code",
   "execution_count": 22,
   "id": "affecting-failing",
   "metadata": {},
   "outputs": [],
   "source": [
    "from astroquery.jplhorizons import Horizons\n",
    "from astroquery.jplsbdb import SBDB\n",
    "from astropy.table import QTable\n",
    "import astropy.units as u\n",
    "\n",
    "#import pandas as pd\n",
    "import numpy as np\n",
    "import requests\n",
    "from pprint import pprint\n",
    "from array import *\n",
    "import matplotlib.pyplot as plt\n",
    "import matplotlib.ticker as ticker"
   ]
  },
  {
   "cell_type": "markdown",
   "id": "upper-mainland",
   "metadata": {},
   "source": [
    "# Define access to JPL SBDB"
   ]
  },
  {
   "cell_type": "code",
   "execution_count": 2,
   "id": "fancy-oasis",
   "metadata": {},
   "outputs": [],
   "source": [
    "def get_dict(name_list):\n",
    "    # Return information for each bodies in name_list from JPL Small Body Database in form of dictionair\n",
    "    # INPUT\n",
    "    # name_list      list [name1, name2, ..., nameN]\n",
    "    # OUTPUT\n",
    "    # dict_bodies    dict with the following structure\n",
    "    # str(name): \"fullname\"\n",
    "    #         \"our_id\"                is the id inside the new dict, from 0 to N-1 where N is the name_list length\n",
    "    #         \"neo_flag\"\n",
    "    #         \"orbit_class\"\n",
    "    #         \"pha_flag\"\n",
    "    #         \"object_kind\"\n",
    "    #         \"moid\"\n",
    "    #         \"condition_code\"\n",
    "    #         \"rms\"\n",
    "    #         \"orbit_comment\"\n",
    "    #         \"magn_radius_flag\"      is \"H\" if the next parameter is the magnitude, is \"D\" if the next parameter is the diameter\n",
    "    #         \"H\" or \"D\"\n",
    "    #         \"spectral_category_flag\"     T, S or 0\n",
    "    #         \"spectral_category\"\n",
    "    #         \"impacts\": str(impact id):   'width'  \n",
    "    #                                      'energy'\n",
    "    #                                      'stretch'\n",
    "    #                                      'ip'\n",
    "    #                                      'dt'\n",
    "    #                                      'date'\n",
    "    #                                      'sigma_lov'\n",
    "    #                                      'h'\n",
    "    #                                      'mass'\n",
    "    #                                      'v_inf'\n",
    "    #                                      'sigma_imp'\n",
    "    #                                      'method'\n",
    "    #                                      'ts'\n",
    "    #                                      'diam'\n",
    "    #                                      'dist'\n",
    "    #                                      'v_imp'\n",
    "    #                                      'ps'\n",
    "    \n",
    "    our_id=0;\n",
    "    dict_bodies={};\n",
    "\n",
    "    for name in name_list:\n",
    "        sbdb = SBDB.query(name, neo_only=True, full_precision=True, phys=True, virtual_impactor=True)\n",
    "        asteroid={\"fullname\": sbdb[\"object\"][\"fullname\"],# TODO vogliamo fare un check?\n",
    "          \"our_id\":our_id,\n",
    "          \"neo_flag\": sbdb[\"object\"][\"neo\"],\n",
    "          \"orbit_class\":sbdb[\"object\"][\"orbit_class\"][\"code\"],\n",
    "          \"pha_flag\":sbdb[\"object\"][\"pha\"],\n",
    "          \"object_kind\":sbdb[\"object\"][\"kind\"], #an asteroid numbered au unbered asteroid (cn, cu for comet)\n",
    "          \"moid\": sbdb[\"orbit\"][\"moid\"],\n",
    "          \"condition_code\": sbdb[\"orbit\"][\"condition_code\"], #OCC\n",
    "          \"rms\": sbdb[\"orbit\"][\"rms\"],\n",
    "          \"orbit_comment\":sbdb[\"orbit\"][\"comment\"],\n",
    "         };\n",
    "        try:     \n",
    "            asteroid[\"magn_radius_flag\"]='H';\n",
    "            asteroid[\"H\"]=sbdb['phys_par']['H'];\n",
    "        except:\n",
    "            asteroid[\"magn_radius_flag\"]='D';\n",
    "            asteroid[\"D\"]=sbdb['phys_par']['diameter'];\n",
    "        asteroid[\"impacts\"]={}\n",
    "        flag_bool=1;\n",
    "        if 'phys_par' in sbdb.keys():\n",
    "            spect_flag=0;\n",
    "            if 'spec_T' in sbdb['phys_par'].keys():\n",
    "                asteroid[\"spectral_category_flag\"]='T'\n",
    "                asteroid[\"spectral_category\"]=sbdb['phys_par']['spec_T']\n",
    "                spect_flag=1;\n",
    "            if 'spec_B' in sbdb['phys_par'].keys():\n",
    "                asteroid[\"spectral_category_flag\"]='B'\n",
    "                asteroid[\"spectral_category\"]=sbdb['phys_par']['spec_B']\n",
    "                spect_flag=1;\n",
    "            if spect_flag==0:\n",
    "                asteroid[\"spectral_category_flag\"]='0'\n",
    "        else:\n",
    "            asteroid[\"spectral_category\"]='0'\n",
    "                \n",
    "        if 'ip' in sbdb[\"vi_data\"]:\n",
    "            n_imp=len(sbdb[\"vi_data\"]['ip']);\n",
    "            for key in sbdb[\"vi_data\"].keys():\n",
    "                if flag_bool==1:\n",
    "                    for i in range(0,n_imp):\n",
    "                        asteroid[\"impacts\"][str(i)]={};\n",
    "                    flag_bool=0;\n",
    "                for i in range(0,n_imp): \n",
    "                    try:\n",
    "                        asteroid[\"impacts\"][str(i)][key]=sbdb[\"vi_data\"][key][i];\n",
    "                    except:\n",
    "                        pprint(name+\" could raise error in importing virtual impact data\") #this exception is raised if only one impact is present\n",
    "        dict_bodies[name]=asteroid;\n",
    "        our_id=our_id+1;\n",
    "        flag_bool=1;\n",
    "        del asteroid;\n",
    "    return dict_bodies\n",
    "        "
   ]
  },
  {
   "cell_type": "markdown",
   "id": "third-clinton",
   "metadata": {},
   "source": [
    "# Extract ESA risk list"
   ]
  },
  {
   "cell_type": "code",
   "execution_count": 3,
   "id": "interim-spirituality",
   "metadata": {},
   "outputs": [],
   "source": [
    "def extract_esa_name_from_file(file_name):\n",
    "    f = open(file_name, \"r\")\n",
    "    line=f.readline()\n",
    "    line=f.readline()\n",
    "    line=f.readline()\n",
    "    line=f.readline()\n",
    "    counter=0;\n",
    "    esa_names=[]\n",
    "    for line in f:\n",
    "        word=\"\";\n",
    "        for c in line:\n",
    "            if c==' ':\n",
    "                break;\n",
    "            else:\n",
    "                word=word+c;\n",
    "        esa_names.append(word);  \n",
    "    return esa_names"
   ]
  },
  {
   "cell_type": "code",
   "execution_count": 4,
   "id": "coordinated-revolution",
   "metadata": {},
   "outputs": [],
   "source": [
    "esa_risk_names=extract_esa_name_from_file(\"esa_risk_list.txt\");"
   ]
  },
  {
   "cell_type": "markdown",
   "id": "nervous-currency",
   "metadata": {},
   "source": [
    "# Extract SENTRY risk list"
   ]
  },
  {
   "cell_type": "code",
   "execution_count": 5,
   "id": "unknown-charger",
   "metadata": {},
   "outputs": [],
   "source": [
    "def get_sentry_risk_list():\n",
    "    url = 'https://ssd-api.jpl.nasa.gov/sentry.api'\n",
    "    r = requests.get(url)\n",
    "    data = r.json()\n",
    "    sentry_risk_names=[];\n",
    "    for i in range(0,len(data['data'])):\n",
    "        name_=\"\"\n",
    "        name=data['data'][i]['des'];\n",
    "        for c in name:\n",
    "            if c==' ':\n",
    "                a=0;\n",
    "            else:\n",
    "                name_=name_+c;\n",
    "        sentry_risk_names.append(name_)\n",
    "    return sentry_risk_names\n"
   ]
  },
  {
   "cell_type": "code",
   "execution_count": 6,
   "id": "amino-valentine",
   "metadata": {},
   "outputs": [],
   "source": [
    "sentry_risk_names=get_sentry_risk_list()"
   ]
  },
  {
   "cell_type": "markdown",
   "id": "breathing-single",
   "metadata": {},
   "source": [
    "# Merge risk lists"
   ]
  },
  {
   "cell_type": "code",
   "execution_count": 7,
   "id": "constant-variation",
   "metadata": {},
   "outputs": [],
   "source": [
    "risk_list=esa_risk_names;\n",
    "counter=0;\n",
    "for risk_name in sentry_risk_names:\n",
    "    if risk_name not in esa_risk_names:\n",
    "        risk_list.append(risk_name)"
   ]
  },
  {
   "cell_type": "markdown",
   "id": "criminal-romantic",
   "metadata": {},
   "source": [
    "# Query SBDB for all risk list elements"
   ]
  },
  {
   "cell_type": "code",
   "execution_count": 8,
   "id": "applicable-operations",
   "metadata": {},
   "outputs": [
    {
     "name": "stdout",
     "output_type": "stream",
     "text": [
      "'29075 could raise error in importing virtual impact data'\n"
     ]
    }
   ],
   "source": [
    "dict_risk_list=get_dict(risk_list);"
   ]
  },
  {
   "cell_type": "markdown",
   "id": "charming-closing",
   "metadata": {},
   "source": [
    "# DB visualization"
   ]
  },
  {
   "cell_type": "markdown",
   "id": "tropical-local",
   "metadata": {},
   "source": [
    "# MOID & H"
   ]
  },
  {
   "cell_type": "code",
   "execution_count": 71,
   "id": "revolutionary-collar",
   "metadata": {},
   "outputs": [
    {
     "name": "stdout",
     "output_type": "stream",
     "text": [
      "'2010MA113 does not have magnitude info'\n",
      "'2010MY112 does not have magnitude info'\n",
      "'2010MZ112 does not have magnitude info'\n"
     ]
    },
    {
     "data": {
      "image/png": "[encoded data removed]",
      "text/plain": [
       "<Figure size 432x288 with 1 Axes>"
      ]
     },
     "metadata": {
      "needs_background": "light"
     },
     "output_type": "display_data"
    }
   ],
   "source": [
    "H_=[];\n",
    "MOID_=[];\n",
    "for key in dict_risk_list:\n",
    "    try:\n",
    "        H_.append(dict_risk_list[key]['H']);\n",
    "        MOID_.append(dict_risk_list[key]['moid'].scale)\n",
    "    except:\n",
    "        pprint(key+' does not have magnitude info')\n",
    "x = MOID_\n",
    "y = H_\n",
    "fig, ax = plt.subplots()\n",
    "ax.plot(x,y, marker='o', linewidth=0)\n",
    "start, end = ax.get_ylim()\n",
    "ax.yaxis.set_ticks(np.arange(-14, 306, 20))\n",
    "ax.yaxis.set_major_formatter(ticker.FormatStrFormatter('%0.1f'))\n",
    "plt.show()"
   ]
  },
  {
   "cell_type": "markdown",
   "id": "certified-ivory",
   "metadata": {},
   "source": [
    "# List only asteroids with known spectral type"
   ]
  },
  {
   "cell_type": "code",
   "execution_count": 9,
   "id": "collected-explanation",
   "metadata": {},
   "outputs": [
    {
     "name": "stdout",
     "output_type": "stream",
     "text": [
      "'101955'\n"
     ]
    }
   ],
   "source": [
    "spectral_known=[];\n",
    "for key in dict_risk_list.keys():\n",
    "    if (dict_risk_list[key]['spectral_category_flag']==\"B\") or (dict_risk_list[key]['spectral_category_flag']==\"T\"):\n",
    "        spectral_known.append('key');\n",
    "        pprint(key)"
   ]
  },
  {
   "cell_type": "markdown",
   "id": "advance-spine",
   "metadata": {},
   "source": [
    "# Requirements filter"
   ]
  },
  {
   "cell_type": "markdown",
   "id": "bearing-massachusetts",
   "metadata": {},
   "source": [
    "# MOID<=0.05au, H<=22 (if H is not available diameter>=400m)"
   ]
  },
  {
   "cell_type": "code",
   "execution_count": 10,
   "id": "driven-binary",
   "metadata": {},
   "outputs": [],
   "source": [
    "MOID_H_selected=[];\n",
    "for key in dict_risk_list.keys():\n",
    "    if float(dict_risk_list[key]['moid'].scale)<=0.05: #MOID<=0.05 AU\n",
    "        if (dict_risk_list[key][\"magn_radius_flag\"]=='H' and float(dict_risk_list[key][\"H\"])<=22) or (dict_risk_list[key][\"magn_radius_flag\"]=='D' and float(dict_risk_list[key][\"D\"])>=400):\n",
    "            MOID_H_selected.append(key)"
   ]
  },
  {
   "cell_type": "markdown",
   "id": "undefined-cheese",
   "metadata": {},
   "source": [
    "# At least one impact 2026<year<22048 with a Palermo Scale>=-5"
   ]
  },
  {
   "cell_type": "code",
   "execution_count": 11,
   "id": "indirect-economy",
   "metadata": {},
   "outputs": [],
   "source": [
    "date_selected=[];\n",
    "PS_date_selected=[]\n",
    "for key in dict_risk_list.keys():\n",
    "    if '0' in dict_risk_list[key]['impacts'].keys():\n",
    "        max_P=-100;\n",
    "        date_flag=0;\n",
    "        for imp_id in dict_risk_list[key]['impacts'].keys():\n",
    "            word='';\n",
    "            for c in dict_risk_list[key]['impacts'][imp_id]['date']:\n",
    "                #pprint(c)\n",
    "                if c=='-':\n",
    "                    break;\n",
    "                else:\n",
    "                    word=word+c;\n",
    "            if int(word)<2048 and int(word)>2026:\n",
    "                date_flag=1;\n",
    "                if float(dict_risk_list[key]['impacts'][imp_id]['ps'])>max_P:\n",
    "                    max_P=float(dict_risk_list[key]['impacts'][imp_id]['ps']);\n",
    "        if date_flag==1:\n",
    "            date_selected.append(key)\n",
    "            if max_P>=-5:\n",
    "                PS_date_selected.append(key)"
   ]
  },
  {
   "cell_type": "markdown",
   "id": "human-johns",
   "metadata": {},
   "source": [
    "# Intersect filtered lists"
   ]
  },
  {
   "cell_type": "code",
   "execution_count": 12,
   "id": "defensive-assistant",
   "metadata": {},
   "outputs": [],
   "source": [
    "refined_selected=list(set(PS_date_selected) & set(MOID_H_selected))"
   ]
  },
  {
   "cell_type": "markdown",
   "id": "conventional-indie",
   "metadata": {},
   "source": [
    "# REPORT RESULTS:"
   ]
  },
  {
   "cell_type": "code",
   "execution_count": 13,
   "id": "apart-carter",
   "metadata": {},
   "outputs": [
    {
     "name": "stdout",
     "output_type": "stream",
     "text": [
      "'on date and PS:'\n",
      "['2008JL3',\n",
      " '2011DU9',\n",
      " '2012QD8',\n",
      " '2005QK76',\n",
      " '2007KE4',\n",
      " '2014MR26',\n",
      " '2012MF7',\n",
      " '2008CC71',\n",
      " '2007FT3',\n",
      " '2020XE',\n",
      " '2006DM63',\n",
      " '2018DQ',\n",
      " '1995CS',\n",
      " '2012VE77',\n",
      " '2016EO28',\n",
      " '2020YN',\n",
      " '2016WN55',\n",
      " '2016NL56']\n",
      "'on MOID and H:'\n",
      "['1979XB',\n",
      " '2001VB',\n",
      " '2007FT3',\n",
      " '2006CM10',\n",
      " '2002GM5',\n",
      " '2017QC36',\n",
      " '2020FA5',\n",
      " '2007PR25',\n",
      " '2011BT59',\n",
      " '2017AB21',\n",
      " '2021ED5',\n",
      " '2004GE2',\n",
      " '2016NL56',\n",
      " '2001CA21',\n",
      " '2014MV67',\n",
      " '29075',\n",
      " '101955']\n",
      "'refined search:'\n",
      "['2007FT3', '2016NL56']\n"
     ]
    }
   ],
   "source": [
    "pprint('on date and PS:')\n",
    "pprint(PS_date_selected)\n",
    "pprint('on MOID and H:')\n",
    "pprint(MOID_H_selected)\n",
    "pprint('refined search:')\n",
    "pprint(refined_selected)"
   ]
  },
  {
   "cell_type": "code",
   "execution_count": 74,
   "id": "advised-kennedy",
   "metadata": {},
   "outputs": [],
   "source": [
    "for selected in refined_selected:\n",
    "    pprint(dict_risk_list[selected])"
   ]
  },
  {
   "cell_type": "code",
   "execution_count": null,
   "id": "precious-trader",
   "metadata": {},
   "outputs": [],
   "source": []
  }
 ],
 "metadata": {
  "kernelspec": {
   "display_name": "Python 3",
   "language": "python",
   "name": "python3"
  },
  "language_info": {
   "codemirror_mode": {
    "name": "ipython",
    "version": 3
   },
   "file_extension": ".py",
   "mimetype": "text/x-python",
   "name": "python",
   "nbconvert_exporter": "python",
   "pygments_lexer": "ipython3",
   "version": "3.9.0"
  }
 },
 "nbformat": 4,
 "nbformat_minor": 5
}
