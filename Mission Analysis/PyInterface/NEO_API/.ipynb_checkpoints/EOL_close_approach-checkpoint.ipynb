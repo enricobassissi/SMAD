{
 "cells": [
  {
   "cell_type": "code",
   "execution_count": 1,
   "id": "level-cherry",
   "metadata": {},
   "outputs": [],
   "source": [
    "import requests\n",
    "import math\n",
    "import numpy as np\n",
    "from astropy.time import Time\n",
    "from astropy.table import QTable\n",
    "import pandas as pd\n",
    "import matplotlib.pyplot as plt\n",
    "import matplotlib.dates as mdates\n",
    "#plt.rc('font', family='DejaVu Sans', serif='Times')\n",
    "#plt.rc('text', usetex=True)\n",
    "from pprint import pprint\n",
    "from datetime import datetime\n",
    "import re\n",
    "from astroquery.jplhorizons import Horizons"
   ]
  },
  {
   "cell_type": "markdown",
   "id": "floating-cathedral",
   "metadata": {},
   "source": [
    "This API provides access to the JPL/SSD small-body mission design suite. The following operation modes are available:\n",
    "* Mode T (mission extension) - retrieves the list of small bodies that come closest (or within a prescribed distance) to a user-defined orbit during a certain period of time. This is a crude filter for finding potential candidates for mission extensions.\n",
    "\n",
    "The reference heliocentric orbit is defined by providing the corresponding set of cometary elements.\n",
    "\n",
    "Mode T - Request list of small bodies that come closest (or within a prescribed distance) to a user-specified heliocentric orbit (assumes two-body dynamics). Proxy for easiest-to-reach targets for an extended mission phase.\n",
    "\n",
    "Query Examples:\n",
    "Request the 100 objects that come within 0.001 au of a user-specified orbit between 2020-1-1 and 2020-10-10.\n",
    "* https://ssd-api.jpl.nasa.gov/mdesign.api?ec=0.2056408220896557&qr=0.3074958016246215&tp=2459067.6508400026&om=48.30597718083336&w=29.18348714438387&in=7.003733902930839&jd0=2458849.5&jdf=2459132.5&maxout=100&maxdist=0.0010 \n",
    "\n",
    "Output:\n",
    "In mode T, the JSON payload contains the list of objects that come closest to the user-specified orbit.\n",
    "\n",
    "    md_constraints - summarizes the user-specified constraints (orbit parameters, time span, maximum distance, and maximum number of records)\n",
    "    ec - eccentricity of the reference orbit.\n",
    "    qr - perihelion distance of the reference orbit.\n",
    "    tp - time of perihelion passage of the reference orbit (JD).\n",
    "    in - inclination of the reference orbit (deg).\n",
    "    om - longitude of the ascending node of the reference orbit (deg).\n",
    "    w - argument of periapsis of the reference orbit (deg).\n",
    "    maxdist - (if maxdist was provided) maximum admissible close-approach distance (au).\n",
    "    maxout - maximum number of output records.\n",
    "    jd0 - start of the time span (JD).\n",
    "    jdf - end of the time span (JD). Time span must not be longer than one year.\n",
    "    count - number of objects in the output list.\n",
    "    fields - list of fields in the output table:\n",
    "    full_name - object full name.\n",
    "    date - date of closest approach (calendar).\n",
    "    jd - date of closest approach (JD).\n",
    "    min_dist_au - close-approach distance (au).\n",
    "    min_dist_km - close-approach distance (km).\n",
    "    rel_vel - relative velocity at closest approach (km/s).\n",
    "    class - small-body orbit class.\n",
    "    H - absolute magnitude.\n",
    "    condition_code - orbit condition code.\n",
    "    neo - near-Earth object flag.\n",
    "    pha - potentially hazardous asteroid flag.\n",
    "    sats - number of satellites.\n",
    "    spkid - SPK object id.\n",
    "    pdes - primary designation.\n",
    "    data - output data arranged in an array where each entry corresponds to a small body and the fields are defined by fields.\n",
    "\n",
    "[Reference of the API construction, data input and output](https://ssd-api.jpl.nasa.gov/doc/mdesign.html)"
   ]
  },
  {
   "cell_type": "code",
   "execution_count": 2,
   "id": "74cc5e7c",
   "metadata": {},
   "outputs": [],
   "source": [
    "def get_horizons_ephemerides_elements(name,pov,epoch_start):\n",
    "    \n",
    "    # step: step size, [10m, 1d, 1y]\n",
    "    \n",
    "    if pov.lower() == 'sun':\n",
    "        loc = '500@10' # position relative to the sun\n",
    "    elif pov.lower() == 'goldstone':\n",
    "        loc = '257' # from goldstone\n",
    "    elif pov.lower() == 'maunakea':\n",
    "        loc = '568' # maunakea\n",
    "    else:\n",
    "        print('Not Valid Location Point Of View')\n",
    "    \n",
    "    # Process to get homogeneity from main script full name '2012QD8' to a valid name for Horizon call '2012 QD8'\n",
    "    if len(re.findall('([0-9])', name)) <= 4: # 4 is the min numbers in every name, the date year of discovery\n",
    "        r = re.compile(\"([0-9]+)([a-zA-Z]+)\").match(name)\n",
    "        k1 = r.group(1) # the date of the name\n",
    "        k2 = r.group(2) # the code of the date\n",
    "        valid_name = k1 + \" \" + k2 \n",
    "    else:\n",
    "        r = re.compile(\"([0-9]+)([a-zA-Z]+)([0-9]+)\").match(name)\n",
    "        k1 = r.group(1) # the date of the name\n",
    "        k2 = r.group(2) # the code of the date\n",
    "        k3 = r.group(3) # id after the letters\n",
    "        valid_name = k1 + \" \" + k2 + k3\n",
    "    \n",
    "    # always a day after the input, anyway you consider the moment of input, the first of the data output extracted\n",
    "    epoch_start\n",
    "    chunks = epoch_start.split('-')\n",
    "    chunks2 = int(chunks[2]) + 1 # add 1 day\n",
    "    list_string = [chunks[0], chunks[1], str(chunks2)]\n",
    "    epoch_stop = '-'.join(list_string)\n",
    "\n",
    "    step_size = '1d'\n",
    "    \n",
    "    obj = Horizons(id=valid_name, \n",
    "               location=loc, \n",
    "               epochs={'start': epoch_start, 'stop':epoch_stop,\n",
    "                       'step': step_size})\n",
    "    \n",
    "    # refsystem = 'J2000', # Element reference system for geometric and astrometric quantities\n",
    "    # refplane = 'ecliptic' #ecliptic and mean equinox of reference epoch\n",
    "    data = obj.elements(refsystem = 'J2000',refplane = 'ecliptic')\n",
    "\n",
    "    len_cols = 7 # jd,ec,qr,tp,incl,OM,om\n",
    "    adata =  np.zeros([1,len_cols]) \n",
    "    # always assign the first row of output data -> the first date required!\n",
    "    #for row in range(len_rows):\n",
    "    adata[0,0] = data[0][5] # 6th column of data -> e, eccentricity (-)\n",
    "    adata[0,1] = data[0][6] # 7th column of data -> qr, periapsis distance (AU)\n",
    "    adata[0,2] = data[0][10] # 11th column of data -> tp, time of periapsis (JD)\n",
    "    adata[0,3] = data[0][7] # 8th column of data -> incl, inclination (deg)\n",
    "    adata[0,4] = data[0][8] # 10th column of data -> OM, longitude of Asc. Node (deg)\n",
    "    adata[0,5] = data[0][9] # 11th column of data -> om, argument of periapsis (deg)\n",
    "    adata[0,6] = data[0][1] # 2nd column of the data extracted -> jd of evaluation\n",
    "        \n",
    "    return adata"
   ]
  },
  {
   "cell_type": "code",
   "execution_count": 4,
   "id": "buried-settlement",
   "metadata": {},
   "outputs": [],
   "source": [
    "# Mode T - Request list of small bodies that come closest (or within a prescribed distance) to a user-specified heliocentric \n",
    "# orbit (assumes two-body dynamics). Proxy for easiest-to-reach targets for an extended mission phase.\n",
    "# example url\n",
    "# https://ssd-api.jpl.nasa.gov/mdesign.api?ec=0.2056408220896557&qr=0.3074958016246215&tp=2459067.6508400026&\n",
    "# om=48.30597718083336&w=29.18348714438387&in=7.003733902930839&jd0=2458849.5&jdf=2459132.5&maxout=100&maxdist=0.0010\n",
    "\n",
    "def get_close_approach_to_asteroid(orb_params,jd0,jdf,n_object_requested,distance_within):\n",
    "    # The reference heliocentric orbit is defined by providing the corresponding set of cometary elements.\n",
    "    # orb_params:            array containing the orbital parameters required to run the query\n",
    "    #     ec:                eccentricity [>0]\n",
    "    #     qr:                perihelion distance [>0]\n",
    "    #     tp:                time of perihelion passage (JD)\n",
    "    #     incl:              inclination (deg) [0,180]\n",
    "    #     OM:                longitude of the ascending node (deg) [0,360]\n",
    "    #     om:                argument of periapsis (deg) [0,360]\n",
    "    # jd0:                   beginning of the requested time span (JD)\n",
    "    # jdf:                   end of the requested time span (JD). Time span must not be longer than one year\n",
    "    # n_object_requested:    maximum number of records to be returned\n",
    "    # distance_within:       ignore objects with distance of closest approach greater than \"distance_within\" [>0, optional]\n",
    "    \n",
    "    # Extraction of inputs\n",
    "    ec = orb_params[0,0]\n",
    "    qr = orb_params[0,1]\n",
    "    tp = orb_params[0,2]\n",
    "    incl = orb_params[0,3]\n",
    "    OM = orb_params[0,4]\n",
    "    om = orb_params[0,5]\n",
    "    \n",
    "    # Construction of the HTTP request\n",
    "    url_base = 'https://ssd-api.jpl.nasa.gov/mdesign.api'\n",
    "    url = f'{url_base}?ec={str(ec)}&qr={str(qr)}&tp={str(tp)}&in={str(incl)}&om={str(OM)}&w={str(om)}&jd0={str(jd0)}&jdf={str(jdf)}&maxout={str(n_object_requested)}&maxdist={str(distance_within)}'\n",
    "    r = requests.get(url)\n",
    "    data = r.json()\n",
    "    \n",
    "    return data"
   ]
  },
  {
   "cell_type": "code",
   "execution_count": 6,
   "id": "49fedeb9",
   "metadata": {},
   "outputs": [
    {
     "data": {
      "text/plain": [
       "array([[2.20002242e-01, 8.78987570e-01, 2.46335280e+06, 7.93565618e-02,\n",
       "        2.17328689e+02, 8.35794392e+01, 2.46356750e+06]])"
      ]
     },
     "execution_count": 6,
     "metadata": {},
     "output_type": "execute_result"
    }
   ],
   "source": [
    "name = '2009TD17'\n",
    "PointOfView = 'Sun'\n",
    "epoch_start = '2032-12-01'## end of mission on SC 2, with CoastingTime on 2nd ast = CT1 1st ast\n",
    "\n",
    "data_2009TD17 = get_horizons_ephemerides_elements(name,PointOfView,epoch_start)\n",
    "data_2009TD17"
   ]
  },
  {
   "cell_type": "code",
   "execution_count": 7,
   "id": "626d768b",
   "metadata": {},
   "outputs": [],
   "source": [
    "jd0 = data_2009TD17[0,6] # date of the required orbit as before\n",
    "jdf = jd0 + 100 # must be max 1 year more than jd0\n",
    "n_object_requested = 100\n",
    "distance_within = 0.05 # I suppose in AU, 0.0026 it's approx 1 LD\n",
    "CAD_2009TD17 = get_close_approach_to_asteroid(data_2009TD17,jd0,jdf,n_object_requested,distance_within)"
   ]
  },
  {
   "cell_type": "code",
   "execution_count": 8,
   "id": "9c16735b",
   "metadata": {},
   "outputs": [],
   "source": [
    "dist_km = CAD_2009TD17['data'][1][4] \n",
    "rel_vel_km_s = CAD_2009TD17['data'][1][5]"
   ]
  },
  {
   "cell_type": "code",
   "execution_count": 9,
   "id": "5f647d7f",
   "metadata": {},
   "outputs": [],
   "source": [
    "def get_CAD_params(cad_input, idx_element):\n",
    "    # obtain close approach data interesting to be analysed\n",
    "    adata =  np.zeros([1,6]) \n",
    "    if cad_input['data'][1][9] == 'Y':\n",
    "        # vector with the object names\n",
    "        aname1 = cad_input['data'][idx_element][0] # name\n",
    "        aname2 = aname1.strip()\n",
    "        aname3 = aname2.split('(')\n",
    "        aname4 = aname3[1].split(')')\n",
    "        aname = aname4[0]\n",
    "        \n",
    "        adata[0,0] = cad_input['data'][idx_element][2] # jd of encounter\n",
    "        adata[0,1] = cad_input['data'][idx_element][4] # distance close approach km\n",
    "        adata[0,2] = cad_input['data'][idx_element][5] # relative velocity km/s\n",
    "        adata[0,3] = cad_input['data'][idx_element][7] # absolute magnitude H\n",
    "        adata[0,4] = cad_input['data'][idx_element][8] # orbit condition code\n",
    "        if cad_input['data'][idx_element][10] == 'Y':\n",
    "            adata[0,5] = 1 # pha flag true -> 1\n",
    "        elif cad_input['data'][idx_element][10] == 'N':\n",
    "            adata[0,5] = 0 # pha flag false -> 0\n",
    "            \n",
    "    return aname, adata\n",
    "    "
   ]
  },
  {
   "cell_type": "code",
   "execution_count": 11,
   "id": "0d207ab1",
   "metadata": {},
   "outputs": [],
   "source": [
    "cad_objects = []\n",
    "cad_params =  np.zeros([int(CAD_2009TD17['count']),6]) \n",
    "idx = 0;\n",
    "for i in range(0,int(CAD_2009TD17['count'])):\n",
    "    obj, params = get_CAD_params(CAD_2009TD17,i)\n",
    "    if obj != '2009 TD17':\n",
    "        cad_objects.append(obj)\n",
    "        cad_params[idx,0:6] = params\n",
    "        idx = idx + 1"
   ]
  },
  {
   "cell_type": "code",
   "execution_count": 12,
   "id": "45401907",
   "metadata": {},
   "outputs": [
    {
     "data": {
      "text/plain": [
       "array([[6.36670000e+04, 2.85336404e+06, 7.52504730e-04, 2.79000000e+01,\n",
       "        7.00000000e+00, 0.00000000e+00],\n",
       "       [6.36670000e+04, 3.25820711e+06, 4.11954267e-03, 2.31000000e+01,\n",
       "        1.00000000e+00, 0.00000000e+00],\n",
       "       [6.35670000e+04, 3.68937972e+06, 1.14474144e-03, 2.62000000e+01,\n",
       "        7.00000000e+00, 0.00000000e+00],\n",
       "       [6.36570000e+04, 3.83192963e+06, 5.55130105e-03, 2.22000000e+01,\n",
       "        7.00000000e+00, 0.00000000e+00],\n",
       "       [6.36480000e+04, 4.18210317e+06, 1.33066212e-02, 2.38000000e+01,\n",
       "        9.00000000e+00, 0.00000000e+00],\n",
       "       [6.36200000e+04, 4.83503831e+06, 9.47634094e-03, 2.48000000e+01,\n",
       "        9.00000000e+00, 0.00000000e+00],\n",
       "       [6.36450000e+04, 5.14778802e+06, 4.83272586e-03, 2.49290000e+01,\n",
       "        8.00000000e+00, 0.00000000e+00],\n",
       "       [6.35810000e+04, 5.58164810e+06, 6.99683844e-03, 2.19000000e+01,\n",
       "        5.00000000e+00, 1.00000000e+00],\n",
       "       [6.36350000e+04, 6.11457165e+06, 9.32758042e-03, 1.62900000e+01,\n",
       "        1.00000000e+00, 0.00000000e+00],\n",
       "       [6.35770000e+04, 6.15775856e+06, 3.99917633e-03, 2.06000000e+01,\n",
       "        0.00000000e+00, 0.00000000e+00],\n",
       "       [6.36670000e+04, 6.33086078e+06, 1.37952247e-02, 1.92000000e+01,\n",
       "        0.00000000e+00, 0.00000000e+00],\n",
       "       [6.36440000e+04, 6.33930631e+06, 4.52433718e-03, 2.17000000e+01,\n",
       "        4.00000000e+00, 1.00000000e+00],\n",
       "       [6.35700000e+04, 6.38480042e+06, 6.53869766e-03, 2.59000000e+01,\n",
       "        7.00000000e+00, 0.00000000e+00],\n",
       "       [6.36220000e+04, 6.65836255e+06, 1.52443635e-02, 2.19000000e+01,\n",
       "        7.00000000e+00, 1.00000000e+00],\n",
       "       [6.36210000e+04, 6.72076758e+06, 3.86902761e-03, 2.66000000e+01,\n",
       "        7.00000000e+00, 0.00000000e+00],\n",
       "       [6.35670000e+04, 6.81191562e+06, 3.10261968e-03, 2.78600000e+01,\n",
       "        7.00000000e+00, 0.00000000e+00],\n",
       "       [6.36460000e+04, 7.07360103e+06, 8.85833839e-03, 1.90000000e+01,\n",
       "        0.00000000e+00, 0.00000000e+00],\n",
       "       [6.36390000e+04, 7.26498521e+06, 7.59156268e-03, 2.27000000e+01,\n",
       "        5.00000000e+00, 0.00000000e+00],\n",
       "       [6.36220000e+04, 7.40958598e+06, 7.74285832e-03, 2.85000000e+01,\n",
       "        8.00000000e+00, 0.00000000e+00],\n",
       "       [6.36580000e+04, 7.45305433e+06, 1.03223525e-02, 2.06000000e+01,\n",
       "        0.00000000e+00, 0.00000000e+00],\n",
       "       [0.00000000e+00, 0.00000000e+00, 0.00000000e+00, 0.00000000e+00,\n",
       "        0.00000000e+00, 0.00000000e+00]])"
      ]
     },
     "execution_count": 12,
     "metadata": {},
     "output_type": "execute_result"
    }
   ],
   "source": [
    "cad_params"
   ]
  },
  {
   "cell_type": "code",
   "execution_count": null,
   "id": "74a84cac",
   "metadata": {},
   "outputs": [],
   "source": [
    "name = '2021JE1'\n",
    "PointOfView = 'Sun'\n",
    "epoch_start = '2032-12-15'## end of mission on SC 2, with CoastingTime on b_th ast = CTa a_th ast\n",
    "\n",
    "data_2021JE1 = get_horizons_ephemerides_elements(name,PointOfView,epoch_start)\n",
    "data_2021JE1"
   ]
  },
  {
   "cell_type": "code",
   "execution_count": null,
   "id": "b8588dba",
   "metadata": {},
   "outputs": [],
   "source": [
    "jd0 = data_2021JE1[0,6] # date of the required orbit as before\n",
    "jdf = jd0 + 100 # must be max 1 year more than jd0\n",
    "n_object_requested = 100\n",
    "distance_within = 0.05 # I suppose in AU, 0.0026 it's approx 1 LD\n",
    "CAD_2021JE1 = get_close_approach_to_asteroid(data_2021JE1,jd0,jdf,n_object_requested,distance_within)"
   ]
  },
  {
   "cell_type": "code",
   "execution_count": null,
   "id": "831ca4f5",
   "metadata": {},
   "outputs": [],
   "source": [
    "cad_objects2 = []\n",
    "cad_params2 =  np.zeros([int(CAD_2021JE1['count']),6]) \n",
    "for i in range(0,int(CAD_2021JE1['count'])):\n",
    "    obj, params = get_CAD_params(CAD_2021JE1,i)\n",
    "    cad_objects2.append(obj)\n",
    "    cad_params2[i,0:6] = params"
   ]
  },
  {
   "cell_type": "code",
   "execution_count": null,
   "id": "1d875d27",
   "metadata": {},
   "outputs": [],
   "source": [
    "cad_objects2"
   ]
  },
  {
   "cell_type": "code",
   "execution_count": null,
   "id": "b1d732dd",
   "metadata": {},
   "outputs": [],
   "source": [
    "cad_params2"
   ]
  },
  {
   "cell_type": "code",
   "execution_count": null,
   "id": "55074776",
   "metadata": {},
   "outputs": [],
   "source": []
  }
 ],
 "metadata": {
  "kernelspec": {
   "display_name": "Python 3",
   "language": "python",
   "name": "python3"
  },
  "language_info": {
   "codemirror_mode": {
    "name": "ipython",
    "version": 3
   },
   "file_extension": ".py",
   "mimetype": "text/x-python",
   "name": "python",
   "nbconvert_exporter": "python",
   "pygments_lexer": "ipython3",
   "version": "3.7.8"
  },
  "metadata": {
   "interpreter": {
    "hash": "c7af2a1d9731e5b035c5aa661337d83c098a2613f965c0e1ee3e9f0a83a6e0cd"
   }
  }
 },
 "nbformat": 4,
 "nbformat_minor": 5
}
