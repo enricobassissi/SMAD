{
 "cells": [
  {
   "cell_type": "markdown",
   "id": "postal-radar",
   "metadata": {},
   "source": [
    "# import section"
   ]
  },
  {
   "cell_type": "code",
   "execution_count": null,
   "id": "helpful-hands",
   "metadata": {},
   "outputs": [],
   "source": [
    "from astroquery.jplhorizons import Horizons\n",
    "from astroquery.jplsbdb import SBDB\n",
    "from astropy.table import QTable\n",
    "import astropy.units as u\n",
    "\n",
    "import pandas as pd\n",
    "import numpy as np\n",
    "import requests\n",
    "from pprint import pprint\n",
    "from array import *"
   ]
  },
  {
   "cell_type": "markdown",
   "id": "adverse-seeking",
   "metadata": {},
   "source": [
    "# ephemeris"
   ]
  },
  {
   "cell_type": "code",
   "execution_count": null,
   "id": "suspected-concept",
   "metadata": {},
   "outputs": [],
   "source": [
    "obj = Horizons(id='Ceres',  # id name or id number\n",
    "               location='568', # from maunakea pov\n",
    "               epochs=2458133.33546) # specific epoch\n",
    "print(obj)\n",
    "# JPLHorizons instance \"Ceres\"; location=568, epochs=[2458133.33546], id_type=smallbody"
   ]
  },
  {
   "cell_type": "code",
   "execution_count": null,
   "id": "hundred-independence",
   "metadata": {},
   "outputs": [],
   "source": [
    "obj = Horizons(id='Ceres', \n",
    "               location='568', # maunakea\n",
    "               epochs={'start':'2010-01-01', 'stop':'2010-03-01', \n",
    "                       'step':'10d'}) # range of dates with step size\n",
    "eph = obj.ephemerides()\n",
    "print(eph)"
   ]
  },
  {
   "cell_type": "code",
   "execution_count": null,
   "id": "cooperative-nigeria",
   "metadata": {},
   "outputs": [],
   "source": [
    "# to see the argument that we can extract\n",
    "print(eph.columns)"
   ]
  },
  {
   "cell_type": "code",
   "execution_count": null,
   "id": "agreed-pride",
   "metadata": {},
   "outputs": [],
   "source": [
    "obj = Horizons(id='433', # always ceres\n",
    "               location='500@10', # position relative to the sun\n",
    "                epochs=2458133.33546) # specific time\n",
    "el = obj.elements() # keplerian elements\n",
    "print(el)"
   ]
  },
  {
   "cell_type": "code",
   "execution_count": null,
   "id": "pointed-george",
   "metadata": {},
   "outputs": [],
   "source": [
    "print(el.columns)"
   ]
  },
  {
   "cell_type": "code",
   "execution_count": null,
   "id": "several-costume",
   "metadata": {},
   "outputs": [],
   "source": [
    "obj = Horizons(id='2012 TC4', # micro asteroid of apollo class, d = 10 m\n",
    "               location='257', # from goldstone\n",
    "               epochs={'start':'2017-10-01', 'stop':'2017-10-02',\n",
    "                       'step':'10m'})\n",
    "vec = obj.vectors() # vectorial elements\n",
    "print(vec)"
   ]
  },
  {
   "cell_type": "code",
   "execution_count": null,
   "id": "secure-price",
   "metadata": {},
   "outputs": [],
   "source": [
    "print(vec.columns)"
   ]
  },
  {
   "cell_type": "markdown",
   "id": "blond-visibility",
   "metadata": {},
   "source": [
    "# sentry data"
   ]
  },
  {
   "cell_type": "code",
   "execution_count": null,
   "id": "limiting-request",
   "metadata": {},
   "outputs": [],
   "source": [
    "# url = f'https://api.nasa.gov/neo/rest/v1/feed?start_date={start_date}&end_date={end_date}&api_key={api_key}'\n",
    "# object = '101955' # bennu\n",
    "object = '2010 MY112'\n",
    "url = f'https://ssd-api.jpl.nasa.gov/sentry.api?des={object}'\n",
    "r = requests.get(url)\n",
    "data = r.json()\n",
    "len(data)\n",
    "pprint(data)"
   ]
  },
  {
   "cell_type": "code",
   "execution_count": null,
   "id": "friendly-honey",
   "metadata": {},
   "outputs": [],
   "source": [
    "H = data['summary']['h'] "
   ]
  },
  {
   "cell_type": "code",
   "execution_count": null,
   "id": "engaging-package",
   "metadata": {},
   "outputs": [],
   "source": [
    "impact_data = data['data']\n",
    "id_end = len(impact_data)\n",
    "id_end"
   ]
  },
  {
   "cell_type": "code",
   "execution_count": null,
   "id": "quiet-furniture",
   "metadata": {},
   "outputs": [],
   "source": [
    "impact_data[id_end - 1]"
   ]
  },
  {
   "cell_type": "code",
   "execution_count": null,
   "id": "changing-pipeline",
   "metadata": {},
   "outputs": [],
   "source": [
    "impact_data[0]['date']"
   ]
  },
  {
   "cell_type": "code",
   "execution_count": null,
   "id": "conservative-treasury",
   "metadata": {},
   "outputs": [],
   "source": [
    "date_impacts = []\n",
    "date_impacts"
   ]
  },
  {
   "cell_type": "code",
   "execution_count": null,
   "id": "generous-familiar",
   "metadata": {},
   "outputs": [],
   "source": [
    "date_impacts.insert(0, impact_data[0]['date'])\n",
    "date_impacts.insert(1, impact_data[3]['date'])\n",
    "date_impacts"
   ]
  },
  {
   "cell_type": "code",
   "execution_count": null,
   "id": "viral-madness",
   "metadata": {},
   "outputs": [],
   "source": [
    "date_impacts = []\n",
    "for impact_event in range(0,id_end-1):\n",
    "    date_impacts.insert(impact_event, impact_data[impact_event]['date'])\n",
    "pprint(date_impacts)\n",
    "len(date_impacts)"
   ]
  },
  {
   "cell_type": "markdown",
   "id": "awful-treasure",
   "metadata": {},
   "source": [
    "# sbdb"
   ]
  },
  {
   "cell_type": "code",
   "execution_count": null,
   "id": "musical-clerk",
   "metadata": {},
   "outputs": [],
   "source": [
    "sbdb = SBDB.query('3552')\n",
    "print(sbdb)"
   ]
  },
  {
   "cell_type": "code",
   "execution_count": null,
   "id": "modified-subcommittee",
   "metadata": {},
   "outputs": [],
   "source": [
    "pprint(SBDB.schematic(sbdb))"
   ]
  },
  {
   "cell_type": "code",
   "execution_count": null,
   "id": "organized-meeting",
   "metadata": {
    "scrolled": true
   },
   "outputs": [],
   "source": [
    "sbdb = SBDB.query('2016NL56', neo_only=True)\n",
    "sbdb.keys()\n",
    "sbdb"
   ]
  },
  {
   "cell_type": "code",
   "execution_count": null,
   "id": "controlling-handling",
   "metadata": {},
   "outputs": [],
   "source": [
    "sbdb = SBDB.query('2010MY112', neo_only=True, full_precision=True, phys=True)\n",
    "sbdb.keys()\n",
    "pprint(sbdb)"
   ]
  },
  {
   "cell_type": "code",
   "execution_count": null,
   "id": "coordinate-ethics",
   "metadata": {},
   "outputs": [],
   "source": [
    "sbdb['object']['orbit_class']['code']"
   ]
  },
  {
   "cell_type": "code",
   "execution_count": null,
   "id": "chemical-powell",
   "metadata": {},
   "outputs": [],
   "source": [
    "neo_to_evaluate = ['2001VB', '2014HN197', '2007FT3', '2012QD8', '2005ED224', '2014ML67', '2017AE21', '2007KE4', \n",
    "                   '2005QK76', '2008JL3', '2021EU', '2020XE', '2006DM63', '2011DU9', '2012MF7', '2016NL56', \n",
    "                   '2014MR26', '2017SH33', '2016WN55', '2020FA5', '2017RZ17', '2010MY112', '2018LF16', '2005NX55']\n",
    "H_NEO = []\n",
    "idx = 0\n",
    "for el in neo_to_evaluate:\n",
    "    sbdb = SBDB.query(el, neo_only=True, full_precision=True, phys=True)\n",
    "    if 'H' in sbdb['phys_par'].keys():\n",
    "        H_NEO.insert(idx, sbdb['phys_par']['H'])\n",
    "    else:\n",
    "        H_NEO.insert(idx, 'null info on H')\n",
    "    print(H_NEO[idx])\n",
    "    idx += 1"
   ]
  },
  {
   "cell_type": "code",
   "execution_count": null,
   "id": "demonstrated-europe",
   "metadata": {},
   "outputs": [],
   "source": [
    "type_NEO = []\n",
    "idx = 0\n",
    "for el in neo_to_evaluate:\n",
    "    sbdb = SBDB.query(el, neo_only=True, full_precision=True, phys=True)\n",
    "    type_NEO.insert(idx, sbdb['object']['orbit_class']['code'])\n",
    "    print(type_NEO[idx])\n",
    "    idx += 1"
   ]
  },
  {
   "cell_type": "code",
   "execution_count": null,
   "id": "clear-restriction",
   "metadata": {},
   "outputs": [],
   "source": [
    "MOID_NEO = []\n",
    "idx = 0\n",
    "for el in neo_to_evaluate:\n",
    "    sbdb = SBDB.query(el, neo_only=True, full_precision=True, phys=True)\n",
    "    MOID_NEO.insert(idx, sbdb['orbit']['moid'])\n",
    "    print(MOID_NEO[idx])\n",
    "    idx += 1"
   ]
  },
  {
   "cell_type": "code",
   "execution_count": null,
   "id": "absent-dispute",
   "metadata": {},
   "outputs": [],
   "source": [
    "#a = np.array([1, 4, 5], dtype=np.int32)\n",
    "#b = [2.0, 5.0, 8.5]\n",
    "#c = ['x', 'y', 'z']\n",
    "#d = [10, 20, 30] * u.mag\n",
    "# a = np.array(H_NEO[0:20], dtype=np.float64)\n",
    "t = QTable([neo_to_evaluate, H_NEO, type_NEO, MOID_NEO],\n",
    "           names=('name', 'H', 'type', 'MOID'),\n",
    "           meta={'name': 'data table'})\n",
    "\n",
    "t.show_in_notebook()"
   ]
  },
  {
   "cell_type": "code",
   "execution_count": null,
   "id": "confident-decrease",
   "metadata": {},
   "outputs": [],
   "source": []
  }
 ],
 "metadata": {
  "kernelspec": {
   "display_name": "Python 3",
   "language": "python",
   "name": "python3"
  },
  "language_info": {
   "codemirror_mode": {
    "name": "ipython",
    "version": 3
   },
   "file_extension": ".py",
   "mimetype": "text/x-python",
   "name": "python",
   "nbconvert_exporter": "python",
   "pygments_lexer": "ipython3",
   "version": "3.8.5"
  }
 },
 "nbformat": 4,
 "nbformat_minor": 5
}
